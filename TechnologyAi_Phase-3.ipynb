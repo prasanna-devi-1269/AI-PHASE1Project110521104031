{
 "cells": [
  {
   "cell_type": "markdown",
   "id": "30ad8ab6",
   "metadata": {},
   "source": [
    "# Market Basket Insights - Phase 3 Development Phase  Loading and Prepocessing The Transaction Data"
   ]
  },
  {
   "cell_type": "markdown",
   "id": "592426dc",
   "metadata": {
    "papermill": {
     "duration": 0.018626,
     "end_time": "2023-07-09T07:34:50.408802",
     "exception": false,
     "start_time": "2023-07-09T07:34:50.390176",
     "status": "completed"
    },
    "tags": []
   },
   "source": [
    "* [<span style='color:#f0bc22'> 1. |</span> Loading and Cleaning data](#section-one)\n",
    "* [<span style='color:#f0bc22'> 2. |</span> Exploratoty Data Analysis](#section-two)\n",
    "* [<span style='color:#f0bc22'> 3. |</span> Market Basket Analysis](#section-three)\n",
    "* [<span style='color:#f0bc22'> 4. |</span> Conclusion](#section-four)"
   ]
  },
  {
   "cell_type": "code",
   "execution_count": 1,
   "id": "788d45da",
   "metadata": {
    "_cell_guid": "b1076dfc-b9ad-4769-8c92-a6c4dae69d19",
    "_kg_hide-input": true,
    "_kg_hide-output": true,
    "_uuid": "8f2839f25d086af736a60e9eeb907d3b93b6e0e5",
    "execution": {
     "iopub.execute_input": "2023-07-09T07:34:50.447696Z",
     "iopub.status.busy": "2023-07-09T07:34:50.447156Z",
     "iopub.status.idle": "2023-07-09T07:34:52.963507Z",
     "shell.execute_reply": "2023-07-09T07:34:52.962368Z"
    },
    "papermill": {
     "duration": 2.539209,
     "end_time": "2023-07-09T07:34:52.966509",
     "exception": false,
     "start_time": "2023-07-09T07:34:50.427300",
     "status": "completed"
    },
    "tags": []
   },
   "outputs": [
    {
     "name": "stdout",
     "output_type": "stream",
     "text": [
      "/kaggle/input/market-basket-analysis/Assignment-1_Data.xlsx\n",
      "/kaggle/input/market-basket-analysis/Assignment-1_Data.csv\n"
     ]
    }
   ],
   "source": [
    "import numpy as np\n",
    "import pandas as pd\n",
    "import matplotlib.pyplot as plt\n",
    "import seaborn as sns\n",
    "%matplotlib inline\n",
    "import plotly.express as px\n",
    "\n",
    "import warnings\n",
    "warnings.filterwarnings('ignore')\n",
    "\n",
    "import os\n",
    "for dirname, _, filenames in os.walk('/kaggle/input'):\n",
    "    for filename in filenames:\n",
    "        print(os.path.join(dirname, filename))"
   ]
  },
  {
   "cell_type": "markdown",
   "id": "2e1f32f6",
   "metadata": {
    "papermill": {
     "duration": 0.018229,
     "end_time": "2023-07-09T07:34:53.003567",
     "exception": false,
     "start_time": "2023-07-09T07:34:52.985338",
     "status": "completed"
    },
    "tags": []
   },
   "source": [
    "<a id=\"section-one\"></a>\n",
    "## <b><span style='color:#f0bc22'> 1. |</span> Loading and Cleaning data"
   ]
  },
  {
   "cell_type": "markdown",
   "id": "07b6c117",
   "metadata": {
    "papermill": {
     "duration": 0.018382,
     "end_time": "2023-07-09T07:34:53.042126",
     "exception": false,
     "start_time": "2023-07-09T07:34:53.023744",
     "status": "completed"
    },
    "tags": []
   },
   "source": [
    "### <b><span style='color:#f0bc22'> 1-1. |</span> Loading data"
   ]
  },
  {
   "cell_type": "code",
   "execution_count": 2,
   "id": "f792dc5e",
   "metadata": {
    "_kg_hide-input": true,
    "execution": {
     "iopub.execute_input": "2023-07-09T07:34:53.081826Z",
     "iopub.status.busy": "2023-07-09T07:34:53.081409Z",
     "iopub.status.idle": "2023-07-09T07:34:54.390082Z",
     "shell.execute_reply": "2023-07-09T07:34:54.389266Z"
    },
    "papermill": {
     "duration": 1.332142,
     "end_time": "2023-07-09T07:34:54.392761",
     "exception": false,
     "start_time": "2023-07-09T07:34:53.060619",
     "status": "completed"
    },
    "tags": []
   },
   "outputs": [
    {
     "data": {
      "text/html": [
       "<div>\n",
       "<style scoped>\n",
       "    .dataframe tbody tr th:only-of-type {\n",
       "        vertical-align: middle;\n",
       "    }\n",
       "\n",
       "    .dataframe tbody tr th {\n",
       "        vertical-align: top;\n",
       "    }\n",
       "\n",
       "    .dataframe thead th {\n",
       "        text-align: right;\n",
       "    }\n",
       "</style>\n",
       "<table border=\"1\" class=\"dataframe\">\n",
       "  <thead>\n",
       "    <tr style=\"text-align: right;\">\n",
       "      <th></th>\n",
       "      <th>BillNo</th>\n",
       "      <th>Itemname</th>\n",
       "      <th>Quantity</th>\n",
       "      <th>Date</th>\n",
       "      <th>Price</th>\n",
       "      <th>CustomerID</th>\n",
       "      <th>Country</th>\n",
       "    </tr>\n",
       "  </thead>\n",
       "  <tbody>\n",
       "    <tr>\n",
       "      <th>0</th>\n",
       "      <td>536365</td>\n",
       "      <td>WHITE HANGING HEART T-LIGHT HOLDER</td>\n",
       "      <td>6</td>\n",
       "      <td>01.12.2010 08:26</td>\n",
       "      <td>2,55</td>\n",
       "      <td>17850.0</td>\n",
       "      <td>United Kingdom</td>\n",
       "    </tr>\n",
       "    <tr>\n",
       "      <th>1</th>\n",
       "      <td>536365</td>\n",
       "      <td>WHITE METAL LANTERN</td>\n",
       "      <td>6</td>\n",
       "      <td>01.12.2010 08:26</td>\n",
       "      <td>3,39</td>\n",
       "      <td>17850.0</td>\n",
       "      <td>United Kingdom</td>\n",
       "    </tr>\n",
       "    <tr>\n",
       "      <th>2</th>\n",
       "      <td>536365</td>\n",
       "      <td>CREAM CUPID HEARTS COAT HANGER</td>\n",
       "      <td>8</td>\n",
       "      <td>01.12.2010 08:26</td>\n",
       "      <td>2,75</td>\n",
       "      <td>17850.0</td>\n",
       "      <td>United Kingdom</td>\n",
       "    </tr>\n",
       "    <tr>\n",
       "      <th>3</th>\n",
       "      <td>536365</td>\n",
       "      <td>KNITTED UNION FLAG HOT WATER BOTTLE</td>\n",
       "      <td>6</td>\n",
       "      <td>01.12.2010 08:26</td>\n",
       "      <td>3,39</td>\n",
       "      <td>17850.0</td>\n",
       "      <td>United Kingdom</td>\n",
       "    </tr>\n",
       "    <tr>\n",
       "      <th>4</th>\n",
       "      <td>536365</td>\n",
       "      <td>RED WOOLLY HOTTIE WHITE HEART.</td>\n",
       "      <td>6</td>\n",
       "      <td>01.12.2010 08:26</td>\n",
       "      <td>3,39</td>\n",
       "      <td>17850.0</td>\n",
       "      <td>United Kingdom</td>\n",
       "    </tr>\n",
       "  </tbody>\n",
       "</table>\n",
       "</div>"
      ],
      "text/plain": [
       "   BillNo                             Itemname  Quantity              Date  \\\n",
       "0  536365   WHITE HANGING HEART T-LIGHT HOLDER         6  01.12.2010 08:26   \n",
       "1  536365                  WHITE METAL LANTERN         6  01.12.2010 08:26   \n",
       "2  536365       CREAM CUPID HEARTS COAT HANGER         8  01.12.2010 08:26   \n",
       "3  536365  KNITTED UNION FLAG HOT WATER BOTTLE         6  01.12.2010 08:26   \n",
       "4  536365       RED WOOLLY HOTTIE WHITE HEART.         6  01.12.2010 08:26   \n",
       "\n",
       "  Price  CustomerID         Country  \n",
       "0  2,55     17850.0  United Kingdom  \n",
       "1  3,39     17850.0  United Kingdom  \n",
       "2  2,75     17850.0  United Kingdom  \n",
       "3  3,39     17850.0  United Kingdom  \n",
       "4  3,39     17850.0  United Kingdom  "
      ]
     },
     "execution_count": 2,
     "metadata": {},
     "output_type": "execute_result"
    }
   ],
   "source": [
    "df=pd.read_csv('/kaggle/input/market-basket-analysis/Assignment-1_Data.csv',delimiter=';')\n",
    "df.head()"
   ]
  },
  {
   "cell_type": "code",
   "execution_count": 3,
   "id": "a42caf12",
   "metadata": {
    "_kg_hide-input": true,
    "execution": {
     "iopub.execute_input": "2023-07-09T07:34:54.433370Z",
     "iopub.status.busy": "2023-07-09T07:34:54.432572Z",
     "iopub.status.idle": "2023-07-09T07:34:55.296419Z",
     "shell.execute_reply": "2023-07-09T07:34:55.294869Z"
    },
    "papermill": {
     "duration": 0.886855,
     "end_time": "2023-07-09T07:34:55.299017",
     "exception": false,
     "start_time": "2023-07-09T07:34:54.412162",
     "status": "completed"
    },
    "tags": []
   },
   "outputs": [
    {
     "name": "stdout",
     "output_type": "stream",
     "text": [
      "<class 'pandas.core.frame.DataFrame'>\n",
      "RangeIndex: 522064 entries, 0 to 522063\n",
      "Data columns (total 7 columns):\n",
      " #   Column      Non-Null Count   Dtype  \n",
      "---  ------      --------------   -----  \n",
      " 0   BillNo      522064 non-null  object \n",
      " 1   Itemname    520609 non-null  object \n",
      " 2   Quantity    522064 non-null  int64  \n",
      " 3   Date        522064 non-null  object \n",
      " 4   Price       522064 non-null  object \n",
      " 5   CustomerID  388023 non-null  float64\n",
      " 6   Country     522064 non-null  object \n",
      "dtypes: float64(1), int64(1), object(5)\n",
      "memory usage: 27.9+ MB\n"
     ]
    }
   ],
   "source": [
    "df.info()"
   ]
  },
  {
   "cell_type": "code",
   "execution_count": 4,
   "id": "62f2aed8",
   "metadata": {
    "_kg_hide-input": true,
    "execution": {
     "iopub.execute_input": "2023-07-09T07:34:55.339381Z",
     "iopub.status.busy": "2023-07-09T07:34:55.337980Z",
     "iopub.status.idle": "2023-07-09T07:34:56.178819Z",
     "shell.execute_reply": "2023-07-09T07:34:56.177717Z"
    },
    "papermill": {
     "duration": 0.863329,
     "end_time": "2023-07-09T07:34:56.181348",
     "exception": false,
     "start_time": "2023-07-09T07:34:55.318019",
     "status": "completed"
    },
    "tags": []
   },
   "outputs": [
    {
     "data": {
      "text/plain": [
       "BillNo             0\n",
       "Itemname        1455\n",
       "Quantity           0\n",
       "Date               0\n",
       "Price              0\n",
       "CustomerID    134041\n",
       "Country            0\n",
       "dtype: int64"
      ]
     },
     "execution_count": 4,
     "metadata": {},
     "output_type": "execute_result"
    }
   ],
   "source": [
    "df.isnull().sum()"
   ]
  },
  {
   "cell_type": "markdown",
   "id": "c4d3f32d",
   "metadata": {
    "papermill": {
     "duration": 0.018642,
     "end_time": "2023-07-09T07:34:56.218981",
     "exception": false,
     "start_time": "2023-07-09T07:34:56.200339",
     "status": "completed"
    },
    "tags": []
   },
   "source": [
    "### <b><span style='color:#f0bc22'> 1-2. |</span> Dropping data with **`negative`** or **`zero quantity`**"
   ]
  },
  {
   "cell_type": "code",
   "execution_count": 5,
   "id": "1ee1d7cc",
   "metadata": {
    "_kg_hide-input": true,
    "_kg_hide-output": true,
    "execution": {
     "iopub.execute_input": "2023-07-09T07:34:56.260069Z",
     "iopub.status.busy": "2023-07-09T07:34:56.259643Z",
     "iopub.status.idle": "2023-07-09T07:34:56.278808Z",
     "shell.execute_reply": "2023-07-09T07:34:56.277710Z"
    },
    "papermill": {
     "duration": 0.042741,
     "end_time": "2023-07-09T07:34:56.281197",
     "exception": false,
     "start_time": "2023-07-09T07:34:56.238456",
     "status": "completed"
    },
    "tags": []
   },
   "outputs": [
    {
     "data": {
      "text/html": [
       "<div>\n",
       "<style scoped>\n",
       "    .dataframe tbody tr th:only-of-type {\n",
       "        vertical-align: middle;\n",
       "    }\n",
       "\n",
       "    .dataframe tbody tr th {\n",
       "        vertical-align: top;\n",
       "    }\n",
       "\n",
       "    .dataframe thead th {\n",
       "        text-align: right;\n",
       "    }\n",
       "</style>\n",
       "<table border=\"1\" class=\"dataframe\">\n",
       "  <thead>\n",
       "    <tr style=\"text-align: right;\">\n",
       "      <th></th>\n",
       "      <th>BillNo</th>\n",
       "      <th>Itemname</th>\n",
       "      <th>Quantity</th>\n",
       "      <th>Date</th>\n",
       "      <th>Price</th>\n",
       "      <th>CustomerID</th>\n",
       "      <th>Country</th>\n",
       "    </tr>\n",
       "  </thead>\n",
       "  <tbody>\n",
       "    <tr>\n",
       "      <th>2359</th>\n",
       "      <td>536589</td>\n",
       "      <td>NaN</td>\n",
       "      <td>-10</td>\n",
       "      <td>01.12.2010 16:50</td>\n",
       "      <td>0</td>\n",
       "      <td>NaN</td>\n",
       "      <td>United Kingdom</td>\n",
       "    </tr>\n",
       "    <tr>\n",
       "      <th>4289</th>\n",
       "      <td>536764</td>\n",
       "      <td>NaN</td>\n",
       "      <td>-38</td>\n",
       "      <td>02.12.2010 14:42</td>\n",
       "      <td>0</td>\n",
       "      <td>NaN</td>\n",
       "      <td>United Kingdom</td>\n",
       "    </tr>\n",
       "    <tr>\n",
       "      <th>6998</th>\n",
       "      <td>536996</td>\n",
       "      <td>NaN</td>\n",
       "      <td>-20</td>\n",
       "      <td>03.12.2010 15:30</td>\n",
       "      <td>0</td>\n",
       "      <td>NaN</td>\n",
       "      <td>United Kingdom</td>\n",
       "    </tr>\n",
       "    <tr>\n",
       "      <th>6999</th>\n",
       "      <td>536997</td>\n",
       "      <td>NaN</td>\n",
       "      <td>-20</td>\n",
       "      <td>03.12.2010 15:30</td>\n",
       "      <td>0</td>\n",
       "      <td>NaN</td>\n",
       "      <td>United Kingdom</td>\n",
       "    </tr>\n",
       "    <tr>\n",
       "      <th>7000</th>\n",
       "      <td>536998</td>\n",
       "      <td>NaN</td>\n",
       "      <td>-6</td>\n",
       "      <td>03.12.2010 15:30</td>\n",
       "      <td>0</td>\n",
       "      <td>NaN</td>\n",
       "      <td>United Kingdom</td>\n",
       "    </tr>\n",
       "  </tbody>\n",
       "</table>\n",
       "</div>"
      ],
      "text/plain": [
       "      BillNo Itemname  Quantity              Date Price  CustomerID  \\\n",
       "2359  536589      NaN       -10  01.12.2010 16:50     0         NaN   \n",
       "4289  536764      NaN       -38  02.12.2010 14:42     0         NaN   \n",
       "6998  536996      NaN       -20  03.12.2010 15:30     0         NaN   \n",
       "6999  536997      NaN       -20  03.12.2010 15:30     0         NaN   \n",
       "7000  536998      NaN        -6  03.12.2010 15:30     0         NaN   \n",
       "\n",
       "             Country  \n",
       "2359  United Kingdom  \n",
       "4289  United Kingdom  \n",
       "6998  United Kingdom  \n",
       "6999  United Kingdom  \n",
       "7000  United Kingdom  "
      ]
     },
     "execution_count": 5,
     "metadata": {},
     "output_type": "execute_result"
    }
   ],
   "source": [
    "df.loc[df['Quantity']<=0][:5]"
   ]
  },
  {
   "cell_type": "code",
   "execution_count": 6,
   "id": "3600e6c9",
   "metadata": {
    "execution": {
     "iopub.execute_input": "2023-07-09T07:34:56.322034Z",
     "iopub.status.busy": "2023-07-09T07:34:56.321244Z",
     "iopub.status.idle": "2023-07-09T07:34:56.375705Z",
     "shell.execute_reply": "2023-07-09T07:34:56.374584Z"
    },
    "papermill": {
     "duration": 0.078132,
     "end_time": "2023-07-09T07:34:56.378468",
     "exception": false,
     "start_time": "2023-07-09T07:34:56.300336",
     "status": "completed"
    },
    "tags": []
   },
   "outputs": [],
   "source": [
    "df=df.loc[df['Quantity']>0]"
   ]
  },
  {
   "cell_type": "markdown",
   "id": "e6adb983",
   "metadata": {
    "papermill": {
     "duration": 0.019001,
     "end_time": "2023-07-09T07:34:56.416737",
     "exception": false,
     "start_time": "2023-07-09T07:34:56.397736",
     "status": "completed"
    },
    "tags": []
   },
   "source": [
    "### <b><span style='color:#f0bc22'> 1-3. |</span> Dropping data with **`zero price`**"
   ]
  },
  {
   "cell_type": "code",
   "execution_count": 7,
   "id": "3a6eb728",
   "metadata": {
    "_kg_hide-input": true,
    "_kg_hide-output": true,
    "execution": {
     "iopub.execute_input": "2023-07-09T07:34:56.457267Z",
     "iopub.status.busy": "2023-07-09T07:34:56.456886Z",
     "iopub.status.idle": "2023-07-09T07:34:56.550074Z",
     "shell.execute_reply": "2023-07-09T07:34:56.548800Z"
    },
    "papermill": {
     "duration": 0.116755,
     "end_time": "2023-07-09T07:34:56.552807",
     "exception": false,
     "start_time": "2023-07-09T07:34:56.436052",
     "status": "completed"
    },
    "tags": []
   },
   "outputs": [
    {
     "data": {
      "text/html": [
       "<div>\n",
       "<style scoped>\n",
       "    .dataframe tbody tr th:only-of-type {\n",
       "        vertical-align: middle;\n",
       "    }\n",
       "\n",
       "    .dataframe tbody tr th {\n",
       "        vertical-align: top;\n",
       "    }\n",
       "\n",
       "    .dataframe thead th {\n",
       "        text-align: right;\n",
       "    }\n",
       "</style>\n",
       "<table border=\"1\" class=\"dataframe\">\n",
       "  <thead>\n",
       "    <tr style=\"text-align: right;\">\n",
       "      <th></th>\n",
       "      <th>BillNo</th>\n",
       "      <th>Itemname</th>\n",
       "      <th>Quantity</th>\n",
       "      <th>Date</th>\n",
       "      <th>Price</th>\n",
       "      <th>CustomerID</th>\n",
       "      <th>Country</th>\n",
       "    </tr>\n",
       "  </thead>\n",
       "  <tbody>\n",
       "    <tr>\n",
       "      <th>613</th>\n",
       "      <td>536414</td>\n",
       "      <td>NaN</td>\n",
       "      <td>56</td>\n",
       "      <td>01.12.2010 11:52</td>\n",
       "      <td>0</td>\n",
       "      <td>NaN</td>\n",
       "      <td>United Kingdom</td>\n",
       "    </tr>\n",
       "    <tr>\n",
       "      <th>1937</th>\n",
       "      <td>536545</td>\n",
       "      <td>NaN</td>\n",
       "      <td>1</td>\n",
       "      <td>01.12.2010 14:32</td>\n",
       "      <td>0</td>\n",
       "      <td>NaN</td>\n",
       "      <td>United Kingdom</td>\n",
       "    </tr>\n",
       "    <tr>\n",
       "      <th>1938</th>\n",
       "      <td>536546</td>\n",
       "      <td>NaN</td>\n",
       "      <td>1</td>\n",
       "      <td>01.12.2010 14:33</td>\n",
       "      <td>0</td>\n",
       "      <td>NaN</td>\n",
       "      <td>United Kingdom</td>\n",
       "    </tr>\n",
       "    <tr>\n",
       "      <th>1939</th>\n",
       "      <td>536547</td>\n",
       "      <td>NaN</td>\n",
       "      <td>1</td>\n",
       "      <td>01.12.2010 14:33</td>\n",
       "      <td>0</td>\n",
       "      <td>NaN</td>\n",
       "      <td>United Kingdom</td>\n",
       "    </tr>\n",
       "    <tr>\n",
       "      <th>1940</th>\n",
       "      <td>536549</td>\n",
       "      <td>NaN</td>\n",
       "      <td>1</td>\n",
       "      <td>01.12.2010 14:34</td>\n",
       "      <td>0</td>\n",
       "      <td>NaN</td>\n",
       "      <td>United Kingdom</td>\n",
       "    </tr>\n",
       "  </tbody>\n",
       "</table>\n",
       "</div>"
      ],
      "text/plain": [
       "      BillNo Itemname  Quantity              Date Price  CustomerID  \\\n",
       "613   536414      NaN        56  01.12.2010 11:52     0         NaN   \n",
       "1937  536545      NaN         1  01.12.2010 14:32     0         NaN   \n",
       "1938  536546      NaN         1  01.12.2010 14:33     0         NaN   \n",
       "1939  536547      NaN         1  01.12.2010 14:33     0         NaN   \n",
       "1940  536549      NaN         1  01.12.2010 14:34     0         NaN   \n",
       "\n",
       "             Country  \n",
       "613   United Kingdom  \n",
       "1937  United Kingdom  \n",
       "1938  United Kingdom  \n",
       "1939  United Kingdom  \n",
       "1940  United Kingdom  "
      ]
     },
     "execution_count": 7,
     "metadata": {},
     "output_type": "execute_result"
    }
   ],
   "source": [
    "df.loc[df['Price']<='0'][:5\n",
    "                        ]"
   ]
  },
  {
   "cell_type": "code",
   "execution_count": 8,
   "id": "b2c3718e",
   "metadata": {
    "execution": {
     "iopub.execute_input": "2023-07-09T07:34:56.593873Z",
     "iopub.status.busy": "2023-07-09T07:34:56.593457Z",
     "iopub.status.idle": "2023-07-09T07:34:56.762035Z",
     "shell.execute_reply": "2023-07-09T07:34:56.760725Z"
    },
    "papermill": {
     "duration": 0.193621,
     "end_time": "2023-07-09T07:34:56.766169",
     "exception": false,
     "start_time": "2023-07-09T07:34:56.572548",
     "status": "completed"
    },
    "tags": []
   },
   "outputs": [],
   "source": [
    "df=df.loc[df['Price']>'0']"
   ]
  },
  {
   "cell_type": "markdown",
   "id": "8e8bb038",
   "metadata": {
    "papermill": {
     "duration": 0.02052,
     "end_time": "2023-07-09T07:34:56.814267",
     "exception": false,
     "start_time": "2023-07-09T07:34:56.793747",
     "status": "completed"
    },
    "tags": []
   },
   "source": [
    "### <b><span style='color:#f0bc22'> 1-4. |</span> Dropping **`Non-product`** data."
   ]
  },
  {
   "cell_type": "code",
   "execution_count": 9,
   "id": "4931fa53",
   "metadata": {
    "_kg_hide-input": true,
    "_kg_hide-output": true,
    "execution": {
     "iopub.execute_input": "2023-07-09T07:34:56.856261Z",
     "iopub.status.busy": "2023-07-09T07:34:56.855875Z",
     "iopub.status.idle": "2023-07-09T07:34:57.218296Z",
     "shell.execute_reply": "2023-07-09T07:34:57.216987Z"
    },
    "papermill": {
     "duration": 0.38627,
     "end_time": "2023-07-09T07:34:57.220824",
     "exception": false,
     "start_time": "2023-07-09T07:34:56.834554",
     "status": "completed"
    },
    "tags": []
   },
   "outputs": [
    {
     "data": {
      "text/html": [
       "<div>\n",
       "<style scoped>\n",
       "    .dataframe tbody tr th:only-of-type {\n",
       "        vertical-align: middle;\n",
       "    }\n",
       "\n",
       "    .dataframe tbody tr th {\n",
       "        vertical-align: top;\n",
       "    }\n",
       "\n",
       "    .dataframe thead th {\n",
       "        text-align: right;\n",
       "    }\n",
       "</style>\n",
       "<table border=\"1\" class=\"dataframe\">\n",
       "  <thead>\n",
       "    <tr style=\"text-align: right;\">\n",
       "      <th></th>\n",
       "      <th>BillNo</th>\n",
       "      <th>Itemname</th>\n",
       "      <th>Quantity</th>\n",
       "      <th>Date</th>\n",
       "      <th>Price</th>\n",
       "      <th>CustomerID</th>\n",
       "      <th>Country</th>\n",
       "    </tr>\n",
       "  </thead>\n",
       "  <tbody>\n",
       "    <tr>\n",
       "      <th>45</th>\n",
       "      <td>536370</td>\n",
       "      <td>POSTAGE</td>\n",
       "      <td>3</td>\n",
       "      <td>01.12.2010 08:45</td>\n",
       "      <td>18</td>\n",
       "      <td>12583.0</td>\n",
       "      <td>France</td>\n",
       "    </tr>\n",
       "    <tr>\n",
       "      <th>377</th>\n",
       "      <td>536403</td>\n",
       "      <td>POSTAGE</td>\n",
       "      <td>1</td>\n",
       "      <td>01.12.2010 11:27</td>\n",
       "      <td>15</td>\n",
       "      <td>12791.0</td>\n",
       "      <td>Netherlands</td>\n",
       "    </tr>\n",
       "    <tr>\n",
       "      <th>1113</th>\n",
       "      <td>536527</td>\n",
       "      <td>POSTAGE</td>\n",
       "      <td>1</td>\n",
       "      <td>01.12.2010 13:04</td>\n",
       "      <td>18</td>\n",
       "      <td>12662.0</td>\n",
       "      <td>Germany</td>\n",
       "    </tr>\n",
       "    <tr>\n",
       "      <th>1781</th>\n",
       "      <td>536544</td>\n",
       "      <td>DOTCOM POSTAGE</td>\n",
       "      <td>1</td>\n",
       "      <td>01.12.2010 14:32</td>\n",
       "      <td>569,77</td>\n",
       "      <td>NaN</td>\n",
       "      <td>United Kingdom</td>\n",
       "    </tr>\n",
       "    <tr>\n",
       "      <th>2192</th>\n",
       "      <td>536569</td>\n",
       "      <td>Manual</td>\n",
       "      <td>1</td>\n",
       "      <td>01.12.2010 15:35</td>\n",
       "      <td>1,25</td>\n",
       "      <td>16274.0</td>\n",
       "      <td>United Kingdom</td>\n",
       "    </tr>\n",
       "  </tbody>\n",
       "</table>\n",
       "</div>"
      ],
      "text/plain": [
       "      BillNo        Itemname  Quantity              Date   Price  CustomerID  \\\n",
       "45    536370         POSTAGE         3  01.12.2010 08:45      18     12583.0   \n",
       "377   536403         POSTAGE         1  01.12.2010 11:27      15     12791.0   \n",
       "1113  536527         POSTAGE         1  01.12.2010 13:04      18     12662.0   \n",
       "1781  536544  DOTCOM POSTAGE         1  01.12.2010 14:32  569,77         NaN   \n",
       "2192  536569          Manual         1  01.12.2010 15:35    1,25     16274.0   \n",
       "\n",
       "             Country  \n",
       "45            France  \n",
       "377      Netherlands  \n",
       "1113         Germany  \n",
       "1781  United Kingdom  \n",
       "2192  United Kingdom  "
      ]
     },
     "execution_count": 9,
     "metadata": {},
     "output_type": "execute_result"
    }
   ],
   "source": [
    "df.loc[(df['Itemname']=='POSTAGE')|(df['Itemname']=='DOTCOM POSTAGE')|(df['Itemname']=='Adjust bad debt')|(df['Itemname']=='Manual')].head()"
   ]
  },
  {
   "cell_type": "code",
   "execution_count": 10,
   "id": "80457d5a",
   "metadata": {
    "_kg_hide-output": false,
    "execution": {
     "iopub.execute_input": "2023-07-09T07:34:57.263317Z",
     "iopub.status.busy": "2023-07-09T07:34:57.262536Z",
     "iopub.status.idle": "2023-07-09T07:34:57.644569Z",
     "shell.execute_reply": "2023-07-09T07:34:57.643659Z"
    },
    "papermill": {
     "duration": 0.406739,
     "end_time": "2023-07-09T07:34:57.647672",
     "exception": false,
     "start_time": "2023-07-09T07:34:57.240933",
     "status": "completed"
    },
    "tags": []
   },
   "outputs": [],
   "source": [
    "df=df.loc[(df['Itemname']!='POSTAGE')&(df['Itemname']!='DOTCOM POSTAGE')&(df['Itemname']!='Adjust bad debt')&(df['Itemname']!='Manual')]"
   ]
  },
  {
   "cell_type": "markdown",
   "id": "cc9fb0a4",
   "metadata": {
    "papermill": {
     "duration": 0.01951,
     "end_time": "2023-07-09T07:34:57.690614",
     "exception": false,
     "start_time": "2023-07-09T07:34:57.671104",
     "status": "completed"
    },
    "tags": []
   },
   "source": [
    "### <b><span style='color:#f0bc22'> 1-5. |</span> Filling **`null`** data"
   ]
  },
  {
   "cell_type": "code",
   "execution_count": 11,
   "id": "64a39266",
   "metadata": {
    "_kg_hide-input": true,
    "_kg_hide-output": true,
    "execution": {
     "iopub.execute_input": "2023-07-09T07:34:57.732596Z",
     "iopub.status.busy": "2023-07-09T07:34:57.731941Z",
     "iopub.status.idle": "2023-07-09T07:34:58.567622Z",
     "shell.execute_reply": "2023-07-09T07:34:58.566526Z"
    },
    "papermill": {
     "duration": 0.859654,
     "end_time": "2023-07-09T07:34:58.570343",
     "exception": false,
     "start_time": "2023-07-09T07:34:57.710689",
     "status": "completed"
    },
    "tags": []
   },
   "outputs": [
    {
     "data": {
      "text/plain": [
       "BillNo             0\n",
       "Itemname           0\n",
       "Quantity           0\n",
       "Date               0\n",
       "Price              0\n",
       "CustomerID    130813\n",
       "Country            0\n",
       "dtype: int64"
      ]
     },
     "execution_count": 11,
     "metadata": {},
     "output_type": "execute_result"
    }
   ],
   "source": [
    "df.isnull().sum()"
   ]
  },
  {
   "cell_type": "code",
   "execution_count": 12,
   "id": "deb0a447",
   "metadata": {
    "execution": {
     "iopub.execute_input": "2023-07-09T07:34:58.612647Z",
     "iopub.status.busy": "2023-07-09T07:34:58.612191Z",
     "iopub.status.idle": "2023-07-09T07:35:00.585796Z",
     "shell.execute_reply": "2023-07-09T07:35:00.584717Z"
    },
    "papermill": {
     "duration": 1.997724,
     "end_time": "2023-07-09T07:35:00.588166",
     "exception": false,
     "start_time": "2023-07-09T07:34:58.590442",
     "status": "completed"
    },
    "tags": []
   },
   "outputs": [
    {
     "data": {
      "text/plain": [
       "BillNo        0\n",
       "Itemname      0\n",
       "Quantity      0\n",
       "Date          0\n",
       "Price         0\n",
       "CustomerID    0\n",
       "Country       0\n",
       "dtype: int64"
      ]
     },
     "execution_count": 12,
     "metadata": {},
     "output_type": "execute_result"
    }
   ],
   "source": [
    "df=df.fillna('-')\n",
    "df.isnull().sum()"
   ]
  },
  {
   "cell_type": "markdown",
   "id": "b1037bdd",
   "metadata": {
    "papermill": {
     "duration": 0.020464,
     "end_time": "2023-07-09T07:35:00.628903",
     "exception": false,
     "start_time": "2023-07-09T07:35:00.608439",
     "status": "completed"
    },
    "tags": []
   },
   "source": [
    "### <b><span style='color:#f0bc22'> 1-6. |</span> Splitting data into **`year`** and **`month`**"
   ]
  },
  {
   "cell_type": "code",
   "execution_count": 13,
   "id": "b1f0b134",
   "metadata": {
    "execution": {
     "iopub.execute_input": "2023-07-09T07:35:00.672457Z",
     "iopub.status.busy": "2023-07-09T07:35:00.671612Z",
     "iopub.status.idle": "2023-07-09T07:35:01.626045Z",
     "shell.execute_reply": "2023-07-09T07:35:01.624914Z"
    },
    "papermill": {
     "duration": 0.979346,
     "end_time": "2023-07-09T07:35:01.628816",
     "exception": false,
     "start_time": "2023-07-09T07:35:00.649470",
     "status": "completed"
    },
    "tags": []
   },
   "outputs": [
    {
     "data": {
      "text/html": [
       "<div>\n",
       "<style scoped>\n",
       "    .dataframe tbody tr th:only-of-type {\n",
       "        vertical-align: middle;\n",
       "    }\n",
       "\n",
       "    .dataframe tbody tr th {\n",
       "        vertical-align: top;\n",
       "    }\n",
       "\n",
       "    .dataframe thead th {\n",
       "        text-align: right;\n",
       "    }\n",
       "</style>\n",
       "<table border=\"1\" class=\"dataframe\">\n",
       "  <thead>\n",
       "    <tr style=\"text-align: right;\">\n",
       "      <th></th>\n",
       "      <th>BillNo</th>\n",
       "      <th>Itemname</th>\n",
       "      <th>Quantity</th>\n",
       "      <th>Date</th>\n",
       "      <th>Price</th>\n",
       "      <th>CustomerID</th>\n",
       "      <th>Country</th>\n",
       "      <th>Year</th>\n",
       "      <th>Month</th>\n",
       "    </tr>\n",
       "  </thead>\n",
       "  <tbody>\n",
       "    <tr>\n",
       "      <th>0</th>\n",
       "      <td>536365</td>\n",
       "      <td>WHITE HANGING HEART T-LIGHT HOLDER</td>\n",
       "      <td>6</td>\n",
       "      <td>01.12.2010 08:26</td>\n",
       "      <td>2,55</td>\n",
       "      <td>17850.0</td>\n",
       "      <td>United Kingdom</td>\n",
       "      <td>2010</td>\n",
       "      <td>12</td>\n",
       "    </tr>\n",
       "    <tr>\n",
       "      <th>1</th>\n",
       "      <td>536365</td>\n",
       "      <td>WHITE METAL LANTERN</td>\n",
       "      <td>6</td>\n",
       "      <td>01.12.2010 08:26</td>\n",
       "      <td>3,39</td>\n",
       "      <td>17850.0</td>\n",
       "      <td>United Kingdom</td>\n",
       "      <td>2010</td>\n",
       "      <td>12</td>\n",
       "    </tr>\n",
       "    <tr>\n",
       "      <th>2</th>\n",
       "      <td>536365</td>\n",
       "      <td>CREAM CUPID HEARTS COAT HANGER</td>\n",
       "      <td>8</td>\n",
       "      <td>01.12.2010 08:26</td>\n",
       "      <td>2,75</td>\n",
       "      <td>17850.0</td>\n",
       "      <td>United Kingdom</td>\n",
       "      <td>2010</td>\n",
       "      <td>12</td>\n",
       "    </tr>\n",
       "    <tr>\n",
       "      <th>3</th>\n",
       "      <td>536365</td>\n",
       "      <td>KNITTED UNION FLAG HOT WATER BOTTLE</td>\n",
       "      <td>6</td>\n",
       "      <td>01.12.2010 08:26</td>\n",
       "      <td>3,39</td>\n",
       "      <td>17850.0</td>\n",
       "      <td>United Kingdom</td>\n",
       "      <td>2010</td>\n",
       "      <td>12</td>\n",
       "    </tr>\n",
       "    <tr>\n",
       "      <th>4</th>\n",
       "      <td>536365</td>\n",
       "      <td>RED WOOLLY HOTTIE WHITE HEART.</td>\n",
       "      <td>6</td>\n",
       "      <td>01.12.2010 08:26</td>\n",
       "      <td>3,39</td>\n",
       "      <td>17850.0</td>\n",
       "      <td>United Kingdom</td>\n",
       "      <td>2010</td>\n",
       "      <td>12</td>\n",
       "    </tr>\n",
       "  </tbody>\n",
       "</table>\n",
       "</div>"
      ],
      "text/plain": [
       "   BillNo                             Itemname  Quantity              Date  \\\n",
       "0  536365   WHITE HANGING HEART T-LIGHT HOLDER         6  01.12.2010 08:26   \n",
       "1  536365                  WHITE METAL LANTERN         6  01.12.2010 08:26   \n",
       "2  536365       CREAM CUPID HEARTS COAT HANGER         8  01.12.2010 08:26   \n",
       "3  536365  KNITTED UNION FLAG HOT WATER BOTTLE         6  01.12.2010 08:26   \n",
       "4  536365       RED WOOLLY HOTTIE WHITE HEART.         6  01.12.2010 08:26   \n",
       "\n",
       "  Price CustomerID         Country  Year Month  \n",
       "0  2,55    17850.0  United Kingdom  2010    12  \n",
       "1  3,39    17850.0  United Kingdom  2010    12  \n",
       "2  2,75    17850.0  United Kingdom  2010    12  \n",
       "3  3,39    17850.0  United Kingdom  2010    12  \n",
       "4  3,39    17850.0  United Kingdom  2010    12  "
      ]
     },
     "execution_count": 13,
     "metadata": {},
     "output_type": "execute_result"
    }
   ],
   "source": [
    "df['Year']=df['Date'].apply(lambda x:x.split('.')[2])\n",
    "df['Year']=df['Year'].apply(lambda x:x.split(' ')[0])\n",
    "df['Month']=df['Date'].apply(lambda x:x.split('.')[1])\n",
    "df.head()"
   ]
  },
  {
   "cell_type": "markdown",
   "id": "2b9d764d",
   "metadata": {
    "papermill": {
     "duration": 0.020168,
     "end_time": "2023-07-09T07:35:01.669739",
     "exception": false,
     "start_time": "2023-07-09T07:35:01.649571",
     "status": "completed"
    },
    "tags": []
   },
   "source": [
    "### <b><span style='color:#f0bc22'> 1-7. |</span> Creating a **`Total price`** column"
   ]
  },
  {
   "cell_type": "code",
   "execution_count": 14,
   "id": "69cc4889",
   "metadata": {
    "execution": {
     "iopub.execute_input": "2023-07-09T07:35:01.712948Z",
     "iopub.status.busy": "2023-07-09T07:35:01.712495Z",
     "iopub.status.idle": "2023-07-09T07:35:02.177005Z",
     "shell.execute_reply": "2023-07-09T07:35:02.175907Z"
    },
    "papermill": {
     "duration": 0.488812,
     "end_time": "2023-07-09T07:35:02.179431",
     "exception": false,
     "start_time": "2023-07-09T07:35:01.690619",
     "status": "completed"
    },
    "tags": []
   },
   "outputs": [
    {
     "data": {
      "text/html": [
       "<div>\n",
       "<style scoped>\n",
       "    .dataframe tbody tr th:only-of-type {\n",
       "        vertical-align: middle;\n",
       "    }\n",
       "\n",
       "    .dataframe tbody tr th {\n",
       "        vertical-align: top;\n",
       "    }\n",
       "\n",
       "    .dataframe thead th {\n",
       "        text-align: right;\n",
       "    }\n",
       "</style>\n",
       "<table border=\"1\" class=\"dataframe\">\n",
       "  <thead>\n",
       "    <tr style=\"text-align: right;\">\n",
       "      <th></th>\n",
       "      <th>BillNo</th>\n",
       "      <th>Itemname</th>\n",
       "      <th>Quantity</th>\n",
       "      <th>Date</th>\n",
       "      <th>Price</th>\n",
       "      <th>CustomerID</th>\n",
       "      <th>Country</th>\n",
       "      <th>Year</th>\n",
       "      <th>Month</th>\n",
       "      <th>Total price</th>\n",
       "    </tr>\n",
       "  </thead>\n",
       "  <tbody>\n",
       "    <tr>\n",
       "      <th>0</th>\n",
       "      <td>536365</td>\n",
       "      <td>WHITE HANGING HEART T-LIGHT HOLDER</td>\n",
       "      <td>6</td>\n",
       "      <td>01.12.2010 08:26</td>\n",
       "      <td>2.55</td>\n",
       "      <td>17850.0</td>\n",
       "      <td>United Kingdom</td>\n",
       "      <td>2010</td>\n",
       "      <td>12</td>\n",
       "      <td>15.30</td>\n",
       "    </tr>\n",
       "    <tr>\n",
       "      <th>1</th>\n",
       "      <td>536365</td>\n",
       "      <td>WHITE METAL LANTERN</td>\n",
       "      <td>6</td>\n",
       "      <td>01.12.2010 08:26</td>\n",
       "      <td>3.39</td>\n",
       "      <td>17850.0</td>\n",
       "      <td>United Kingdom</td>\n",
       "      <td>2010</td>\n",
       "      <td>12</td>\n",
       "      <td>20.34</td>\n",
       "    </tr>\n",
       "    <tr>\n",
       "      <th>2</th>\n",
       "      <td>536365</td>\n",
       "      <td>CREAM CUPID HEARTS COAT HANGER</td>\n",
       "      <td>8</td>\n",
       "      <td>01.12.2010 08:26</td>\n",
       "      <td>2.75</td>\n",
       "      <td>17850.0</td>\n",
       "      <td>United Kingdom</td>\n",
       "      <td>2010</td>\n",
       "      <td>12</td>\n",
       "      <td>22.00</td>\n",
       "    </tr>\n",
       "    <tr>\n",
       "      <th>3</th>\n",
       "      <td>536365</td>\n",
       "      <td>KNITTED UNION FLAG HOT WATER BOTTLE</td>\n",
       "      <td>6</td>\n",
       "      <td>01.12.2010 08:26</td>\n",
       "      <td>3.39</td>\n",
       "      <td>17850.0</td>\n",
       "      <td>United Kingdom</td>\n",
       "      <td>2010</td>\n",
       "      <td>12</td>\n",
       "      <td>20.34</td>\n",
       "    </tr>\n",
       "    <tr>\n",
       "      <th>4</th>\n",
       "      <td>536365</td>\n",
       "      <td>RED WOOLLY HOTTIE WHITE HEART.</td>\n",
       "      <td>6</td>\n",
       "      <td>01.12.2010 08:26</td>\n",
       "      <td>3.39</td>\n",
       "      <td>17850.0</td>\n",
       "      <td>United Kingdom</td>\n",
       "      <td>2010</td>\n",
       "      <td>12</td>\n",
       "      <td>20.34</td>\n",
       "    </tr>\n",
       "  </tbody>\n",
       "</table>\n",
       "</div>"
      ],
      "text/plain": [
       "   BillNo                             Itemname  Quantity              Date  \\\n",
       "0  536365   WHITE HANGING HEART T-LIGHT HOLDER         6  01.12.2010 08:26   \n",
       "1  536365                  WHITE METAL LANTERN         6  01.12.2010 08:26   \n",
       "2  536365       CREAM CUPID HEARTS COAT HANGER         8  01.12.2010 08:26   \n",
       "3  536365  KNITTED UNION FLAG HOT WATER BOTTLE         6  01.12.2010 08:26   \n",
       "4  536365       RED WOOLLY HOTTIE WHITE HEART.         6  01.12.2010 08:26   \n",
       "\n",
       "   Price CustomerID         Country  Year Month  Total price  \n",
       "0   2.55    17850.0  United Kingdom  2010    12        15.30  \n",
       "1   3.39    17850.0  United Kingdom  2010    12        20.34  \n",
       "2   2.75    17850.0  United Kingdom  2010    12        22.00  \n",
       "3   3.39    17850.0  United Kingdom  2010    12        20.34  \n",
       "4   3.39    17850.0  United Kingdom  2010    12        20.34  "
      ]
     },
     "execution_count": 14,
     "metadata": {},
     "output_type": "execute_result"
    }
   ],
   "source": [
    "df['Price']=df['Price'].str.replace(',','.').astype('float64')\n",
    "df['Total price']=df.Quantity*df.Price\n",
    "df.head()"
   ]
  },
  {
   "cell_type": "markdown",
   "id": "1d6a6404",
   "metadata": {
    "papermill": {
     "duration": 0.020534,
     "end_time": "2023-07-09T07:35:02.220830",
     "exception": false,
     "start_time": "2023-07-09T07:35:02.200296",
     "status": "completed"
    },
    "tags": []
   },
   "source": [
    "### <b><span style='color:#f0bc22'> 1-8. |</span> Checking the **`Total price`** in each month."
   ]
  },
  {
   "cell_type": "code",
   "execution_count": 15,
   "id": "7bf3709f",
   "metadata": {
    "execution": {
     "iopub.execute_input": "2023-07-09T07:35:02.265112Z",
     "iopub.status.busy": "2023-07-09T07:35:02.264393Z",
     "iopub.status.idle": "2023-07-09T07:35:02.390309Z",
     "shell.execute_reply": "2023-07-09T07:35:02.389527Z"
    },
    "papermill": {
     "duration": 0.151235,
     "end_time": "2023-07-09T07:35:02.392928",
     "exception": false,
     "start_time": "2023-07-09T07:35:02.241693",
     "status": "completed"
    },
    "tags": []
   },
   "outputs": [
    {
     "data": {
      "text/plain": [
       "Year  Month\n",
       "2010  12        778386.780\n",
       "2011  01        648311.120\n",
       "      02        490058.230\n",
       "      03        659979.660\n",
       "      04        507366.971\n",
       "      05        721789.800\n",
       "      06        710158.020\n",
       "      07        642528.481\n",
       "      08        701411.420\n",
       "      09        981408.102\n",
       "      10       1072317.070\n",
       "      11       1421055.630\n",
       "      12        606953.650\n",
       "Name: Total price, dtype: float64"
      ]
     },
     "execution_count": 15,
     "metadata": {},
     "output_type": "execute_result"
    }
   ],
   "source": [
    "df.groupby(['Year','Month'])['Total price'].sum()"
   ]
  },
  {
   "cell_type": "markdown",
   "id": "67e7dbba",
   "metadata": {
    "papermill": {
     "duration": 0.021046,
     "end_time": "2023-07-09T07:35:02.434976",
     "exception": false,
     "start_time": "2023-07-09T07:35:02.413930",
     "status": "completed"
    },
    "tags": []
   },
   "source": [
    "It is appropriate to look at 12-month increments to implement data analytics properly, so I'll drop the data for 2020 Dec."
   ]
  },
  {
   "cell_type": "code",
   "execution_count": 16,
   "id": "36d2ea25",
   "metadata": {
    "execution": {
     "iopub.execute_input": "2023-07-09T07:35:02.479404Z",
     "iopub.status.busy": "2023-07-09T07:35:02.478370Z",
     "iopub.status.idle": "2023-07-09T07:35:02.805200Z",
     "shell.execute_reply": "2023-07-09T07:35:02.804157Z"
    },
    "papermill": {
     "duration": 0.351698,
     "end_time": "2023-07-09T07:35:02.807761",
     "exception": false,
     "start_time": "2023-07-09T07:35:02.456063",
     "status": "completed"
    },
    "tags": []
   },
   "outputs": [],
   "source": [
    "df=df.loc[df['Year']!='2010']"
   ]
  },
  {
   "cell_type": "markdown",
   "id": "2bcd7471",
   "metadata": {
    "papermill": {
     "duration": 0.020693,
     "end_time": "2023-07-09T07:35:02.849467",
     "exception": false,
     "start_time": "2023-07-09T07:35:02.828774",
     "status": "completed"
    },
    "tags": []
   },
   "source": [
    "<a id=\"section-two\"></a>\n",
    "## <b><span style='color:#f0bc22'> 2. |</span> Exploratoty Data Analysis"
   ]
  },
  {
   "cell_type": "markdown",
   "id": "73a042c8",
   "metadata": {
    "papermill": {
     "duration": 0.020695,
     "end_time": "2023-07-09T07:35:02.891195",
     "exception": false,
     "start_time": "2023-07-09T07:35:02.870500",
     "status": "completed"
    },
    "tags": []
   },
   "source": [
    "### <b><span style='color:#f0bc22'> 2-1. |</span> Sales amount and quantity"
   ]
  },
  {
   "cell_type": "code",
   "execution_count": 17,
   "id": "721b4217",
   "metadata": {
    "_kg_hide-input": true,
    "execution": {
     "iopub.execute_input": "2023-07-09T07:35:02.935487Z",
     "iopub.status.busy": "2023-07-09T07:35:02.934884Z",
     "iopub.status.idle": "2023-07-09T07:35:03.544649Z",
     "shell.execute_reply": "2023-07-09T07:35:03.543491Z"
    },
    "papermill": {
     "duration": 0.635069,
     "end_time": "2023-07-09T07:35:03.547410",
     "exception": false,
     "start_time": "2023-07-09T07:35:02.912341",
     "status": "completed"
    },
    "tags": []
   },
   "outputs": [
    {
     "data": {
      "image/png": "[encoded data removed]",
      "text/plain": [
       "<Figure size 640x480 with 1 Axes>"
      ]
     },
     "metadata": {},
     "output_type": "display_data"
    }
   ],
   "source": [
    "sales=df.groupby(['Year','Month'])['Total price','Quantity'].sum()\n",
    "sales.to_csv('sales.csv')\n",
    "sales=pd.read_csv('sales.csv')\n",
    "sales=sales.pivot_table(sales,index=['Year','Month'],aggfunc=np.sum,fill_value=0)\n",
    "sales.plot(kind='bar',cmap='Set1')\n",
    "plt.show()"
   ]
  },
  {
   "cell_type": "code",
   "execution_count": 18,
   "id": "9352be81",
   "metadata": {
    "_kg_hide-input": true,
    "execution": {
     "iopub.execute_input": "2023-07-09T07:35:03.592271Z",
     "iopub.status.busy": "2023-07-09T07:35:03.591864Z",
     "iopub.status.idle": "2023-07-09T07:35:05.891747Z",
     "shell.execute_reply": "2023-07-09T07:35:05.890676Z"
    },
    "papermill": {
     "duration": 2.325377,
     "end_time": "2023-07-09T07:35:05.894438",
     "exception": false,
     "start_time": "2023-07-09T07:35:03.569061",
     "status": "completed"
    },
    "tags": []
   },
   "outputs": [
    {
     "data": {
      "text/html": [
       "        <script type=\"text/javascript\">\n",
       "        window.PlotlyConfig = {MathJaxConfig: 'local'};\n",
       "        if (window.MathJax && window.MathJax.Hub && window.MathJax.Hub.Config) {window.MathJax.Hub.Config({SVG: {font: \"STIX-Web\"}});}\n",
       "        if (typeof require !== 'undefined') {\n",
       "        require.undef(\"plotly\");\n",
       "        requirejs.config({\n",
       "            paths: {\n",
       "                'plotly': ['https://cdn.plot.ly/plotly-2.20.0.min']\n",
       "            }\n",
       "        });\n",
       "        require(['plotly'], function(Plotly) {\n",
       "            window._Plotly = Plotly;\n",
       "        });\n",
       "        }\n",
       "        </script>\n",
       "        "
      ]
     },
     "metadata": {},
     "output_type": "display_data"
    },
    {
     "data": {
      "text/html": [
       "<div>                            <div id=\"f4582791-0426-4eae-b883-e260fe92becd\" class=\"plotly-graph-div\" style=\"height:525px; width:100%;\"></div>            <script type=\"text/javascript\">                require([\"plotly\"], function(Plotly) {                    window.PLOTLYENV=window.PLOTLYENV || {};                                    if (document.getElementById(\"f4582791-0426-4eae-b883-e260fe92becd\")) {                    Plotly.newPlot(                        \"f4582791-0426-4eae-b883-e260fe92becd\",                        [{\"alignmentgroup\":\"True\",\"hovertemplate\":\"Country=Australia<br>value=%{x}<br>Total price=%{y}<extra></extra>\",\"legendgroup\":\"Australia\",\"marker\":{\"color\":\"#636efa\",\"pattern\":{\"shape\":\"\"}},\"name\":\"Australia\",\"offsetgroup\":\"Australia\",\"orientation\":\"v\",\"showlegend\":true,\"textposition\":\"auto\",\"x\":[1,2,3,4,5,6,7,8,9,10,11],\"xaxis\":\"x\",\"y\":[9017.71,14695.42,17223.99,421.6,13638.41,25187.77,4964.38,22489.2,5106.7300000000005,17150.53,7242.72],\"yaxis\":\"y\",\"type\":\"bar\"},{\"alignmentgroup\":\"True\",\"hovertemplate\":\"Country=Belgium<br>value=%{x}<br>Total price=%{y}<extra></extra>\",\"legendgroup\":\"Belgium\",\"marker\":{\"color\":\"#EF553B\",\"pattern\":{\"shape\":\"\"}},\"name\":\"Belgium\",\"offsetgroup\":\"Belgium\",\"orientation\":\"v\",\"showlegend\":true,\"textposition\":\"auto\",\"x\":[1,2,3,4,5,6,7,8,9,10,11,12],\"xaxis\":\"x\",\"y\":[1080.2,1926.07,2994.98,1788.48,2486.4,3848.82,2205.57,3140.02,3779.02,5169.38,5619.76,1288.73],\"yaxis\":\"y\",\"type\":\"bar\"},{\"alignmentgroup\":\"True\",\"hovertemplate\":\"Country=France<br>value=%{x}<br>Total price=%{y}<extra></extra>\",\"legendgroup\":\"France\",\"marker\":{\"color\":\"#00cc96\",\"pattern\":{\"shape\":\"\"}},\"name\":\"France\",\"offsetgroup\":\"France\",\"orientation\":\"v\",\"showlegend\":true,\"textposition\":\"auto\",\"x\":[1,2,3,4,5,6,7,8,9,10,11,12],\"xaxis\":\"x\",\"y\":[16174.12,7687.96,13689.55,3899.31,16210.88,14962.41,9171.19,12630.96,21898.04,24008.33,29216.76,6538.92],\"yaxis\":\"y\",\"type\":\"bar\"},{\"alignmentgroup\":\"True\",\"hovertemplate\":\"Country=Germany<br>value=%{x}<br>Total price=%{y}<extra></extra>\",\"legendgroup\":\"Germany\",\"marker\":{\"color\":\"#ab63fa\",\"pattern\":{\"shape\":\"\"}},\"name\":\"Germany\",\"offsetgroup\":\"Germany\",\"orientation\":\"v\",\"showlegend\":true,\"textposition\":\"auto\",\"x\":[1,2,3,4,5,6,7,8,9,10,11,12],\"xaxis\":\"x\",\"y\":[15326.84,8825.05,12862.69,10994.79,23518.2,12122.1,14743.3,17636.77,16561.22,28422.92,24252.7,7024.17],\"yaxis\":\"y\",\"type\":\"bar\"},{\"alignmentgroup\":\"True\",\"hovertemplate\":\"Country=Greece<br>value=%{x}<br>Total price=%{y}<extra></extra>\",\"legendgroup\":\"Greece\",\"marker\":{\"color\":\"#FFA15A\",\"pattern\":{\"shape\":\"\"}},\"name\":\"Greece\",\"offsetgroup\":\"Greece\",\"orientation\":\"v\",\"showlegend\":true,\"textposition\":\"auto\",\"x\":[1,3,4,7,12],\"xaxis\":\"x\",\"y\":[2661.24,387.31,509.74,321.24,545.99],\"yaxis\":\"y\",\"type\":\"bar\"},{\"alignmentgroup\":\"True\",\"hovertemplate\":\"Country=Hong Kong<br>value=%{x}<br>Total price=%{y}<extra></extra>\",\"legendgroup\":\"Hong Kong\",\"marker\":{\"color\":\"#19d3f3\",\"pattern\":{\"shape\":\"\"}},\"name\":\"Hong Kong\",\"offsetgroup\":\"Hong Kong\",\"orientation\":\"v\",\"showlegend\":true,\"textposition\":\"auto\",\"x\":[1,4,5,6,8,10],\"xaxis\":\"x\",\"y\":[2439.76,1539.64,1966.16,618.96,2653.9500000000003,734.52],\"yaxis\":\"y\",\"type\":\"bar\"},{\"alignmentgroup\":\"True\",\"hovertemplate\":\"Country=Iceland<br>value=%{x}<br>Total price=%{y}<extra></extra>\",\"legendgroup\":\"Iceland\",\"marker\":{\"color\":\"#FF6692\",\"pattern\":{\"shape\":\"\"}},\"name\":\"Iceland\",\"offsetgroup\":\"Iceland\",\"orientation\":\"v\",\"showlegend\":true,\"textposition\":\"auto\",\"x\":[1,4,6,8,10,12],\"xaxis\":\"x\",\"y\":[475.39,636.25,382.52,584.9100000000001,1294.32,224.82],\"yaxis\":\"y\",\"type\":\"bar\"},{\"alignmentgroup\":\"True\",\"hovertemplate\":\"Country=Israel<br>value=%{x}<br>Total price=%{y}<extra></extra>\",\"legendgroup\":\"Israel\",\"marker\":{\"color\":\"#B6E880\",\"pattern\":{\"shape\":\"\"}},\"name\":\"Israel\",\"offsetgroup\":\"Israel\",\"orientation\":\"v\",\"showlegend\":true,\"textposition\":\"auto\",\"x\":[1,2,4,7,8,9,10],\"xaxis\":\"x\",\"y\":[379.84,779.1,110.0,1430.75,4873.81,423.73,138.03],\"yaxis\":\"y\",\"type\":\"bar\"},{\"alignmentgroup\":\"True\",\"hovertemplate\":\"Country=Italy<br>value=%{x}<br>Total price=%{y}<extra></extra>\",\"legendgroup\":\"Italy\",\"marker\":{\"color\":\"#FF97FF\",\"pattern\":{\"shape\":\"\"}},\"name\":\"Italy\",\"offsetgroup\":\"Italy\",\"orientation\":\"v\",\"showlegend\":true,\"textposition\":\"auto\",\"x\":[1,2,3,4,5,6,7,8,9,10,11,12],\"xaxis\":\"x\",\"y\":[2066.51,228.0,1676.81,737.8299999999999,587.45,202.07,147.1,1838.95,279.8,3329.69,3875.08,200.45],\"yaxis\":\"y\",\"type\":\"bar\"},{\"alignmentgroup\":\"True\",\"hovertemplate\":\"Country=Lebanon<br>value=%{x}<br>Total price=%{y}<extra></extra>\",\"legendgroup\":\"Lebanon\",\"marker\":{\"color\":\"#FECB52\",\"pattern\":{\"shape\":\"\"}},\"name\":\"Lebanon\",\"offsetgroup\":\"Lebanon\",\"orientation\":\"v\",\"showlegend\":true,\"textposition\":\"auto\",\"x\":[1],\"xaxis\":\"x\",\"y\":[1693.88],\"yaxis\":\"y\",\"type\":\"bar\"},{\"alignmentgroup\":\"True\",\"hovertemplate\":\"Country=Netherlands<br>value=%{x}<br>Total price=%{y}<extra></extra>\",\"legendgroup\":\"Netherlands\",\"marker\":{\"color\":\"#636efa\",\"pattern\":{\"shape\":\"\"}},\"name\":\"Netherlands\",\"offsetgroup\":\"Netherlands\",\"orientation\":\"v\",\"showlegend\":true,\"textposition\":\"auto\",\"x\":[1,2,3,4,5,6,7,8,9,10,11,12],\"xaxis\":\"x\",\"y\":[26596.16,22831.91,22206.49,2886.56,28942.88,26753.09,11.02,40327.81,26832.26,40378.65,25640.01,11728.02],\"yaxis\":\"y\",\"type\":\"bar\"},{\"alignmentgroup\":\"True\",\"hovertemplate\":\"Country=Poland<br>value=%{x}<br>Total price=%{y}<extra></extra>\",\"legendgroup\":\"Poland\",\"marker\":{\"color\":\"#EF553B\",\"pattern\":{\"shape\":\"\"}},\"name\":\"Poland\",\"offsetgroup\":\"Poland\",\"orientation\":\"v\",\"showlegend\":true,\"textposition\":\"auto\",\"x\":[1,2,3,4,5,6,7,8,9,11],\"xaxis\":\"x\",\"y\":[613.22,604.05,317.78,705.8399999999999,1402.37,263.65000000000003,607.3,361.8,489.25,1361.23],\"yaxis\":\"y\",\"type\":\"bar\"},{\"alignmentgroup\":\"True\",\"hovertemplate\":\"Country=Portugal<br>value=%{x}<br>Total price=%{y}<extra></extra>\",\"legendgroup\":\"Portugal\",\"marker\":{\"color\":\"#00cc96\",\"pattern\":{\"shape\":\"\"}},\"name\":\"Portugal\",\"offsetgroup\":\"Portugal\",\"orientation\":\"v\",\"showlegend\":true,\"textposition\":\"auto\",\"x\":[1,2,3,4,5,6,7,8,9,10,11,12],\"xaxis\":\"x\",\"y\":[3479.71,1017.9,2520.85,1687.75,602.83,800.46,2175.85,1221.4,1377.22,5330.13,2336.9,2416.19],\"yaxis\":\"y\",\"type\":\"bar\"},{\"alignmentgroup\":\"True\",\"hovertemplate\":\"Country=Singapore<br>value=%{x}<br>Total price=%{y}<extra></extra>\",\"legendgroup\":\"Singapore\",\"marker\":{\"color\":\"#ab63fa\",\"pattern\":{\"shape\":\"\"}},\"name\":\"Singapore\",\"offsetgroup\":\"Singapore\",\"orientation\":\"v\",\"showlegend\":true,\"textposition\":\"auto\",\"x\":[1,4,7,10],\"xaxis\":\"x\",\"y\":[2053.07,2118.74,3949.32,999.26],\"yaxis\":\"y\",\"type\":\"bar\"},{\"alignmentgroup\":\"True\",\"hovertemplate\":\"Country=Spain<br>value=%{x}<br>Total price=%{y}<extra></extra>\",\"legendgroup\":\"Spain\",\"marker\":{\"color\":\"#FFA15A\",\"pattern\":{\"shape\":\"\"}},\"name\":\"Spain\",\"offsetgroup\":\"Spain\",\"orientation\":\"v\",\"showlegend\":true,\"textposition\":\"auto\",\"x\":[1,2,3,4,5,6,7,8,9,10,11,12],\"xaxis\":\"x\",\"y\":[9694.09,1722.5,4775.15,1645.65,2697.6,2717.21,7120.92,2898.91,4461.24,7964.94,8034.96,288.21],\"yaxis\":\"y\",\"type\":\"bar\"},{\"alignmentgroup\":\"True\",\"hovertemplate\":\"Country=Sweden<br>value=%{x}<br>Total price=%{y}<extra></extra>\",\"legendgroup\":\"Sweden\",\"marker\":{\"color\":\"#19d3f3\",\"pattern\":{\"shape\":\"\"}},\"name\":\"Sweden\",\"offsetgroup\":\"Sweden\",\"orientation\":\"v\",\"showlegend\":true,\"textposition\":\"auto\",\"x\":[1,2,3,4,5,6,7,8,9,10,11,12],\"xaxis\":\"x\",\"y\":[3286.32,469.5,4680.58,649.1,2641.98,676.0,6692.09,1160.86,4517.21,5671.16,2322.23,238.0],\"yaxis\":\"y\",\"type\":\"bar\"},{\"alignmentgroup\":\"True\",\"hovertemplate\":\"Country=Switzerland<br>value=%{x}<br>Total price=%{y}<extra></extra>\",\"legendgroup\":\"Switzerland\",\"marker\":{\"color\":\"#FF6692\",\"pattern\":{\"shape\":\"\"}},\"name\":\"Switzerland\",\"offsetgroup\":\"Switzerland\",\"orientation\":\"v\",\"showlegend\":true,\"textposition\":\"auto\",\"x\":[1,2,3,4,5,6,7,8,9,10,11],\"xaxis\":\"x\",\"y\":[4031.23,2374.92,1590.23,1756.94,3450.01,7544.15,3518.61,4889.89,7524.86,7265.18,7916.96],\"yaxis\":\"y\",\"type\":\"bar\"},{\"alignmentgroup\":\"True\",\"hovertemplate\":\"Country=United Kingdom<br>value=%{x}<br>Total price=%{y}<extra></extra>\",\"legendgroup\":\"United Kingdom\",\"marker\":{\"color\":\"#B6E880\",\"pattern\":{\"shape\":\"\"}},\"name\":\"United Kingdom\",\"offsetgroup\":\"United Kingdom\",\"orientation\":\"v\",\"showlegend\":true,\"textposition\":\"auto\",\"x\":[1,2,3,4,5,6,7,8,9,10,11,12],\"xaxis\":\"x\",\"y\":[547241.83,419050.62,573351.22,466318.821,619639.48,606395.97,578308.011,580150.26,878384.112,914957.97,1286504.78,572306.01],\"yaxis\":\"y\",\"type\":\"bar\"},{\"alignmentgroup\":\"True\",\"hovertemplate\":\"Country=Austria<br>value=%{x}<br>Total price=%{y}<extra></extra>\",\"legendgroup\":\"Austria\",\"marker\":{\"color\":\"#FF97FF\",\"pattern\":{\"shape\":\"\"}},\"name\":\"Austria\",\"offsetgroup\":\"Austria\",\"orientation\":\"v\",\"showlegend\":true,\"textposition\":\"auto\",\"x\":[2,3,4,5,7,8,10,11,12],\"xaxis\":\"x\",\"y\":[438.36,1308.12,584.78,1049.43,1111.95,1436.08,923.78,1209.78,523.2],\"yaxis\":\"y\",\"type\":\"bar\"},{\"alignmentgroup\":\"True\",\"hovertemplate\":\"Country=Japan<br>value=%{x}<br>Total price=%{y}<extra></extra>\",\"legendgroup\":\"Japan\",\"marker\":{\"color\":\"#FECB52\",\"pattern\":{\"shape\":\"\"}},\"name\":\"Japan\",\"offsetgroup\":\"Japan\",\"orientation\":\"v\",\"showlegend\":true,\"textposition\":\"auto\",\"x\":[2,3,4,5,6,7,9,10,11],\"xaxis\":\"x\",\"y\":[5780.81,48.9,6548.5,1351.45,1607.04,3854.4,112.07999999999998,1948.04,8460.08],\"yaxis\":\"y\",\"type\":\"bar\"},{\"alignmentgroup\":\"True\",\"hovertemplate\":\"Country=Norway<br>value=%{x}<br>Total price=%{y}<extra></extra>\",\"legendgroup\":\"Norway\",\"marker\":{\"color\":\"#636efa\",\"pattern\":{\"shape\":\"\"}},\"name\":\"Norway\",\"offsetgroup\":\"Norway\",\"orientation\":\"v\",\"showlegend\":true,\"textposition\":\"auto\",\"x\":[2,3,6,7,8,9,10,11,12],\"xaxis\":\"x\",\"y\":[590.9,345.01,5186.86,770.0699999999999,1505.81,8398.94,3316.73,5807.5,2745.7000000000003],\"yaxis\":\"y\",\"type\":\"bar\"},{\"alignmentgroup\":\"True\",\"hovertemplate\":\"Country=Saudi Arabia<br>value=%{x}<br>Total price=%{y}<extra></extra>\",\"legendgroup\":\"Saudi Arabia\",\"marker\":{\"color\":\"#EF553B\",\"pattern\":{\"shape\":\"\"}},\"name\":\"Saudi Arabia\",\"offsetgroup\":\"Saudi Arabia\",\"orientation\":\"v\",\"showlegend\":true,\"textposition\":\"auto\",\"x\":[2],\"xaxis\":\"x\",\"y\":[145.92],\"yaxis\":\"y\",\"type\":\"bar\"},{\"alignmentgroup\":\"True\",\"hovertemplate\":\"Country=United Arab Emirates<br>value=%{x}<br>Total price=%{y}<extra></extra>\",\"legendgroup\":\"United Arab Emirates\",\"marker\":{\"color\":\"#00cc96\",\"pattern\":{\"shape\":\"\"}},\"name\":\"United Arab Emirates\",\"offsetgroup\":\"United Arab Emirates\",\"orientation\":\"v\",\"showlegend\":true,\"textposition\":\"auto\",\"x\":[2,9],\"xaxis\":\"x\",\"y\":[889.24,975.54],\"yaxis\":\"y\",\"type\":\"bar\"},{\"alignmentgroup\":\"True\",\"hovertemplate\":\"Country=Brazil<br>value=%{x}<br>Total price=%{y}<extra></extra>\",\"legendgroup\":\"Brazil\",\"marker\":{\"color\":\"#ab63fa\",\"pattern\":{\"shape\":\"\"}},\"name\":\"Brazil\",\"offsetgroup\":\"Brazil\",\"orientation\":\"v\",\"showlegend\":true,\"textposition\":\"auto\",\"x\":[4],\"xaxis\":\"x\",\"y\":[1143.6],\"yaxis\":\"y\",\"type\":\"bar\"},{\"alignmentgroup\":\"True\",\"hovertemplate\":\"Country=USA<br>value=%{x}<br>Total price=%{y}<extra></extra>\",\"legendgroup\":\"USA\",\"marker\":{\"color\":\"#FFA15A\",\"pattern\":{\"shape\":\"\"}},\"name\":\"USA\",\"offsetgroup\":\"USA\",\"orientation\":\"v\",\"showlegend\":true,\"textposition\":\"auto\",\"x\":[4,10,12],\"xaxis\":\"x\",\"y\":[383.95,2311.2,885.24],\"yaxis\":\"y\",\"type\":\"bar\"},{\"alignmentgroup\":\"True\",\"hovertemplate\":\"Country=Unspecified<br>value=%{x}<br>Total price=%{y}<extra></extra>\",\"legendgroup\":\"Unspecified\",\"marker\":{\"color\":\"#19d3f3\",\"pattern\":{\"shape\":\"\"}},\"name\":\"Unspecified\",\"offsetgroup\":\"Unspecified\",\"orientation\":\"v\",\"showlegend\":true,\"textposition\":\"auto\",\"x\":[4,5,6,7,8,9,11],\"xaxis\":\"x\",\"y\":[299.1,1055.87,185.78,1425.41,531.03,286.85,965.75],\"yaxis\":\"y\",\"type\":\"bar\"},{\"alignmentgroup\":\"True\",\"hovertemplate\":\"Country=Bahrain<br>value=%{x}<br>Total price=%{y}<extra></extra>\",\"legendgroup\":\"Bahrain\",\"marker\":{\"color\":\"#FF6692\",\"pattern\":{\"shape\":\"\"}},\"name\":\"Bahrain\",\"offsetgroup\":\"Bahrain\",\"orientation\":\"v\",\"showlegend\":true,\"textposition\":\"auto\",\"x\":[5],\"xaxis\":\"x\",\"y\":[548.4],\"yaxis\":\"y\",\"type\":\"bar\"},{\"alignmentgroup\":\"True\",\"hovertemplate\":\"Country=Malta<br>value=%{x}<br>Total price=%{y}<extra></extra>\",\"legendgroup\":\"Malta\",\"marker\":{\"color\":\"#B6E880\",\"pattern\":{\"shape\":\"\"}},\"name\":\"Malta\",\"offsetgroup\":\"Malta\",\"orientation\":\"v\",\"showlegend\":true,\"textposition\":\"auto\",\"x\":[6,8,11],\"xaxis\":\"x\",\"y\":[703.16,1079.0,288.43],\"yaxis\":\"y\",\"type\":\"bar\"},{\"alignmentgroup\":\"True\",\"hovertemplate\":\"Country=RSA<br>value=%{x}<br>Total price=%{y}<extra></extra>\",\"legendgroup\":\"RSA\",\"marker\":{\"color\":\"#FF97FF\",\"pattern\":{\"shape\":\"\"}},\"name\":\"RSA\",\"offsetgroup\":\"RSA\",\"orientation\":\"v\",\"showlegend\":true,\"textposition\":\"auto\",\"x\":[10],\"xaxis\":\"x\",\"y\":[1002.31],\"yaxis\":\"y\",\"type\":\"bar\"}],                        {\"template\":{\"data\":{\"histogram2dcontour\":[{\"type\":\"histogram2dcontour\",\"colorbar\":{\"outlinewidth\":0,\"ticks\":\"\"},\"colorscale\":[[0.0,\"#0d0887\"],[0.1111111111111111,\"#46039f\"],[0.2222222222222222,\"#7201a8\"],[0.3333333333333333,\"#9c179e\"],[0.4444444444444444,\"#bd3786\"],[0.5555555555555556,\"#d8576b\"],[0.6666666666666666,\"#ed7953\"],[0.7777777777777778,\"#fb9f3a\"],[0.8888888888888888,\"#fdca26\"],[1.0,\"#f0f921\"]]}],\"choropleth\":[{\"type\":\"choropleth\",\"colorbar\":{\"outlinewidth\":0,\"ticks\":\"\"}}],\"histogram2d\":[{\"type\":\"histogram2d\",\"colorbar\":{\"outlinewidth\":0,\"ticks\":\"\"},\"colorscale\":[[0.0,\"#0d0887\"],[0.1111111111111111,\"#46039f\"],[0.2222222222222222,\"#7201a8\"],[0.3333333333333333,\"#9c179e\"],[0.4444444444444444,\"#bd3786\"],[0.5555555555555556,\"#d8576b\"],[0.6666666666666666,\"#ed7953\"],[0.7777777777777778,\"#fb9f3a\"],[0.8888888888888888,\"#fdca26\"],[1.0,\"#f0f921\"]]}],\"heatmap\":[{\"type\":\"heatmap\",\"colorbar\":{\"outlinewidth\":0,\"ticks\":\"\"},\"colorscale\":[[0.0,\"#0d0887\"],[0.1111111111111111,\"#46039f\"],[0.2222222222222222,\"#7201a8\"],[0.3333333333333333,\"#9c179e\"],[0.4444444444444444,\"#bd3786\"],[0.5555555555555556,\"#d8576b\"],[0.6666666666666666,\"#ed7953\"],[0.7777777777777778,\"#fb9f3a\"],[0.8888888888888888,\"#fdca26\"],[1.0,\"#f0f921\"]]}],\"heatmapgl\":[{\"type\":\"heatmapgl\",\"colorbar\":{\"outlinewidth\":0,\"ticks\":\"\"},\"colorscale\":[[0.0,\"#0d0887\"],[0.1111111111111111,\"#46039f\"],[0.2222222222222222,\"#7201a8\"],[0.3333333333333333,\"#9c179e\"],[0.4444444444444444,\"#bd3786\"],[0.5555555555555556,\"#d8576b\"],[0.6666666666666666,\"#ed7953\"],[0.7777777777777778,\"#fb9f3a\"],[0.8888888888888888,\"#fdca26\"],[1.0,\"#f0f921\"]]}],\"contourcarpet\":[{\"type\":\"contourcarpet\",\"colorbar\":{\"outlinewidth\":0,\"ticks\":\"\"}}],\"contour\":[{\"type\":\"contour\",\"colorbar\":{\"outlinewidth\":0,\"ticks\":\"\"},\"colorscale\":[[0.0,\"#0d0887\"],[0.1111111111111111,\"#46039f\"],[0.2222222222222222,\"#7201a8\"],[0.3333333333333333,\"#9c179e\"],[0.4444444444444444,\"#bd3786\"],[0.5555555555555556,\"#d8576b\"],[0.6666666666666666,\"#ed7953\"],[0.7777777777777778,\"#fb9f3a\"],[0.8888888888888888,\"#fdca26\"],[1.0,\"#f0f921\"]]}],\"surface\":[{\"type\":\"surface\",\"colorbar\":{\"outlinewidth\":0,\"ticks\":\"\"},\"colorscale\":[[0.0,\"#0d0887\"],[0.1111111111111111,\"#46039f\"],[0.2222222222222222,\"#7201a8\"],[0.3333333333333333,\"#9c179e\"],[0.4444444444444444,\"#bd3786\"],[0.5555555555555556,\"#d8576b\"],[0.6666666666666666,\"#ed7953\"],[0.7777777777777778,\"#fb9f3a\"],[0.8888888888888888,\"#fdca26\"],[1.0,\"#f0f921\"]]}],\"mesh3d\":[{\"type\":\"mesh3d\",\"colorbar\":{\"outlinewidth\":0,\"ticks\":\"\"}}],\"scatter\":[{\"fillpattern\":{\"fillmode\":\"overlay\",\"size\":10,\"solidity\":0.2},\"type\":\"scatter\"}],\"parcoords\":[{\"type\":\"parcoords\",\"line\":{\"colorbar\":{\"outlinewidth\":0,\"ticks\":\"\"}}}],\"scatterpolargl\":[{\"type\":\"scatterpolargl\",\"marker\":{\"colorbar\":{\"outlinewidth\":0,\"ticks\":\"\"}}}],\"bar\":[{\"error_x\":{\"color\":\"#2a3f5f\"},\"error_y\":{\"color\":\"#2a3f5f\"},\"marker\":{\"line\":{\"color\":\"#E5ECF6\",\"width\":0.5},\"pattern\":{\"fillmode\":\"overlay\",\"size\":10,\"solidity\":0.2}},\"type\":\"bar\"}],\"scattergeo\":[{\"type\":\"scattergeo\",\"marker\":{\"colorbar\":{\"outlinewidth\":0,\"ticks\":\"\"}}}],\"scatterpolar\":[{\"type\":\"scatterpolar\",\"marker\":{\"colorbar\":{\"outlinewidth\":0,\"ticks\":\"\"}}}],\"histogram\":[{\"marker\":{\"pattern\":{\"fillmode\":\"overlay\",\"size\":10,\"solidity\":0.2}},\"type\":\"histogram\"}],\"scattergl\":[{\"type\":\"scattergl\",\"marker\":{\"colorbar\":{\"outlinewidth\":0,\"ticks\":\"\"}}}],\"scatter3d\":[{\"type\":\"scatter3d\",\"line\":{\"colorbar\":{\"outlinewidth\":0,\"ticks\":\"\"}},\"marker\":{\"colorbar\":{\"outlinewidth\":0,\"ticks\":\"\"}}}],\"scattermapbox\":[{\"type\":\"scattermapbox\",\"marker\":{\"colorbar\":{\"outlinewidth\":0,\"ticks\":\"\"}}}],\"scatterternary\":[{\"type\":\"scatterternary\",\"marker\":{\"colorbar\":{\"outlinewidth\":0,\"ticks\":\"\"}}}],\"scattercarpet\":[{\"type\":\"scattercarpet\",\"marker\":{\"colorbar\":{\"outlinewidth\":0,\"ticks\":\"\"}}}],\"carpet\":[{\"aaxis\":{\"endlinecolor\":\"#2a3f5f\",\"gridcolor\":\"white\",\"linecolor\":\"white\",\"minorgridcolor\":\"white\",\"startlinecolor\":\"#2a3f5f\"},\"baxis\":{\"endlinecolor\":\"#2a3f5f\",\"gridcolor\":\"white\",\"linecolor\":\"white\",\"minorgridcolor\":\"white\",\"startlinecolor\":\"#2a3f5f\"},\"type\":\"carpet\"}],\"table\":[{\"cells\":{\"fill\":{\"color\":\"#EBF0F8\"},\"line\":{\"color\":\"white\"}},\"header\":{\"fill\":{\"color\":\"#C8D4E3\"},\"line\":{\"color\":\"white\"}},\"type\":\"table\"}],\"barpolar\":[{\"marker\":{\"line\":{\"color\":\"#E5ECF6\",\"width\":0.5},\"pattern\":{\"fillmode\":\"overlay\",\"size\":10,\"solidity\":0.2}},\"type\":\"barpolar\"}],\"pie\":[{\"automargin\":true,\"type\":\"pie\"}]},\"layout\":{\"autotypenumbers\":\"strict\",\"colorway\":[\"#636efa\",\"#EF553B\",\"#00cc96\",\"#ab63fa\",\"#FFA15A\",\"#19d3f3\",\"#FF6692\",\"#B6E880\",\"#FF97FF\",\"#FECB52\"],\"font\":{\"color\":\"#2a3f5f\"},\"hovermode\":\"closest\",\"hoverlabel\":{\"align\":\"left\"},\"paper_bgcolor\":\"white\",\"plot_bgcolor\":\"#E5ECF6\",\"polar\":{\"bgcolor\":\"#E5ECF6\",\"angularaxis\":{\"gridcolor\":\"white\",\"linecolor\":\"white\",\"ticks\":\"\"},\"radialaxis\":{\"gridcolor\":\"white\",\"linecolor\":\"white\",\"ticks\":\"\"}},\"ternary\":{\"bgcolor\":\"#E5ECF6\",\"aaxis\":{\"gridcolor\":\"white\",\"linecolor\":\"white\",\"ticks\":\"\"},\"baxis\":{\"gridcolor\":\"white\",\"linecolor\":\"white\",\"ticks\":\"\"},\"caxis\":{\"gridcolor\":\"white\",\"linecolor\":\"white\",\"ticks\":\"\"}},\"coloraxis\":{\"colorbar\":{\"outlinewidth\":0,\"ticks\":\"\"}},\"colorscale\":{\"sequential\":[[0.0,\"#0d0887\"],[0.1111111111111111,\"#46039f\"],[0.2222222222222222,\"#7201a8\"],[0.3333333333333333,\"#9c179e\"],[0.4444444444444444,\"#bd3786\"],[0.5555555555555556,\"#d8576b\"],[0.6666666666666666,\"#ed7953\"],[0.7777777777777778,\"#fb9f3a\"],[0.8888888888888888,\"#fdca26\"],[1.0,\"#f0f921\"]],\"sequentialminus\":[[0.0,\"#0d0887\"],[0.1111111111111111,\"#46039f\"],[0.2222222222222222,\"#7201a8\"],[0.3333333333333333,\"#9c179e\"],[0.4444444444444444,\"#bd3786\"],[0.5555555555555556,\"#d8576b\"],[0.6666666666666666,\"#ed7953\"],[0.7777777777777778,\"#fb9f3a\"],[0.8888888888888888,\"#fdca26\"],[1.0,\"#f0f921\"]],\"diverging\":[[0,\"#8e0152\"],[0.1,\"#c51b7d\"],[0.2,\"#de77ae\"],[0.3,\"#f1b6da\"],[0.4,\"#fde0ef\"],[0.5,\"#f7f7f7\"],[0.6,\"#e6f5d0\"],[0.7,\"#b8e186\"],[0.8,\"#7fbc41\"],[0.9,\"#4d9221\"],[1,\"#276419\"]]},\"xaxis\":{\"gridcolor\":\"white\",\"linecolor\":\"white\",\"ticks\":\"\",\"title\":{\"standoff\":15},\"zerolinecolor\":\"white\",\"automargin\":true,\"zerolinewidth\":2},\"yaxis\":{\"gridcolor\":\"white\",\"linecolor\":\"white\",\"ticks\":\"\",\"title\":{\"standoff\":15},\"zerolinecolor\":\"white\",\"automargin\":true,\"zerolinewidth\":2},\"scene\":{\"xaxis\":{\"backgroundcolor\":\"#E5ECF6\",\"gridcolor\":\"white\",\"linecolor\":\"white\",\"showbackground\":true,\"ticks\":\"\",\"zerolinecolor\":\"white\",\"gridwidth\":2},\"yaxis\":{\"backgroundcolor\":\"#E5ECF6\",\"gridcolor\":\"white\",\"linecolor\":\"white\",\"showbackground\":true,\"ticks\":\"\",\"zerolinecolor\":\"white\",\"gridwidth\":2},\"zaxis\":{\"backgroundcolor\":\"#E5ECF6\",\"gridcolor\":\"white\",\"linecolor\":\"white\",\"showbackground\":true,\"ticks\":\"\",\"zerolinecolor\":\"white\",\"gridwidth\":2}},\"shapedefaults\":{\"line\":{\"color\":\"#2a3f5f\"}},\"annotationdefaults\":{\"arrowcolor\":\"#2a3f5f\",\"arrowhead\":0,\"arrowwidth\":1},\"geo\":{\"bgcolor\":\"white\",\"landcolor\":\"#E5ECF6\",\"subunitcolor\":\"white\",\"showland\":true,\"showlakes\":true,\"lakecolor\":\"white\"},\"title\":{\"x\":0.05},\"mapbox\":{\"style\":\"light\"}}},\"xaxis\":{\"anchor\":\"y\",\"domain\":[0.0,1.0],\"title\":{\"text\":\"Month\"}},\"yaxis\":{\"anchor\":\"x\",\"domain\":[0.0,1.0],\"title\":{\"text\":\"Sales amount\"}},\"legend\":{\"title\":{\"text\":\"Country\"},\"tracegroupgap\":0},\"title\":{\"text\":\"Monthly sales amount in each country in 2021\"},\"barmode\":\"relative\"},                        {\"responsive\": true}                    ).then(function(){\n",
       "                            \n",
       "var gd = document.getElementById('f4582791-0426-4eae-b883-e260fe92becd');\n",
       "var x = new MutationObserver(function (mutations, observer) {{\n",
       "        var display = window.getComputedStyle(gd).display;\n",
       "        if (!display || display === 'none') {{\n",
       "            console.log([gd, 'removed!']);\n",
       "            Plotly.purge(gd);\n",
       "            observer.disconnect();\n",
       "        }}\n",
       "}});\n",
       "\n",
       "// Listen for the removal of the full notebook cells\n",
       "var notebookContainer = gd.closest('#notebook-container');\n",
       "if (notebookContainer) {{\n",
       "    x.observe(notebookContainer, {childList: true});\n",
       "}}\n",
       "\n",
       "// Listen for the clearing of the current output cell\n",
       "var outputEl = gd.closest('.output');\n",
       "if (outputEl) {{\n",
       "    x.observe(outputEl, {childList: true});\n",
       "}}\n",
       "\n",
       "                        })                };                });            </script>        </div>"
      ]
     },
     "metadata": {},
     "output_type": "display_data"
    }
   ],
   "source": [
    "sales_country=df.groupby(['Year','Month','Country'])['Total price'].sum()\n",
    "sales_country.to_csv('sales_country.csv')\n",
    "sales_country=pd.read_csv('sales_country.csv')\n",
    "\n",
    "fig=px.bar(sales_country,x=['Month'],y='Total price',color='Country',title='Monthly sales amount in each country in 2021')\n",
    "fig.update_layout(xaxis_title='Month',yaxis_title='Sales amount')\n",
    "fig.show()"
   ]
  },
  {
   "cell_type": "markdown",
   "id": "ca4c18ec",
   "metadata": {
    "papermill": {
     "duration": 0.021652,
     "end_time": "2023-07-09T07:35:05.938248",
     "exception": false,
     "start_time": "2023-07-09T07:35:05.916596",
     "status": "completed"
    },
    "tags": []
   },
   "source": [
    "Most of the sales amounts are occupied by the UK."
   ]
  },
  {
   "cell_type": "code",
   "execution_count": 19,
   "id": "3f08da62",
   "metadata": {
    "_kg_hide-input": true,
    "execution": {
     "iopub.execute_input": "2023-07-09T07:35:05.984011Z",
     "iopub.status.busy": "2023-07-09T07:35:05.983568Z",
     "iopub.status.idle": "2023-07-09T07:35:06.118099Z",
     "shell.execute_reply": "2023-07-09T07:35:06.116937Z"
    },
    "papermill": {
     "duration": 0.160487,
     "end_time": "2023-07-09T07:35:06.120686",
     "exception": false,
     "start_time": "2023-07-09T07:35:05.960199",
     "status": "completed"
    },
    "tags": []
   },
   "outputs": [
    {
     "data": {
      "text/html": [
       "<div>                            <div id=\"637bcf49-f10e-4a68-a33c-e6dc651460ce\" class=\"plotly-graph-div\" style=\"height:525px; width:100%;\"></div>            <script type=\"text/javascript\">                require([\"plotly\"], function(Plotly) {                    window.PLOTLYENV=window.PLOTLYENV || {};                                    if (document.getElementById(\"637bcf49-f10e-4a68-a33c-e6dc651460ce\")) {                    Plotly.newPlot(                        \"637bcf49-f10e-4a68-a33c-e6dc651460ce\",                        [{\"alignmentgroup\":\"True\",\"hovertemplate\":\"Country=%{x}<br>Total price=%{y}<extra></extra>\",\"legendgroup\":\"\",\"marker\":{\"color\":\"#636efa\",\"pattern\":{\"shape\":\"\"}},\"name\":\"\",\"offsetgroup\":\"\",\"orientation\":\"v\",\"showlegend\":false,\"textposition\":\"auto\",\"x\":[\"Australia\",\"Austria\",\"Bahrain\",\"Belgium\",\"Brazil\",\"France\",\"Germany\",\"Greece\",\"Hong Kong\",\"Iceland\",\"Israel\",\"Italy\",\"Japan\",\"Lebanon\",\"Malta\",\"Netherlands\",\"Norway\",\"Poland\",\"Portugal\",\"RSA\",\"Saudi Arabia\",\"Singapore\",\"Spain\",\"Sweden\",\"Switzerland\",\"USA\",\"United Arab Emirates\",\"United Kingdom\",\"Unspecified\"],\"xaxis\":\"x\",\"y\":[137138.46,8585.48,548.4,35327.43,1143.6,176088.43,192290.75,4425.52,9952.99,3598.21,8135.26,15169.74,29711.3,1693.88,2070.59,275134.86,28667.52,6726.49,24967.19,1002.31,145.92,9120.39,54021.38,33005.03,51862.98,3580.39,1864.78,8042609.084,4749.79],\"yaxis\":\"y\",\"type\":\"bar\"}],                        {\"template\":{\"data\":{\"histogram2dcontour\":[{\"type\":\"histogram2dcontour\",\"colorbar\":{\"outlinewidth\":0,\"ticks\":\"\"},\"colorscale\":[[0.0,\"#0d0887\"],[0.1111111111111111,\"#46039f\"],[0.2222222222222222,\"#7201a8\"],[0.3333333333333333,\"#9c179e\"],[0.4444444444444444,\"#bd3786\"],[0.5555555555555556,\"#d8576b\"],[0.6666666666666666,\"#ed7953\"],[0.7777777777777778,\"#fb9f3a\"],[0.8888888888888888,\"#fdca26\"],[1.0,\"#f0f921\"]]}],\"choropleth\":[{\"type\":\"choropleth\",\"colorbar\":{\"outlinewidth\":0,\"ticks\":\"\"}}],\"histogram2d\":[{\"type\":\"histogram2d\",\"colorbar\":{\"outlinewidth\":0,\"ticks\":\"\"},\"colorscale\":[[0.0,\"#0d0887\"],[0.1111111111111111,\"#46039f\"],[0.2222222222222222,\"#7201a8\"],[0.3333333333333333,\"#9c179e\"],[0.4444444444444444,\"#bd3786\"],[0.5555555555555556,\"#d8576b\"],[0.6666666666666666,\"#ed7953\"],[0.7777777777777778,\"#fb9f3a\"],[0.8888888888888888,\"#fdca26\"],[1.0,\"#f0f921\"]]}],\"heatmap\":[{\"type\":\"heatmap\",\"colorbar\":{\"outlinewidth\":0,\"ticks\":\"\"},\"colorscale\":[[0.0,\"#0d0887\"],[0.1111111111111111,\"#46039f\"],[0.2222222222222222,\"#7201a8\"],[0.3333333333333333,\"#9c179e\"],[0.4444444444444444,\"#bd3786\"],[0.5555555555555556,\"#d8576b\"],[0.6666666666666666,\"#ed7953\"],[0.7777777777777778,\"#fb9f3a\"],[0.8888888888888888,\"#fdca26\"],[1.0,\"#f0f921\"]]}],\"heatmapgl\":[{\"type\":\"heatmapgl\",\"colorbar\":{\"outlinewidth\":0,\"ticks\":\"\"},\"colorscale\":[[0.0,\"#0d0887\"],[0.1111111111111111,\"#46039f\"],[0.2222222222222222,\"#7201a8\"],[0.3333333333333333,\"#9c179e\"],[0.4444444444444444,\"#bd3786\"],[0.5555555555555556,\"#d8576b\"],[0.6666666666666666,\"#ed7953\"],[0.7777777777777778,\"#fb9f3a\"],[0.8888888888888888,\"#fdca26\"],[1.0,\"#f0f921\"]]}],\"contourcarpet\":[{\"type\":\"contourcarpet\",\"colorbar\":{\"outlinewidth\":0,\"ticks\":\"\"}}],\"contour\":[{\"type\":\"contour\",\"colorbar\":{\"outlinewidth\":0,\"ticks\":\"\"},\"colorscale\":[[0.0,\"#0d0887\"],[0.1111111111111111,\"#46039f\"],[0.2222222222222222,\"#7201a8\"],[0.3333333333333333,\"#9c179e\"],[0.4444444444444444,\"#bd3786\"],[0.5555555555555556,\"#d8576b\"],[0.6666666666666666,\"#ed7953\"],[0.7777777777777778,\"#fb9f3a\"],[0.8888888888888888,\"#fdca26\"],[1.0,\"#f0f921\"]]}],\"surface\":[{\"type\":\"surface\",\"colorbar\":{\"outlinewidth\":0,\"ticks\":\"\"},\"colorscale\":[[0.0,\"#0d0887\"],[0.1111111111111111,\"#46039f\"],[0.2222222222222222,\"#7201a8\"],[0.3333333333333333,\"#9c179e\"],[0.4444444444444444,\"#bd3786\"],[0.5555555555555556,\"#d8576b\"],[0.6666666666666666,\"#ed7953\"],[0.7777777777777778,\"#fb9f3a\"],[0.8888888888888888,\"#fdca26\"],[1.0,\"#f0f921\"]]}],\"mesh3d\":[{\"type\":\"mesh3d\",\"colorbar\":{\"outlinewidth\":0,\"ticks\":\"\"}}],\"scatter\":[{\"fillpattern\":{\"fillmode\":\"overlay\",\"size\":10,\"solidity\":0.2},\"type\":\"scatter\"}],\"parcoords\":[{\"type\":\"parcoords\",\"line\":{\"colorbar\":{\"outlinewidth\":0,\"ticks\":\"\"}}}],\"scatterpolargl\":[{\"type\":\"scatterpolargl\",\"marker\":{\"colorbar\":{\"outlinewidth\":0,\"ticks\":\"\"}}}],\"bar\":[{\"error_x\":{\"color\":\"#2a3f5f\"},\"error_y\":{\"color\":\"#2a3f5f\"},\"marker\":{\"line\":{\"color\":\"#E5ECF6\",\"width\":0.5},\"pattern\":{\"fillmode\":\"overlay\",\"size\":10,\"solidity\":0.2}},\"type\":\"bar\"}],\"scattergeo\":[{\"type\":\"scattergeo\",\"marker\":{\"colorbar\":{\"outlinewidth\":0,\"ticks\":\"\"}}}],\"scatterpolar\":[{\"type\":\"scatterpolar\",\"marker\":{\"colorbar\":{\"outlinewidth\":0,\"ticks\":\"\"}}}],\"histogram\":[{\"marker\":{\"pattern\":{\"fillmode\":\"overlay\",\"size\":10,\"solidity\":0.2}},\"type\":\"histogram\"}],\"scattergl\":[{\"type\":\"scattergl\",\"marker\":{\"colorbar\":{\"outlinewidth\":0,\"ticks\":\"\"}}}],\"scatter3d\":[{\"type\":\"scatter3d\",\"line\":{\"colorbar\":{\"outlinewidth\":0,\"ticks\":\"\"}},\"marker\":{\"colorbar\":{\"outlinewidth\":0,\"ticks\":\"\"}}}],\"scattermapbox\":[{\"type\":\"scattermapbox\",\"marker\":{\"colorbar\":{\"outlinewidth\":0,\"ticks\":\"\"}}}],\"scatterternary\":[{\"type\":\"scatterternary\",\"marker\":{\"colorbar\":{\"outlinewidth\":0,\"ticks\":\"\"}}}],\"scattercarpet\":[{\"type\":\"scattercarpet\",\"marker\":{\"colorbar\":{\"outlinewidth\":0,\"ticks\":\"\"}}}],\"carpet\":[{\"aaxis\":{\"endlinecolor\":\"#2a3f5f\",\"gridcolor\":\"white\",\"linecolor\":\"white\",\"minorgridcolor\":\"white\",\"startlinecolor\":\"#2a3f5f\"},\"baxis\":{\"endlinecolor\":\"#2a3f5f\",\"gridcolor\":\"white\",\"linecolor\":\"white\",\"minorgridcolor\":\"white\",\"startlinecolor\":\"#2a3f5f\"},\"type\":\"carpet\"}],\"table\":[{\"cells\":{\"fill\":{\"color\":\"#EBF0F8\"},\"line\":{\"color\":\"white\"}},\"header\":{\"fill\":{\"color\":\"#C8D4E3\"},\"line\":{\"color\":\"white\"}},\"type\":\"table\"}],\"barpolar\":[{\"marker\":{\"line\":{\"color\":\"#E5ECF6\",\"width\":0.5},\"pattern\":{\"fillmode\":\"overlay\",\"size\":10,\"solidity\":0.2}},\"type\":\"barpolar\"}],\"pie\":[{\"automargin\":true,\"type\":\"pie\"}]},\"layout\":{\"autotypenumbers\":\"strict\",\"colorway\":[\"#636efa\",\"#EF553B\",\"#00cc96\",\"#ab63fa\",\"#FFA15A\",\"#19d3f3\",\"#FF6692\",\"#B6E880\",\"#FF97FF\",\"#FECB52\"],\"font\":{\"color\":\"#2a3f5f\"},\"hovermode\":\"closest\",\"hoverlabel\":{\"align\":\"left\"},\"paper_bgcolor\":\"white\",\"plot_bgcolor\":\"#E5ECF6\",\"polar\":{\"bgcolor\":\"#E5ECF6\",\"angularaxis\":{\"gridcolor\":\"white\",\"linecolor\":\"white\",\"ticks\":\"\"},\"radialaxis\":{\"gridcolor\":\"white\",\"linecolor\":\"white\",\"ticks\":\"\"}},\"ternary\":{\"bgcolor\":\"#E5ECF6\",\"aaxis\":{\"gridcolor\":\"white\",\"linecolor\":\"white\",\"ticks\":\"\"},\"baxis\":{\"gridcolor\":\"white\",\"linecolor\":\"white\",\"ticks\":\"\"},\"caxis\":{\"gridcolor\":\"white\",\"linecolor\":\"white\",\"ticks\":\"\"}},\"coloraxis\":{\"colorbar\":{\"outlinewidth\":0,\"ticks\":\"\"}},\"colorscale\":{\"sequential\":[[0.0,\"#0d0887\"],[0.1111111111111111,\"#46039f\"],[0.2222222222222222,\"#7201a8\"],[0.3333333333333333,\"#9c179e\"],[0.4444444444444444,\"#bd3786\"],[0.5555555555555556,\"#d8576b\"],[0.6666666666666666,\"#ed7953\"],[0.7777777777777778,\"#fb9f3a\"],[0.8888888888888888,\"#fdca26\"],[1.0,\"#f0f921\"]],\"sequentialminus\":[[0.0,\"#0d0887\"],[0.1111111111111111,\"#46039f\"],[0.2222222222222222,\"#7201a8\"],[0.3333333333333333,\"#9c179e\"],[0.4444444444444444,\"#bd3786\"],[0.5555555555555556,\"#d8576b\"],[0.6666666666666666,\"#ed7953\"],[0.7777777777777778,\"#fb9f3a\"],[0.8888888888888888,\"#fdca26\"],[1.0,\"#f0f921\"]],\"diverging\":[[0,\"#8e0152\"],[0.1,\"#c51b7d\"],[0.2,\"#de77ae\"],[0.3,\"#f1b6da\"],[0.4,\"#fde0ef\"],[0.5,\"#f7f7f7\"],[0.6,\"#e6f5d0\"],[0.7,\"#b8e186\"],[0.8,\"#7fbc41\"],[0.9,\"#4d9221\"],[1,\"#276419\"]]},\"xaxis\":{\"gridcolor\":\"white\",\"linecolor\":\"white\",\"ticks\":\"\",\"title\":{\"standoff\":15},\"zerolinecolor\":\"white\",\"automargin\":true,\"zerolinewidth\":2},\"yaxis\":{\"gridcolor\":\"white\",\"linecolor\":\"white\",\"ticks\":\"\",\"title\":{\"standoff\":15},\"zerolinecolor\":\"white\",\"automargin\":true,\"zerolinewidth\":2},\"scene\":{\"xaxis\":{\"backgroundcolor\":\"#E5ECF6\",\"gridcolor\":\"white\",\"linecolor\":\"white\",\"showbackground\":true,\"ticks\":\"\",\"zerolinecolor\":\"white\",\"gridwidth\":2},\"yaxis\":{\"backgroundcolor\":\"#E5ECF6\",\"gridcolor\":\"white\",\"linecolor\":\"white\",\"showbackground\":true,\"ticks\":\"\",\"zerolinecolor\":\"white\",\"gridwidth\":2},\"zaxis\":{\"backgroundcolor\":\"#E5ECF6\",\"gridcolor\":\"white\",\"linecolor\":\"white\",\"showbackground\":true,\"ticks\":\"\",\"zerolinecolor\":\"white\",\"gridwidth\":2}},\"shapedefaults\":{\"line\":{\"color\":\"#2a3f5f\"}},\"annotationdefaults\":{\"arrowcolor\":\"#2a3f5f\",\"arrowhead\":0,\"arrowwidth\":1},\"geo\":{\"bgcolor\":\"white\",\"landcolor\":\"#E5ECF6\",\"subunitcolor\":\"white\",\"showland\":true,\"showlakes\":true,\"lakecolor\":\"white\"},\"title\":{\"x\":0.05},\"mapbox\":{\"style\":\"light\"}}},\"xaxis\":{\"anchor\":\"y\",\"domain\":[0.0,1.0],\"title\":{\"text\":\"Country\"},\"categoryorder\":\"total descending\"},\"yaxis\":{\"anchor\":\"x\",\"domain\":[0.0,1.0],\"title\":{\"text\":\"Sales amount\"}},\"legend\":{\"tracegroupgap\":0},\"title\":{\"text\":\"Sales amount in each country in 2021\"},\"barmode\":\"relative\"},                        {\"responsive\": true}                    ).then(function(){\n",
       "                            \n",
       "var gd = document.getElementById('637bcf49-f10e-4a68-a33c-e6dc651460ce');\n",
       "var x = new MutationObserver(function (mutations, observer) {{\n",
       "        var display = window.getComputedStyle(gd).display;\n",
       "        if (!display || display === 'none') {{\n",
       "            console.log([gd, 'removed!']);\n",
       "            Plotly.purge(gd);\n",
       "            observer.disconnect();\n",
       "        }}\n",
       "}});\n",
       "\n",
       "// Listen for the removal of the full notebook cells\n",
       "var notebookContainer = gd.closest('#notebook-container');\n",
       "if (notebookContainer) {{\n",
       "    x.observe(notebookContainer, {childList: true});\n",
       "}}\n",
       "\n",
       "// Listen for the clearing of the current output cell\n",
       "var outputEl = gd.closest('.output');\n",
       "if (outputEl) {{\n",
       "    x.observe(outputEl, {childList: true});\n",
       "}}\n",
       "\n",
       "                        })                };                });            </script>        </div>"
      ]
     },
     "metadata": {},
     "output_type": "display_data"
    }
   ],
   "source": [
    "country=df.groupby('Country')['Total price'].sum()\n",
    "country.to_csv('country.csv')\n",
    "country=pd.read_csv('country.csv')\n",
    "\n",
    "fig=px.bar(country,x='Country',y='Total price',title='Sales amount in each country in 2021')\n",
    "fig.update_layout(xaxis={'categoryorder':'total descending'},yaxis_title='Sales amount')\n",
    "fig.show()"
   ]
  },
  {
   "cell_type": "markdown",
   "id": "595c20fa",
   "metadata": {
    "papermill": {
     "duration": 0.022058,
     "end_time": "2023-07-09T07:35:06.166084",
     "exception": false,
     "start_time": "2023-07-09T07:35:06.144026",
     "status": "completed"
    },
    "tags": []
   },
   "source": [
    "### <b><span style='color:#f0bc22'> 2-2. |</span> Category"
   ]
  },
  {
   "cell_type": "markdown",
   "id": "34c5a9b9",
   "metadata": {
    "papermill": {
     "duration": 0.021996,
     "end_time": "2023-07-09T07:35:06.210355",
     "exception": false,
     "start_time": "2023-07-09T07:35:06.188359",
     "status": "completed"
    },
    "tags": []
   },
   "source": [
    "> ### Top 10 highest sales amount items"
   ]
  },
  {
   "cell_type": "code",
   "execution_count": 20,
   "id": "8d5ec983",
   "metadata": {
    "_kg_hide-input": true,
    "execution": {
     "iopub.execute_input": "2023-07-09T07:35:06.257254Z",
     "iopub.status.busy": "2023-07-09T07:35:06.256827Z",
     "iopub.status.idle": "2023-07-09T07:35:06.438411Z",
     "shell.execute_reply": "2023-07-09T07:35:06.437186Z"
    },
    "papermill": {
     "duration": 0.208264,
     "end_time": "2023-07-09T07:35:06.441059",
     "exception": false,
     "start_time": "2023-07-09T07:35:06.232795",
     "status": "completed"
    },
    "tags": []
   },
   "outputs": [
    {
     "data": {
      "text/html": [
       "<style type=\"text/css\">\n",
       "#T_f6fd2_row0_col1 {\n",
       "  background-color: #008000;\n",
       "  color: #f1f1f1;\n",
       "}\n",
       "#T_f6fd2_row1_col1 {\n",
       "  background-color: #c0dec0;\n",
       "  color: #000000;\n",
       "}\n",
       "#T_f6fd2_row2_col1 {\n",
       "  background-color: #d7e9d7;\n",
       "  color: #000000;\n",
       "}\n",
       "#T_f6fd2_row3_col1 {\n",
       "  background-color: #e0eee0;\n",
       "  color: #000000;\n",
       "}\n",
       "#T_f6fd2_row4_col1 {\n",
       "  background-color: #e2efe2;\n",
       "  color: #000000;\n",
       "}\n",
       "#T_f6fd2_row5_col1, #T_f6fd2_row6_col1 {\n",
       "  background-color: #e4f0e4;\n",
       "  color: #000000;\n",
       "}\n",
       "#T_f6fd2_row7_col1 {\n",
       "  background-color: #e7f1e7;\n",
       "  color: #000000;\n",
       "}\n",
       "#T_f6fd2_row8_col1 {\n",
       "  background-color: #e8f2e8;\n",
       "  color: #000000;\n",
       "}\n",
       "#T_f6fd2_row9_col1 {\n",
       "  background-color: #ebf3eb;\n",
       "  color: #000000;\n",
       "}\n",
       "</style>\n",
       "<table id=\"T_f6fd2\">\n",
       "  <thead>\n",
       "    <tr>\n",
       "      <th class=\"blank level0\" >&nbsp;</th>\n",
       "      <th id=\"T_f6fd2_level0_col0\" class=\"col_heading level0 col0\" >Itemname</th>\n",
       "      <th id=\"T_f6fd2_level0_col1\" class=\"col_heading level0 col1\" >Price</th>\n",
       "    </tr>\n",
       "  </thead>\n",
       "  <tbody>\n",
       "    <tr>\n",
       "      <th id=\"T_f6fd2_level0_row0\" class=\"row_heading level0 row0\" >0</th>\n",
       "      <td id=\"T_f6fd2_row0_col0\" class=\"data row0 col0\" >REGENCY CAKESTAND 3 TIER</td>\n",
       "      <td id=\"T_f6fd2_row0_col1\" class=\"data row0 col1\" >24653.67</td>\n",
       "    </tr>\n",
       "    <tr>\n",
       "      <th id=\"T_f6fd2_level0_row1\" class=\"row_heading level0 row1\" >1</th>\n",
       "      <td id=\"T_f6fd2_row1_col0\" class=\"data row1 col0\" >PARTY BUNTING</td>\n",
       "      <td id=\"T_f6fd2_row1_col1\" class=\"data row1 col1\" >9416.13</td>\n",
       "    </tr>\n",
       "    <tr>\n",
       "      <th id=\"T_f6fd2_level0_row2\" class=\"row_heading level0 row2\" >2</th>\n",
       "      <td id=\"T_f6fd2_row2_col0\" class=\"data row2 col0\" >SET OF 3 CAKE TINS PANTRY DESIGN</td>\n",
       "      <td id=\"T_f6fd2_row2_col1\" class=\"data row2 col1\" >7621.05</td>\n",
       "    </tr>\n",
       "    <tr>\n",
       "      <th id=\"T_f6fd2_level0_row3\" class=\"row_heading level0 row3\" >3</th>\n",
       "      <td id=\"T_f6fd2_row3_col0\" class=\"data row3 col0\" >CREAM SWEETHEART MINI CHEST</td>\n",
       "      <td id=\"T_f6fd2_row3_col1\" class=\"data row3 col1\" >6836.38</td>\n",
       "    </tr>\n",
       "    <tr>\n",
       "      <th id=\"T_f6fd2_level0_row4\" class=\"row_heading level0 row4\" >4</th>\n",
       "      <td id=\"T_f6fd2_row4_col0\" class=\"data row4 col0\" >SET/4 WHITE RETRO STORAGE CUBES</td>\n",
       "      <td id=\"T_f6fd2_row4_col1\" class=\"data row4 col1\" >6714.75</td>\n",
       "    </tr>\n",
       "    <tr>\n",
       "      <th id=\"T_f6fd2_level0_row5\" class=\"row_heading level0 row5\" >5</th>\n",
       "      <td id=\"T_f6fd2_row5_col0\" class=\"data row5 col0\" >ENAMEL BREAD BIN CREAM</td>\n",
       "      <td id=\"T_f6fd2_row5_col1\" class=\"data row5 col1\" >6585.93</td>\n",
       "    </tr>\n",
       "    <tr>\n",
       "      <th id=\"T_f6fd2_level0_row6\" class=\"row_heading level0 row6\" >6</th>\n",
       "      <td id=\"T_f6fd2_row6_col0\" class=\"data row6 col0\" >WHITE HANGING HEART T-LIGHT HOLDER</td>\n",
       "      <td id=\"T_f6fd2_row6_col1\" class=\"data row6 col1\" >6563.80</td>\n",
       "    </tr>\n",
       "    <tr>\n",
       "      <th id=\"T_f6fd2_level0_row7\" class=\"row_heading level0 row7\" >7</th>\n",
       "      <td id=\"T_f6fd2_row7_col0\" class=\"data row7 col0\" >DOORMAT KEEP CALM AND COME IN</td>\n",
       "      <td id=\"T_f6fd2_row7_col1\" class=\"data row7 col1\" >6385.09</td>\n",
       "    </tr>\n",
       "    <tr>\n",
       "      <th id=\"T_f6fd2_level0_row8\" class=\"row_heading level0 row8\" >8</th>\n",
       "      <td id=\"T_f6fd2_row8_col0\" class=\"data row8 col0\" >SPOTTY BUNTING</td>\n",
       "      <td id=\"T_f6fd2_row8_col1\" class=\"data row8 col1\" >6262.40</td>\n",
       "    </tr>\n",
       "    <tr>\n",
       "      <th id=\"T_f6fd2_level0_row9\" class=\"row_heading level0 row9\" >9</th>\n",
       "      <td id=\"T_f6fd2_row9_col0\" class=\"data row9 col0\" >RED RETROSPOT CAKE STAND</td>\n",
       "      <td id=\"T_f6fd2_row9_col1\" class=\"data row9 col1\" >6035.29</td>\n",
       "    </tr>\n",
       "  </tbody>\n",
       "</table>\n"
      ],
      "text/plain": [
       "<pandas.io.formats.style.Styler at 0x7ababdbbd1e0>"
      ]
     },
     "execution_count": 20,
     "metadata": {},
     "output_type": "execute_result"
    }
   ],
   "source": [
    "cm=sns.light_palette(\"green\",as_cmap=True)\n",
    "\n",
    "item_sales=df.groupby('Itemname')['Price'].sum().sort_values(ascending=False)[:10]\n",
    "item_sales.to_csv('item_sales.csv')\n",
    "item_sales=pd.read_csv('item_sales.csv')\n",
    "item_sales.style.background_gradient(cmap=cm).set_precision(2)"
   ]
  },
  {
   "cell_type": "markdown",
   "id": "4cc18c30",
   "metadata": {
    "papermill": {
     "duration": 0.02227,
     "end_time": "2023-07-09T07:35:06.486107",
     "exception": false,
     "start_time": "2023-07-09T07:35:06.463837",
     "status": "completed"
    },
    "tags": []
   },
   "source": [
    "> ### Top 10 most purchased items"
   ]
  },
  {
   "cell_type": "code",
   "execution_count": 21,
   "id": "a2acbba2",
   "metadata": {
    "_kg_hide-input": true,
    "execution": {
     "iopub.execute_input": "2023-07-09T07:35:06.533245Z",
     "iopub.status.busy": "2023-07-09T07:35:06.532791Z",
     "iopub.status.idle": "2023-07-09T07:35:06.638395Z",
     "shell.execute_reply": "2023-07-09T07:35:06.637260Z"
    },
    "papermill": {
     "duration": 0.132439,
     "end_time": "2023-07-09T07:35:06.641000",
     "exception": false,
     "start_time": "2023-07-09T07:35:06.508561",
     "status": "completed"
    },
    "tags": []
   },
   "outputs": [
    {
     "data": {
      "text/html": [
       "<style type=\"text/css\">\n",
       "#T_f1976_row0_col1 {\n",
       "  background-color: #008000;\n",
       "  color: #f1f1f1;\n",
       "}\n",
       "#T_f1976_row1_col1 {\n",
       "  background-color: #148a14;\n",
       "  color: #f1f1f1;\n",
       "}\n",
       "#T_f1976_row2_col1 {\n",
       "  background-color: #e5f0e5;\n",
       "  color: #000000;\n",
       "}\n",
       "#T_f1976_row3_col1 {\n",
       "  background-color: #e7f1e7;\n",
       "  color: #000000;\n",
       "}\n",
       "#T_f1976_row4_col1 {\n",
       "  background-color: #e8f2e8;\n",
       "  color: #000000;\n",
       "}\n",
       "#T_f1976_row5_col1 {\n",
       "  background-color: #eaf2ea;\n",
       "  color: #000000;\n",
       "}\n",
       "#T_f1976_row6_col1, #T_f1976_row7_col1, #T_f1976_row8_col1, #T_f1976_row9_col1 {\n",
       "  background-color: #ebf3eb;\n",
       "  color: #000000;\n",
       "}\n",
       "</style>\n",
       "<table id=\"T_f1976\">\n",
       "  <thead>\n",
       "    <tr>\n",
       "      <th class=\"blank level0\" >&nbsp;</th>\n",
       "      <th id=\"T_f1976_level0_col0\" class=\"col_heading level0 col0\" >Itemname</th>\n",
       "      <th id=\"T_f1976_level0_col1\" class=\"col_heading level0 col1\" >Quantity</th>\n",
       "    </tr>\n",
       "  </thead>\n",
       "  <tbody>\n",
       "    <tr>\n",
       "      <th id=\"T_f1976_level0_row0\" class=\"row_heading level0 row0\" >520583</th>\n",
       "      <td id=\"T_f1976_row0_col0\" class=\"data row0 col0\" >PAPER CRAFT , LITTLE BIRDIE</td>\n",
       "      <td id=\"T_f1976_row0_col1\" class=\"data row0 col1\" >80995</td>\n",
       "    </tr>\n",
       "    <tr>\n",
       "      <th id=\"T_f1976_level0_row1\" class=\"row_heading level0 row1\" >59999</th>\n",
       "      <td id=\"T_f1976_row1_col0\" class=\"data row1 col0\" >MEDIUM CERAMIC TOP STORAGE JAR</td>\n",
       "      <td id=\"T_f1976_row1_col1\" class=\"data row1 col1\" >74215</td>\n",
       "    </tr>\n",
       "    <tr>\n",
       "      <th id=\"T_f1976_level0_row2\" class=\"row_heading level0 row2\" >405138</th>\n",
       "      <td id=\"T_f1976_row2_col0\" class=\"data row2 col0\" >WORLD WAR 2 GLIDERS ASSTD DESIGNS</td>\n",
       "      <td id=\"T_f1976_row2_col1\" class=\"data row2 col1\" >4800</td>\n",
       "    </tr>\n",
       "    <tr>\n",
       "      <th id=\"T_f1976_level0_row3\" class=\"row_heading level0 row3\" >198929</th>\n",
       "      <td id=\"T_f1976_row3_col0\" class=\"data row3 col0\" >SMALL POPCORN HOLDER</td>\n",
       "      <td id=\"T_f1976_row3_col1\" class=\"data row3 col1\" >4300</td>\n",
       "    </tr>\n",
       "    <tr>\n",
       "      <th id=\"T_f1976_level0_row4\" class=\"row_heading level0 row4\" >94245</th>\n",
       "      <td id=\"T_f1976_row4_col0\" class=\"data row4 col0\" >EMPIRE DESIGN ROSETTE</td>\n",
       "      <td id=\"T_f1976_row4_col1\" class=\"data row4 col1\" >3906</td>\n",
       "    </tr>\n",
       "    <tr>\n",
       "      <th id=\"T_f1976_level0_row5\" class=\"row_heading level0 row5\" >260928</th>\n",
       "      <td id=\"T_f1976_row5_col0\" class=\"data row5 col0\" >ESSENTIAL BALM 3.5g TIN IN ENVELOPE</td>\n",
       "      <td id=\"T_f1976_row5_col1\" class=\"data row5 col1\" >3186</td>\n",
       "    </tr>\n",
       "    <tr>\n",
       "      <th id=\"T_f1976_level0_row6\" class=\"row_heading level0 row6\" >51228</th>\n",
       "      <td id=\"T_f1976_row6_col0\" class=\"data row6 col0\" >FAIRY CAKE FLANNEL ASSORTED COLOUR</td>\n",
       "      <td id=\"T_f1976_row6_col1\" class=\"data row6 col1\" >3114</td>\n",
       "    </tr>\n",
       "    <tr>\n",
       "      <th id=\"T_f1976_level0_row7\" class=\"row_heading level0 row7\" >154834</th>\n",
       "      <td id=\"T_f1976_row7_col0\" class=\"data row7 col0\" >FAIRY CAKE FLANNEL ASSORTED COLOUR</td>\n",
       "      <td id=\"T_f1976_row7_col1\" class=\"data row7 col1\" >3114</td>\n",
       "    </tr>\n",
       "    <tr>\n",
       "      <th id=\"T_f1976_level0_row8\" class=\"row_heading level0 row8\" >416997</th>\n",
       "      <td id=\"T_f1976_row8_col0\" class=\"data row8 col0\" >SMALL CHINESE STYLE SCISSOR</td>\n",
       "      <td id=\"T_f1976_row8_col1\" class=\"data row8 col1\" >3000</td>\n",
       "    </tr>\n",
       "    <tr>\n",
       "      <th id=\"T_f1976_level0_row9\" class=\"row_heading level0 row9\" >280572</th>\n",
       "      <td id=\"T_f1976_row9_col0\" class=\"data row9 col0\" >ASSORTED COLOUR BIRD ORNAMENT</td>\n",
       "      <td id=\"T_f1976_row9_col1\" class=\"data row9 col1\" >2880</td>\n",
       "    </tr>\n",
       "  </tbody>\n",
       "</table>\n"
      ],
      "text/plain": [
       "<pandas.io.formats.style.Styler at 0x7abaa1f916c0>"
      ]
     },
     "execution_count": 21,
     "metadata": {},
     "output_type": "execute_result"
    }
   ],
   "source": [
    "df[['Itemname','Quantity']].sort_values(by='Quantity',ascending=False)[:10].style.background_gradient(cmap=cm).set_precision(2)"
   ]
  },
  {
   "cell_type": "markdown",
   "id": "97bb71f8",
   "metadata": {
    "papermill": {
     "duration": 0.022444,
     "end_time": "2023-07-09T07:35:06.686334",
     "exception": false,
     "start_time": "2023-07-09T07:35:06.663890",
     "status": "completed"
    },
    "tags": []
   },
   "source": [
    "> ### Top 10 most frequently purchased items "
   ]
  },
  {
   "cell_type": "code",
   "execution_count": 22,
   "id": "222a4b94",
   "metadata": {
    "_kg_hide-input": true,
    "execution": {
     "iopub.execute_input": "2023-07-09T07:35:06.733637Z",
     "iopub.status.busy": "2023-07-09T07:35:06.733267Z",
     "iopub.status.idle": "2023-07-09T07:35:07.117822Z",
     "shell.execute_reply": "2023-07-09T07:35:07.116899Z"
    },
    "papermill": {
     "duration": 0.411177,
     "end_time": "2023-07-09T07:35:07.120212",
     "exception": false,
     "start_time": "2023-07-09T07:35:06.709035",
     "status": "completed"
    },
    "tags": []
   },
   "outputs": [
    {
     "data": {
      "image/png": "[encoded data removed]",
      "text/plain": [
       "<Figure size 600x300 with 1 Axes>"
      ]
     },
     "metadata": {},
     "output_type": "display_data"
    }
   ],
   "source": [
    "color=plt.cm.rainbow(np.linspace(0,1,30))\n",
    "df['Itemname'].value_counts().head(10).plot.bar(color=color,figsize=(6,3))\n",
    "# plt.title('Frequency of Most popular items',fontsize=14)\n",
    "plt.xticks(rotation=90,fontsize=8)\n",
    "plt.grid()\n",
    "plt.show()"
   ]
  },
  {
   "cell_type": "markdown",
   "id": "b72cbc06",
   "metadata": {
    "papermill": {
     "duration": 0.024206,
     "end_time": "2023-07-09T07:35:07.170668",
     "exception": false,
     "start_time": "2023-07-09T07:35:07.146462",
     "status": "completed"
    },
    "tags": []
   },
   "source": [
    "<a id=\"section-three\"></a>\n",
    "## <b><span style='color:#f0bc22'> 3. |</span> Market Basket Analysis"
   ]
  },
  {
   "cell_type": "markdown",
   "id": "b72221a5",
   "metadata": {
    "papermill": {
     "duration": 0.023359,
     "end_time": "2023-07-09T07:35:07.217889",
     "exception": false,
     "start_time": "2023-07-09T07:35:07.194530",
     "status": "completed"
    },
    "tags": []
   },
   "source": [
    "Since the UK is the most purchased country, let insight into the item combination purchased in the UK."
   ]
  },
  {
   "cell_type": "markdown",
   "id": "96b5bdc3",
   "metadata": {
    "papermill": {
     "duration": 0.023243,
     "end_time": "2023-07-09T07:35:07.264932",
     "exception": false,
     "start_time": "2023-07-09T07:35:07.241689",
     "status": "completed"
    },
    "tags": []
   },
   "source": [
    "### <b><span style='color:#f0bc22'> 3-1. |</span> Implementing Apriori"
   ]
  },
  {
   "cell_type": "code",
   "execution_count": 23,
   "id": "50e575ed",
   "metadata": {
    "_kg_hide-input": true,
    "execution": {
     "iopub.execute_input": "2023-07-09T07:35:07.314460Z",
     "iopub.status.busy": "2023-07-09T07:35:07.313449Z",
     "iopub.status.idle": "2023-07-09T07:35:07.332442Z",
     "shell.execute_reply": "2023-07-09T07:35:07.331362Z"
    },
    "papermill": {
     "duration": 0.046309,
     "end_time": "2023-07-09T07:35:07.334904",
     "exception": false,
     "start_time": "2023-07-09T07:35:07.288595",
     "status": "completed"
    },
    "tags": []
   },
   "outputs": [],
   "source": [
    "from mlxtend.frequent_patterns import apriori\n",
    "from mlxtend.frequent_patterns import association_rules"
   ]
  },
  {
   "cell_type": "code",
   "execution_count": 24,
   "id": "609b1852",
   "metadata": {
    "_kg_hide-input": true,
    "execution": {
     "iopub.execute_input": "2023-07-09T07:35:07.384208Z",
     "iopub.status.busy": "2023-07-09T07:35:07.383432Z",
     "iopub.status.idle": "2023-07-09T07:35:07.793446Z",
     "shell.execute_reply": "2023-07-09T07:35:07.792265Z"
    },
    "papermill": {
     "duration": 0.437694,
     "end_time": "2023-07-09T07:35:07.796370",
     "exception": false,
     "start_time": "2023-07-09T07:35:07.358676",
     "status": "completed"
    },
    "tags": []
   },
   "outputs": [],
   "source": [
    "df['Itemname']=df['Itemname'].str.strip()\n",
    "df['BillNo']=df['BillNo'].astype('str')"
   ]
  },
  {
   "cell_type": "code",
   "execution_count": 25,
   "id": "d49ca4b9",
   "metadata": {
    "_kg_hide-input": true,
    "execution": {
     "iopub.execute_input": "2023-07-09T07:35:07.846246Z",
     "iopub.status.busy": "2023-07-09T07:35:07.845508Z",
     "iopub.status.idle": "2023-07-09T07:35:09.780376Z",
     "shell.execute_reply": "2023-07-09T07:35:09.779242Z"
    },
    "papermill": {
     "duration": 1.963233,
     "end_time": "2023-07-09T07:35:09.783228",
     "exception": false,
     "start_time": "2023-07-09T07:35:07.819995",
     "status": "completed"
    },
    "tags": []
   },
   "outputs": [],
   "source": [
    "basket=(df[df['Country']=='United Kingdom']\n",
    "        .groupby(['BillNo','Itemname'])['Quantity']\n",
    "        .sum().unstack().reset_index().fillna(0)\n",
    "        .set_index('BillNo'))"
   ]
  },
  {
   "cell_type": "code",
   "execution_count": 26,
   "id": "33f1cbfb",
   "metadata": {
    "_kg_hide-input": true,
    "execution": {
     "iopub.execute_input": "2023-07-09T07:35:09.834306Z",
     "iopub.status.busy": "2023-07-09T07:35:09.833532Z",
     "iopub.status.idle": "2023-07-09T07:35:09.866976Z",
     "shell.execute_reply": "2023-07-09T07:35:09.865805Z"
    },
    "papermill": {
     "duration": 0.061898,
     "end_time": "2023-07-09T07:35:09.869550",
     "exception": false,
     "start_time": "2023-07-09T07:35:09.807652",
     "status": "completed"
    },
    "tags": []
   },
   "outputs": [
    {
     "data": {
      "text/html": [
       "<div>\n",
       "<style scoped>\n",
       "    .dataframe tbody tr th:only-of-type {\n",
       "        vertical-align: middle;\n",
       "    }\n",
       "\n",
       "    .dataframe tbody tr th {\n",
       "        vertical-align: top;\n",
       "    }\n",
       "\n",
       "    .dataframe thead th {\n",
       "        text-align: right;\n",
       "    }\n",
       "</style>\n",
       "<table border=\"1\" class=\"dataframe\">\n",
       "  <thead>\n",
       "    <tr style=\"text-align: right;\">\n",
       "      <th>Itemname</th>\n",
       "      <th>10 COLOUR SPACEBOY PEN</th>\n",
       "      <th>12 COLOURED PARTY BALLOONS</th>\n",
       "      <th>12 DAISY PEGS IN WOOD BOX</th>\n",
       "      <th>12 EGG HOUSE PAINTED WOOD</th>\n",
       "      <th>12 HANGING EGGS HAND PAINTED</th>\n",
       "      <th>12 IVORY ROSE PEG PLACE SETTINGS</th>\n",
       "      <th>12 MESSAGE CARDS WITH ENVELOPES</th>\n",
       "      <th>12 PENCIL SMALL TUBE WOODLAND</th>\n",
       "      <th>12 PENCILS SMALL TUBE RED RETROSPOT</th>\n",
       "      <th>12 PENCILS SMALL TUBE SKULL</th>\n",
       "      <th>...</th>\n",
       "      <th>ZINC STAR T-LIGHT HOLDER</th>\n",
       "      <th>ZINC SWEETHEART SOAP DISH</th>\n",
       "      <th>ZINC SWEETHEART WIRE LETTER RACK</th>\n",
       "      <th>ZINC T-LIGHT HOLDER STAR LARGE</th>\n",
       "      <th>ZINC T-LIGHT HOLDER STARS LARGE</th>\n",
       "      <th>ZINC T-LIGHT HOLDER STARS SMALL</th>\n",
       "      <th>ZINC TOP  2 DOOR WOODEN SHELF</th>\n",
       "      <th>ZINC WILLIE WINKIE  CANDLE STICK</th>\n",
       "      <th>ZINC WIRE KITCHEN ORGANISER</th>\n",
       "      <th>ZINC WIRE SWEETHEART LETTER TRAY</th>\n",
       "    </tr>\n",
       "    <tr>\n",
       "      <th>BillNo</th>\n",
       "      <th></th>\n",
       "      <th></th>\n",
       "      <th></th>\n",
       "      <th></th>\n",
       "      <th></th>\n",
       "      <th></th>\n",
       "      <th></th>\n",
       "      <th></th>\n",
       "      <th></th>\n",
       "      <th></th>\n",
       "      <th></th>\n",
       "      <th></th>\n",
       "      <th></th>\n",
       "      <th></th>\n",
       "      <th></th>\n",
       "      <th></th>\n",
       "      <th></th>\n",
       "      <th></th>\n",
       "      <th></th>\n",
       "      <th></th>\n",
       "      <th></th>\n",
       "    </tr>\n",
       "  </thead>\n",
       "  <tbody>\n",
       "    <tr>\n",
       "      <th>539993</th>\n",
       "      <td>0.0</td>\n",
       "      <td>0.0</td>\n",
       "      <td>0.0</td>\n",
       "      <td>0.0</td>\n",
       "      <td>0.0</td>\n",
       "      <td>0.0</td>\n",
       "      <td>0.0</td>\n",
       "      <td>0.0</td>\n",
       "      <td>0.0</td>\n",
       "      <td>0.0</td>\n",
       "      <td>...</td>\n",
       "      <td>0.0</td>\n",
       "      <td>0.0</td>\n",
       "      <td>0.0</td>\n",
       "      <td>0.0</td>\n",
       "      <td>0.0</td>\n",
       "      <td>0.0</td>\n",
       "      <td>0.0</td>\n",
       "      <td>0.0</td>\n",
       "      <td>0.0</td>\n",
       "      <td>0.0</td>\n",
       "    </tr>\n",
       "    <tr>\n",
       "      <th>540001</th>\n",
       "      <td>0.0</td>\n",
       "      <td>0.0</td>\n",
       "      <td>0.0</td>\n",
       "      <td>0.0</td>\n",
       "      <td>0.0</td>\n",
       "      <td>0.0</td>\n",
       "      <td>0.0</td>\n",
       "      <td>0.0</td>\n",
       "      <td>0.0</td>\n",
       "      <td>0.0</td>\n",
       "      <td>...</td>\n",
       "      <td>0.0</td>\n",
       "      <td>0.0</td>\n",
       "      <td>0.0</td>\n",
       "      <td>0.0</td>\n",
       "      <td>0.0</td>\n",
       "      <td>0.0</td>\n",
       "      <td>0.0</td>\n",
       "      <td>0.0</td>\n",
       "      <td>0.0</td>\n",
       "      <td>0.0</td>\n",
       "    </tr>\n",
       "    <tr>\n",
       "      <th>540002</th>\n",
       "      <td>0.0</td>\n",
       "      <td>0.0</td>\n",
       "      <td>0.0</td>\n",
       "      <td>0.0</td>\n",
       "      <td>0.0</td>\n",
       "      <td>0.0</td>\n",
       "      <td>0.0</td>\n",
       "      <td>0.0</td>\n",
       "      <td>0.0</td>\n",
       "      <td>0.0</td>\n",
       "      <td>...</td>\n",
       "      <td>0.0</td>\n",
       "      <td>0.0</td>\n",
       "      <td>0.0</td>\n",
       "      <td>0.0</td>\n",
       "      <td>0.0</td>\n",
       "      <td>0.0</td>\n",
       "      <td>0.0</td>\n",
       "      <td>0.0</td>\n",
       "      <td>0.0</td>\n",
       "      <td>0.0</td>\n",
       "    </tr>\n",
       "  </tbody>\n",
       "</table>\n",
       "<p>3 rows × 3893 columns</p>\n",
       "</div>"
      ],
      "text/plain": [
       "Itemname  10 COLOUR SPACEBOY PEN  12 COLOURED PARTY BALLOONS  \\\n",
       "BillNo                                                         \n",
       "539993                       0.0                         0.0   \n",
       "540001                       0.0                         0.0   \n",
       "540002                       0.0                         0.0   \n",
       "\n",
       "Itemname  12 DAISY PEGS IN WOOD BOX  12 EGG HOUSE PAINTED WOOD  \\\n",
       "BillNo                                                           \n",
       "539993                          0.0                        0.0   \n",
       "540001                          0.0                        0.0   \n",
       "540002                          0.0                        0.0   \n",
       "\n",
       "Itemname  12 HANGING EGGS HAND PAINTED  12 IVORY ROSE PEG PLACE SETTINGS  \\\n",
       "BillNo                                                                     \n",
       "539993                             0.0                               0.0   \n",
       "540001                             0.0                               0.0   \n",
       "540002                             0.0                               0.0   \n",
       "\n",
       "Itemname  12 MESSAGE CARDS WITH ENVELOPES  12 PENCIL SMALL TUBE WOODLAND  \\\n",
       "BillNo                                                                     \n",
       "539993                                0.0                            0.0   \n",
       "540001                                0.0                            0.0   \n",
       "540002                                0.0                            0.0   \n",
       "\n",
       "Itemname  12 PENCILS SMALL TUBE RED RETROSPOT  12 PENCILS SMALL TUBE SKULL  \\\n",
       "BillNo                                                                       \n",
       "539993                                    0.0                          0.0   \n",
       "540001                                    0.0                          0.0   \n",
       "540002                                    0.0                          0.0   \n",
       "\n",
       "Itemname  ...  ZINC STAR T-LIGHT HOLDER  ZINC SWEETHEART SOAP DISH  \\\n",
       "BillNo    ...                                                        \n",
       "539993    ...                       0.0                        0.0   \n",
       "540001    ...                       0.0                        0.0   \n",
       "540002    ...                       0.0                        0.0   \n",
       "\n",
       "Itemname  ZINC SWEETHEART WIRE LETTER RACK  ZINC T-LIGHT HOLDER STAR LARGE  \\\n",
       "BillNo                                                                       \n",
       "539993                                 0.0                             0.0   \n",
       "540001                                 0.0                             0.0   \n",
       "540002                                 0.0                             0.0   \n",
       "\n",
       "Itemname  ZINC T-LIGHT HOLDER STARS LARGE  ZINC T-LIGHT HOLDER STARS SMALL  \\\n",
       "BillNo                                                                       \n",
       "539993                                0.0                              0.0   \n",
       "540001                                0.0                              0.0   \n",
       "540002                                0.0                              0.0   \n",
       "\n",
       "Itemname  ZINC TOP  2 DOOR WOODEN SHELF  ZINC WILLIE WINKIE  CANDLE STICK  \\\n",
       "BillNo                                                                      \n",
       "539993                              0.0                               0.0   \n",
       "540001                              0.0                               0.0   \n",
       "540002                              0.0                               0.0   \n",
       "\n",
       "Itemname  ZINC WIRE KITCHEN ORGANISER  ZINC WIRE SWEETHEART LETTER TRAY  \n",
       "BillNo                                                                   \n",
       "539993                            0.0                               0.0  \n",
       "540001                            0.0                               0.0  \n",
       "540002                            0.0                               0.0  \n",
       "\n",
       "[3 rows x 3893 columns]"
      ]
     },
     "execution_count": 26,
     "metadata": {},
     "output_type": "execute_result"
    }
   ],
   "source": [
    "basket.head(3)"
   ]
  },
  {
   "cell_type": "code",
   "execution_count": 27,
   "id": "9c6680d0",
   "metadata": {
    "_kg_hide-input": true,
    "_kg_hide-output": true,
    "execution": {
     "iopub.execute_input": "2023-07-09T07:35:09.919941Z",
     "iopub.status.busy": "2023-07-09T07:35:09.919490Z",
     "iopub.status.idle": "2023-07-09T07:35:09.924940Z",
     "shell.execute_reply": "2023-07-09T07:35:09.923781Z"
    },
    "papermill": {
     "duration": 0.033656,
     "end_time": "2023-07-09T07:35:09.927415",
     "exception": false,
     "start_time": "2023-07-09T07:35:09.893759",
     "status": "completed"
    },
    "tags": []
   },
   "outputs": [],
   "source": [
    "def encode_units(x):\n",
    "  if x<=0:\n",
    "    return 0\n",
    "  if x>=1:\n",
    "    return 1"
   ]
  },
  {
   "cell_type": "code",
   "execution_count": 28,
   "id": "a78db402",
   "metadata": {
    "_kg_hide-input": true,
    "_kg_hide-output": true,
    "execution": {
     "iopub.execute_input": "2023-07-09T07:35:09.978390Z",
     "iopub.status.busy": "2023-07-09T07:35:09.977603Z",
     "iopub.status.idle": "2023-07-09T07:36:04.483339Z",
     "shell.execute_reply": "2023-07-09T07:36:04.482303Z"
    },
    "papermill": {
     "duration": 54.535227,
     "end_time": "2023-07-09T07:36:04.486893",
     "exception": false,
     "start_time": "2023-07-09T07:35:09.951666",
     "status": "completed"
    },
    "tags": []
   },
   "outputs": [],
   "source": [
    "basket_sets=basket.applymap(encode_units)"
   ]
  },
  {
   "cell_type": "code",
   "execution_count": 29,
   "id": "64633e75",
   "metadata": {
    "_kg_hide-input": true,
    "_kg_hide-output": true,
    "execution": {
     "iopub.execute_input": "2023-07-09T07:36:04.539167Z",
     "iopub.status.busy": "2023-07-09T07:36:04.538734Z",
     "iopub.status.idle": "2023-07-09T07:36:06.822561Z",
     "shell.execute_reply": "2023-07-09T07:36:06.821408Z"
    },
    "papermill": {
     "duration": 2.312371,
     "end_time": "2023-07-09T07:36:06.825439",
     "exception": false,
     "start_time": "2023-07-09T07:36:04.513068",
     "status": "completed"
    },
    "tags": []
   },
   "outputs": [
    {
     "name": "stderr",
     "output_type": "stream",
     "text": [
      "/opt/conda/lib/python3.10/site-packages/mlxtend/frequent_patterns/fpcommon.py:110: DeprecationWarning:\n",
      "\n",
      "DataFrames with non-bool types result in worse computationalperformance and their support might be discontinued in the future.Please use a DataFrame with bool type\n",
      "\n"
     ]
    }
   ],
   "source": [
    "frequent_itemsets=apriori(basket_sets,min_support=0.03,use_colnames=True)"
   ]
  },
  {
   "cell_type": "code",
   "execution_count": 30,
   "id": "51396ad2",
   "metadata": {
    "_kg_hide-input": true,
    "execution": {
     "iopub.execute_input": "2023-07-09T07:36:06.876268Z",
     "iopub.status.busy": "2023-07-09T07:36:06.875300Z",
     "iopub.status.idle": "2023-07-09T07:36:06.905162Z",
     "shell.execute_reply": "2023-07-09T07:36:06.903919Z"
    },
    "papermill": {
     "duration": 0.057982,
     "end_time": "2023-07-09T07:36:06.907804",
     "exception": false,
     "start_time": "2023-07-09T07:36:06.849822",
     "status": "completed"
    },
    "tags": []
   },
   "outputs": [
    {
     "data": {
      "text/html": [
       "<div>\n",
       "<style scoped>\n",
       "    .dataframe tbody tr th:only-of-type {\n",
       "        vertical-align: middle;\n",
       "    }\n",
       "\n",
       "    .dataframe tbody tr th {\n",
       "        vertical-align: top;\n",
       "    }\n",
       "\n",
       "    .dataframe thead th {\n",
       "        text-align: right;\n",
       "    }\n",
       "</style>\n",
       "<table border=\"1\" class=\"dataframe\">\n",
       "  <thead>\n",
       "    <tr style=\"text-align: right;\">\n",
       "      <th></th>\n",
       "      <th>antecedents</th>\n",
       "      <th>consequents</th>\n",
       "      <th>antecedent support</th>\n",
       "      <th>consequent support</th>\n",
       "      <th>support</th>\n",
       "      <th>confidence</th>\n",
       "      <th>lift</th>\n",
       "      <th>leverage</th>\n",
       "      <th>conviction</th>\n",
       "      <th>zhangs_metric</th>\n",
       "    </tr>\n",
       "  </thead>\n",
       "  <tbody>\n",
       "    <tr>\n",
       "      <th>0</th>\n",
       "      <td>(ALARM CLOCK BAKELIKE GREEN)</td>\n",
       "      <td>(ALARM CLOCK BAKELIKE RED)</td>\n",
       "      <td>0.05</td>\n",
       "      <td>0.05</td>\n",
       "      <td>0.03</td>\n",
       "      <td>0.64</td>\n",
       "      <td>12.41</td>\n",
       "      <td>0.03</td>\n",
       "      <td>2.64</td>\n",
       "      <td>0.97</td>\n",
       "    </tr>\n",
       "    <tr>\n",
       "      <th>1</th>\n",
       "      <td>(ALARM CLOCK BAKELIKE RED)</td>\n",
       "      <td>(ALARM CLOCK BAKELIKE GREEN)</td>\n",
       "      <td>0.05</td>\n",
       "      <td>0.05</td>\n",
       "      <td>0.03</td>\n",
       "      <td>0.59</td>\n",
       "      <td>12.41</td>\n",
       "      <td>0.03</td>\n",
       "      <td>2.32</td>\n",
       "      <td>0.97</td>\n",
       "    </tr>\n",
       "    <tr>\n",
       "      <th>2</th>\n",
       "      <td>(GARDENERS KNEELING PAD KEEP CALM)</td>\n",
       "      <td>(GARDENERS KNEELING PAD CUP OF TEA)</td>\n",
       "      <td>0.05</td>\n",
       "      <td>0.05</td>\n",
       "      <td>0.03</td>\n",
       "      <td>0.60</td>\n",
       "      <td>13.23</td>\n",
       "      <td>0.03</td>\n",
       "      <td>2.40</td>\n",
       "      <td>0.98</td>\n",
       "    </tr>\n",
       "    <tr>\n",
       "      <th>3</th>\n",
       "      <td>(GARDENERS KNEELING PAD CUP OF TEA)</td>\n",
       "      <td>(GARDENERS KNEELING PAD KEEP CALM)</td>\n",
       "      <td>0.05</td>\n",
       "      <td>0.05</td>\n",
       "      <td>0.03</td>\n",
       "      <td>0.72</td>\n",
       "      <td>13.23</td>\n",
       "      <td>0.03</td>\n",
       "      <td>3.39</td>\n",
       "      <td>0.97</td>\n",
       "    </tr>\n",
       "    <tr>\n",
       "      <th>4</th>\n",
       "      <td>(PINK REGENCY TEACUP AND SAUCER)</td>\n",
       "      <td>(GREEN REGENCY TEACUP AND SAUCER)</td>\n",
       "      <td>0.04</td>\n",
       "      <td>0.05</td>\n",
       "      <td>0.03</td>\n",
       "      <td>0.82</td>\n",
       "      <td>15.50</td>\n",
       "      <td>0.03</td>\n",
       "      <td>5.25</td>\n",
       "      <td>0.98</td>\n",
       "    </tr>\n",
       "  </tbody>\n",
       "</table>\n",
       "</div>"
      ],
      "text/plain": [
       "                           antecedents                          consequents  \\\n",
       "0         (ALARM CLOCK BAKELIKE GREEN)           (ALARM CLOCK BAKELIKE RED)   \n",
       "1           (ALARM CLOCK BAKELIKE RED)         (ALARM CLOCK BAKELIKE GREEN)   \n",
       "2   (GARDENERS KNEELING PAD KEEP CALM)  (GARDENERS KNEELING PAD CUP OF TEA)   \n",
       "3  (GARDENERS KNEELING PAD CUP OF TEA)   (GARDENERS KNEELING PAD KEEP CALM)   \n",
       "4     (PINK REGENCY TEACUP AND SAUCER)    (GREEN REGENCY TEACUP AND SAUCER)   \n",
       "\n",
       "   antecedent support  consequent support  support  confidence   lift  \\\n",
       "0                0.05                0.05     0.03        0.64  12.41   \n",
       "1                0.05                0.05     0.03        0.59  12.41   \n",
       "2                0.05                0.05     0.03        0.60  13.23   \n",
       "3                0.05                0.05     0.03        0.72  13.23   \n",
       "4                0.04                0.05     0.03        0.82  15.50   \n",
       "\n",
       "   leverage  conviction  zhangs_metric  \n",
       "0      0.03        2.64           0.97  \n",
       "1      0.03        2.32           0.97  \n",
       "2      0.03        2.40           0.98  \n",
       "3      0.03        3.39           0.97  \n",
       "4      0.03        5.25           0.98  "
      ]
     },
     "execution_count": 30,
     "metadata": {},
     "output_type": "execute_result"
    }
   ],
   "source": [
    "rules=round(association_rules(frequent_itemsets,metric='lift',min_threshold=1),2)\n",
    "rules.head(5)"
   ]
  },
  {
   "cell_type": "code",
   "execution_count": 31,
   "id": "f4fe0338",
   "metadata": {
    "_kg_hide-input": true,
    "_kg_hide-output": true,
    "execution": {
     "iopub.execute_input": "2023-07-09T07:36:06.959035Z",
     "iopub.status.busy": "2023-07-09T07:36:06.958539Z",
     "iopub.status.idle": "2023-07-09T07:36:08.522648Z",
     "shell.execute_reply": "2023-07-09T07:36:08.521781Z"
    },
    "papermill": {
     "duration": 1.592553,
     "end_time": "2023-07-09T07:36:08.525001",
     "exception": false,
     "start_time": "2023-07-09T07:36:06.932448",
     "status": "completed"
    },
    "tags": []
   },
   "outputs": [
    {
     "data": {
      "image/png": "[encoded data removed]",
      "text/plain": [
       "<Figure size 600x600 with 4 Axes>"
      ]
     },
     "metadata": {},
     "output_type": "display_data"
    }
   ],
   "source": [
    "plt.figure(figsize=(6,6))\n",
    "plt.subplot(221)\n",
    "sns.scatterplot(x=\"support\",y=\"confidence\",data=rules,hue=\"lift\",palette=\"viridis\")\n",
    "plt.subplot(222)\n",
    "sns.scatterplot(x=\"support\",y=\"lift\",data=rules,hue=\"confidence\",palette=\"viridis\")\n",
    "plt.subplot(223)\n",
    "sns.scatterplot(x=\"confidence\",y=\"lift\",data=rules,hue='support',palette=\"viridis\")\n",
    "plt.subplot(224)\n",
    "sns.scatterplot(x=\"antecedent support\",y=\"consequent support\",data=rules,hue='confidence',palette=\"viridis\")\n",
    "plt.tight_layout()\n",
    "plt.show()"
   ]
  },
  {
   "cell_type": "markdown",
   "id": "8c4db7ec",
   "metadata": {
    "papermill": {
     "duration": 0.025312,
     "end_time": "2023-07-09T07:36:08.576910",
     "exception": false,
     "start_time": "2023-07-09T07:36:08.551598",
     "status": "completed"
    },
    "tags": []
   },
   "source": [
    "### <b><span style='color:#f0bc22'> 3-2. |</span> The top 5 of the highest **`support`** value of items(antecedents)"
   ]
  },
  {
   "cell_type": "markdown",
   "id": "ae6d89c6",
   "metadata": {
    "papermill": {
     "duration": 0.025417,
     "end_time": "2023-07-09T07:36:08.629216",
     "exception": false,
     "start_time": "2023-07-09T07:36:08.603799",
     "status": "completed"
    },
    "tags": []
   },
   "source": [
    "> #### *Support(item) = Transactions comprising the item / Total transactions*"
   ]
  },
  {
   "cell_type": "code",
   "execution_count": 32,
   "id": "50d8935e",
   "metadata": {
    "_kg_hide-input": true,
    "execution": {
     "iopub.execute_input": "2023-07-09T07:36:08.683689Z",
     "iopub.status.busy": "2023-07-09T07:36:08.682552Z",
     "iopub.status.idle": "2023-07-09T07:36:08.699191Z",
     "shell.execute_reply": "2023-07-09T07:36:08.698361Z"
    },
    "papermill": {
     "duration": 0.045992,
     "end_time": "2023-07-09T07:36:08.701361",
     "exception": false,
     "start_time": "2023-07-09T07:36:08.655369",
     "status": "completed"
    },
    "tags": []
   },
   "outputs": [
    {
     "data": {
      "text/html": [
       "<style type=\"text/css\">\n",
       "#T_52e95_row0_col2, #T_52e95_row1_col2 {\n",
       "  background-color: #008000;\n",
       "  color: #f1f1f1;\n",
       "}\n",
       "#T_52e95_row2_col2, #T_52e95_row3_col2, #T_52e95_row4_col2 {\n",
       "  background-color: #ebf3eb;\n",
       "  color: #000000;\n",
       "}\n",
       "</style>\n",
       "<table id=\"T_52e95\">\n",
       "  <thead>\n",
       "    <tr>\n",
       "      <th class=\"blank level0\" >&nbsp;</th>\n",
       "      <th id=\"T_52e95_level0_col0\" class=\"col_heading level0 col0\" >antecedents</th>\n",
       "      <th id=\"T_52e95_level0_col1\" class=\"col_heading level0 col1\" >consequents</th>\n",
       "      <th id=\"T_52e95_level0_col2\" class=\"col_heading level0 col2\" >support</th>\n",
       "    </tr>\n",
       "  </thead>\n",
       "  <tbody>\n",
       "    <tr>\n",
       "      <th id=\"T_52e95_level0_row0\" class=\"row_heading level0 row0\" >13</th>\n",
       "      <td id=\"T_52e95_row0_col0\" class=\"data row0 col0\" >frozenset({'JUMBO BAG RED RETROSPOT'})</td>\n",
       "      <td id=\"T_52e95_row0_col1\" class=\"data row0 col1\" >frozenset({'JUMBO BAG PINK POLKADOT'})</td>\n",
       "      <td id=\"T_52e95_row0_col2\" class=\"data row0 col2\" >0.05</td>\n",
       "    </tr>\n",
       "    <tr>\n",
       "      <th id=\"T_52e95_level0_row1\" class=\"row_heading level0 row1\" >12</th>\n",
       "      <td id=\"T_52e95_row1_col0\" class=\"data row1 col0\" >frozenset({'JUMBO BAG PINK POLKADOT'})</td>\n",
       "      <td id=\"T_52e95_row1_col1\" class=\"data row1 col1\" >frozenset({'JUMBO BAG RED RETROSPOT'})</td>\n",
       "      <td id=\"T_52e95_row1_col2\" class=\"data row1 col2\" >0.05</td>\n",
       "    </tr>\n",
       "    <tr>\n",
       "      <th id=\"T_52e95_level0_row2\" class=\"row_heading level0 row2\" >16</th>\n",
       "      <td id=\"T_52e95_row2_col0\" class=\"data row2 col0\" >frozenset({'JUMBO STORAGE BAG SUKI'})</td>\n",
       "      <td id=\"T_52e95_row2_col1\" class=\"data row2 col1\" >frozenset({'JUMBO BAG RED RETROSPOT'})</td>\n",
       "      <td id=\"T_52e95_row2_col2\" class=\"data row2 col2\" >0.04</td>\n",
       "    </tr>\n",
       "    <tr>\n",
       "      <th id=\"T_52e95_level0_row3\" class=\"row_heading level0 row3\" >17</th>\n",
       "      <td id=\"T_52e95_row3_col0\" class=\"data row3 col0\" >frozenset({'JUMBO BAG RED RETROSPOT'})</td>\n",
       "      <td id=\"T_52e95_row3_col1\" class=\"data row3 col1\" >frozenset({'JUMBO STORAGE BAG SUKI'})</td>\n",
       "      <td id=\"T_52e95_row3_col2\" class=\"data row3 col2\" >0.04</td>\n",
       "    </tr>\n",
       "    <tr>\n",
       "      <th id=\"T_52e95_level0_row4\" class=\"row_heading level0 row4\" >15</th>\n",
       "      <td id=\"T_52e95_row4_col0\" class=\"data row4 col0\" >frozenset({'JUMBO SHOPPER VINTAGE RED PAISLEY'})</td>\n",
       "      <td id=\"T_52e95_row4_col1\" class=\"data row4 col1\" >frozenset({'JUMBO BAG RED RETROSPOT'})</td>\n",
       "      <td id=\"T_52e95_row4_col2\" class=\"data row4 col2\" >0.04</td>\n",
       "    </tr>\n",
       "  </tbody>\n",
       "</table>\n"
      ],
      "text/plain": [
       "<pandas.io.formats.style.Styler at 0x7abaa1f91d80>"
      ]
     },
     "execution_count": 32,
     "metadata": {},
     "output_type": "execute_result"
    }
   ],
   "source": [
    "rules[['antecedents','consequents','support']].sort_values('support',ascending=False)[:5].style.background_gradient(cmap=cm).set_precision(2)"
   ]
  },
  {
   "cell_type": "markdown",
   "id": "e628e0bf",
   "metadata": {
    "papermill": {
     "duration": 0.025674,
     "end_time": "2023-07-09T07:36:08.752970",
     "exception": false,
     "start_time": "2023-07-09T07:36:08.727296",
     "status": "completed"
    },
    "tags": []
   },
   "source": [
    "In the top support value of purchase, it means that \"JUMBO BAG PINK RETROSPOT\" is present in 5% of all purchases."
   ]
  },
  {
   "cell_type": "markdown",
   "id": "a83da12f",
   "metadata": {
    "papermill": {
     "duration": 0.026353,
     "end_time": "2023-07-09T07:36:08.805822",
     "exception": false,
     "start_time": "2023-07-09T07:36:08.779469",
     "status": "completed"
    },
    "tags": []
   },
   "source": [
    "### <b><span style='color:#f0bc22'> 3-3. |</span> The top 5 of the highest **`confidence`** value of items"
   ]
  },
  {
   "cell_type": "markdown",
   "id": "1fac8f09",
   "metadata": {
    "papermill": {
     "duration": 0.02539,
     "end_time": "2023-07-09T07:36:08.857154",
     "exception": false,
     "start_time": "2023-07-09T07:36:08.831764",
     "status": "completed"
    },
    "tags": []
   },
   "source": [
    "> #### *Confidence = Transactions comprising antecedent and consequent / Transactions comprising antecedent*"
   ]
  },
  {
   "cell_type": "code",
   "execution_count": 33,
   "id": "c37c8e4c",
   "metadata": {
    "_kg_hide-input": true,
    "execution": {
     "iopub.execute_input": "2023-07-09T07:36:08.912595Z",
     "iopub.status.busy": "2023-07-09T07:36:08.911379Z",
     "iopub.status.idle": "2023-07-09T07:36:08.927510Z",
     "shell.execute_reply": "2023-07-09T07:36:08.926433Z"
    },
    "papermill": {
     "duration": 0.046296,
     "end_time": "2023-07-09T07:36:08.930016",
     "exception": false,
     "start_time": "2023-07-09T07:36:08.883720",
     "status": "completed"
    },
    "tags": []
   },
   "outputs": [
    {
     "data": {
      "text/html": [
       "<style type=\"text/css\">\n",
       "#T_c9052_row0_col2 {\n",
       "  background-color: #008000;\n",
       "  color: #f1f1f1;\n",
       "}\n",
       "#T_c9052_row1_col2 {\n",
       "  background-color: #5eae5e;\n",
       "  color: #f1f1f1;\n",
       "}\n",
       "#T_c9052_row2_col2 {\n",
       "  background-color: #a5d1a5;\n",
       "  color: #000000;\n",
       "}\n",
       "#T_c9052_row3_col2 {\n",
       "  background-color: #d4e8d4;\n",
       "  color: #000000;\n",
       "}\n",
       "#T_c9052_row4_col2 {\n",
       "  background-color: #ebf3eb;\n",
       "  color: #000000;\n",
       "}\n",
       "</style>\n",
       "<table id=\"T_c9052\">\n",
       "  <thead>\n",
       "    <tr>\n",
       "      <th class=\"blank level0\" >&nbsp;</th>\n",
       "      <th id=\"T_c9052_level0_col0\" class=\"col_heading level0 col0\" >antecedents</th>\n",
       "      <th id=\"T_c9052_level0_col1\" class=\"col_heading level0 col1\" >consequents</th>\n",
       "      <th id=\"T_c9052_level0_col2\" class=\"col_heading level0 col2\" >confidence</th>\n",
       "    </tr>\n",
       "  </thead>\n",
       "  <tbody>\n",
       "    <tr>\n",
       "      <th id=\"T_c9052_level0_row0\" class=\"row_heading level0 row0\" >4</th>\n",
       "      <td id=\"T_c9052_row0_col0\" class=\"data row0 col0\" >frozenset({'PINK REGENCY TEACUP AND SAUCER'})</td>\n",
       "      <td id=\"T_c9052_row0_col1\" class=\"data row0 col1\" >frozenset({'GREEN REGENCY TEACUP AND SAUCER'})</td>\n",
       "      <td id=\"T_c9052_row0_col2\" class=\"data row0 col2\" >0.82</td>\n",
       "    </tr>\n",
       "    <tr>\n",
       "      <th id=\"T_c9052_level0_row1\" class=\"row_heading level0 row1\" >30</th>\n",
       "      <td id=\"T_c9052_row1_col0\" class=\"data row1 col0\" >frozenset({'PINK REGENCY TEACUP AND SAUCER'})</td>\n",
       "      <td id=\"T_c9052_row1_col1\" class=\"data row1 col1\" >frozenset({'ROSES REGENCY TEACUP AND SAUCER'})</td>\n",
       "      <td id=\"T_c9052_row1_col2\" class=\"data row1 col2\" >0.78</td>\n",
       "    </tr>\n",
       "    <tr>\n",
       "      <th id=\"T_c9052_level0_row2\" class=\"row_heading level0 row2\" >6</th>\n",
       "      <td id=\"T_c9052_row2_col0\" class=\"data row2 col0\" >frozenset({'GREEN REGENCY TEACUP AND SAUCER'})</td>\n",
       "      <td id=\"T_c9052_row2_col1\" class=\"data row2 col1\" >frozenset({'ROSES REGENCY TEACUP AND SAUCER'})</td>\n",
       "      <td id=\"T_c9052_row2_col2\" class=\"data row2 col2\" >0.75</td>\n",
       "    </tr>\n",
       "    <tr>\n",
       "      <th id=\"T_c9052_level0_row3\" class=\"row_heading level0 row3\" >7</th>\n",
       "      <td id=\"T_c9052_row3_col0\" class=\"data row3 col0\" >frozenset({'ROSES REGENCY TEACUP AND SAUCER'})</td>\n",
       "      <td id=\"T_c9052_row3_col1\" class=\"data row3 col1\" >frozenset({'GREEN REGENCY TEACUP AND SAUCER'})</td>\n",
       "      <td id=\"T_c9052_row3_col2\" class=\"data row3 col2\" >0.73</td>\n",
       "    </tr>\n",
       "    <tr>\n",
       "      <th id=\"T_c9052_level0_row4\" class=\"row_heading level0 row4\" >3</th>\n",
       "      <td id=\"T_c9052_row4_col0\" class=\"data row4 col0\" >frozenset({'GARDENERS KNEELING PAD CUP OF TEA'})</td>\n",
       "      <td id=\"T_c9052_row4_col1\" class=\"data row4 col1\" >frozenset({'GARDENERS KNEELING PAD KEEP CALM'})</td>\n",
       "      <td id=\"T_c9052_row4_col2\" class=\"data row4 col2\" >0.72</td>\n",
       "    </tr>\n",
       "  </tbody>\n",
       "</table>\n"
      ],
      "text/plain": [
       "<pandas.io.formats.style.Styler at 0x7abaa169b040>"
      ]
     },
     "execution_count": 33,
     "metadata": {},
     "output_type": "execute_result"
    }
   ],
   "source": [
    "rules[['antecedents','consequents','confidence']].sort_values('confidence',ascending=False)[:5].style.background_gradient(cmap=cm).set_precision(2)"
   ]
  },
  {
   "cell_type": "markdown",
   "id": "738538e1",
   "metadata": {
    "papermill": {
     "duration": 0.026387,
     "end_time": "2023-07-09T07:36:08.983266",
     "exception": false,
     "start_time": "2023-07-09T07:36:08.956879",
     "status": "completed"
    },
    "tags": []
   },
   "source": [
    "In the top confidence value of the purchase, it means that 82% of the customers who bought \"PINK REGENCY TEACUP AND SAUCER\" also bought \"GREEN REGENCY TEACUP AND SAUCER\"."
   ]
  },
  {
   "cell_type": "markdown",
   "id": "ca9de296",
   "metadata": {
    "papermill": {
     "duration": 0.02588,
     "end_time": "2023-07-09T07:36:09.035768",
     "exception": false,
     "start_time": "2023-07-09T07:36:09.009888",
     "status": "completed"
    },
    "tags": []
   },
   "source": [
    "### <b><span style='color:#f0bc22'> 3-4. |</span> The top 5 of the highest **`lift`** value of items"
   ]
  },
  {
   "cell_type": "markdown",
   "id": "6c21a3e5",
   "metadata": {
    "papermill": {
     "duration": 0.025977,
     "end_time": "2023-07-09T07:36:09.088361",
     "exception": false,
     "start_time": "2023-07-09T07:36:09.062384",
     "status": "completed"
    },
    "tags": []
   },
   "source": [
    "> #### *Lift = Confidence (antecedent -> consequent) / Support(antecedent)*"
   ]
  },
  {
   "cell_type": "code",
   "execution_count": 34,
   "id": "129c9a11",
   "metadata": {
    "execution": {
     "iopub.execute_input": "2023-07-09T07:36:09.143748Z",
     "iopub.status.busy": "2023-07-09T07:36:09.143307Z",
     "iopub.status.idle": "2023-07-09T07:36:09.159780Z",
     "shell.execute_reply": "2023-07-09T07:36:09.158657Z"
    },
    "papermill": {
     "duration": 0.047639,
     "end_time": "2023-07-09T07:36:09.162376",
     "exception": false,
     "start_time": "2023-07-09T07:36:09.114737",
     "status": "completed"
    },
    "tags": []
   },
   "outputs": [
    {
     "data": {
      "text/html": [
       "<style type=\"text/css\">\n",
       "#T_c2dad_row0_col2, #T_c2dad_row1_col2 {\n",
       "  background-color: #008000;\n",
       "  color: #f1f1f1;\n",
       "}\n",
       "#T_c2dad_row2_col2, #T_c2dad_row3_col2 {\n",
       "  background-color: #a3d0a3;\n",
       "  color: #000000;\n",
       "}\n",
       "#T_c2dad_row4_col2 {\n",
       "  background-color: #ebf3eb;\n",
       "  color: #000000;\n",
       "}\n",
       "</style>\n",
       "<table id=\"T_c2dad\">\n",
       "  <thead>\n",
       "    <tr>\n",
       "      <th class=\"blank level0\" >&nbsp;</th>\n",
       "      <th id=\"T_c2dad_level0_col0\" class=\"col_heading level0 col0\" >antecedents</th>\n",
       "      <th id=\"T_c2dad_level0_col1\" class=\"col_heading level0 col1\" >consequents</th>\n",
       "      <th id=\"T_c2dad_level0_col2\" class=\"col_heading level0 col2\" >lift</th>\n",
       "    </tr>\n",
       "  </thead>\n",
       "  <tbody>\n",
       "    <tr>\n",
       "      <th id=\"T_c2dad_level0_row0\" class=\"row_heading level0 row0\" >4</th>\n",
       "      <td id=\"T_c2dad_row0_col0\" class=\"data row0 col0\" >frozenset({'PINK REGENCY TEACUP AND SAUCER'})</td>\n",
       "      <td id=\"T_c2dad_row0_col1\" class=\"data row0 col1\" >frozenset({'GREEN REGENCY TEACUP AND SAUCER'})</td>\n",
       "      <td id=\"T_c2dad_row0_col2\" class=\"data row0 col2\" >15.50</td>\n",
       "    </tr>\n",
       "    <tr>\n",
       "      <th id=\"T_c2dad_level0_row1\" class=\"row_heading level0 row1\" >5</th>\n",
       "      <td id=\"T_c2dad_row1_col0\" class=\"data row1 col0\" >frozenset({'GREEN REGENCY TEACUP AND SAUCER'})</td>\n",
       "      <td id=\"T_c2dad_row1_col1\" class=\"data row1 col1\" >frozenset({'PINK REGENCY TEACUP AND SAUCER'})</td>\n",
       "      <td id=\"T_c2dad_row1_col2\" class=\"data row1 col2\" >15.50</td>\n",
       "    </tr>\n",
       "    <tr>\n",
       "      <th id=\"T_c2dad_level0_row2\" class=\"row_heading level0 row2\" >31</th>\n",
       "      <td id=\"T_c2dad_row2_col0\" class=\"data row2 col0\" >frozenset({'ROSES REGENCY TEACUP AND SAUCER'})</td>\n",
       "      <td id=\"T_c2dad_row2_col1\" class=\"data row2 col1\" >frozenset({'PINK REGENCY TEACUP AND SAUCER'})</td>\n",
       "      <td id=\"T_c2dad_row2_col2\" class=\"data row2 col2\" >14.36</td>\n",
       "    </tr>\n",
       "    <tr>\n",
       "      <th id=\"T_c2dad_level0_row3\" class=\"row_heading level0 row3\" >30</th>\n",
       "      <td id=\"T_c2dad_row3_col0\" class=\"data row3 col0\" >frozenset({'PINK REGENCY TEACUP AND SAUCER'})</td>\n",
       "      <td id=\"T_c2dad_row3_col1\" class=\"data row3 col1\" >frozenset({'ROSES REGENCY TEACUP AND SAUCER'})</td>\n",
       "      <td id=\"T_c2dad_row3_col2\" class=\"data row3 col2\" >14.36</td>\n",
       "    </tr>\n",
       "    <tr>\n",
       "      <th id=\"T_c2dad_level0_row4\" class=\"row_heading level0 row4\" >6</th>\n",
       "      <td id=\"T_c2dad_row4_col0\" class=\"data row4 col0\" >frozenset({'GREEN REGENCY TEACUP AND SAUCER'})</td>\n",
       "      <td id=\"T_c2dad_row4_col1\" class=\"data row4 col1\" >frozenset({'ROSES REGENCY TEACUP AND SAUCER'})</td>\n",
       "      <td id=\"T_c2dad_row4_col2\" class=\"data row4 col2\" >13.86</td>\n",
       "    </tr>\n",
       "  </tbody>\n",
       "</table>\n"
      ],
      "text/plain": [
       "<pandas.io.formats.style.Styler at 0x7abaa169b700>"
      ]
     },
     "execution_count": 34,
     "metadata": {},
     "output_type": "execute_result"
    }
   ],
   "source": [
    "rules[['antecedents','consequents','lift']].sort_values('lift',ascending=False)[:5].style.background_gradient(cmap=cm).set_precision(2)"
   ]
  },
  {
   "cell_type": "markdown",
   "id": "cb2c94c6",
   "metadata": {
    "papermill": {
     "duration": 0.026029,
     "end_time": "2023-07-09T07:36:09.215815",
     "exception": false,
     "start_time": "2023-07-09T07:36:09.189786",
     "status": "completed"
    },
    "tags": []
   },
   "source": [
    "In the top list value of the purchase, it means that customers are 15.5 times more likely to buy \"GREEN REGENCY TEACUP AND SAUCER\" if you sell \"PINK REGENCY TEACUP AND SAUCER\"."
   ]
  },
  {
   "cell_type": "markdown",
   "id": "ac4c8e9d",
   "metadata": {
    "papermill": {
     "duration": 0.026226,
     "end_time": "2023-07-09T07:36:09.268700",
     "exception": false,
     "start_time": "2023-07-09T07:36:09.242474",
     "status": "completed"
    },
    "tags": []
   },
   "source": [
    "### <b><span style='color:#f0bc22'> 3-5. |</span> The best combination of the items"
   ]
  },
  {
   "cell_type": "code",
   "execution_count": 35,
   "id": "c0c5afff",
   "metadata": {
    "_kg_hide-input": true,
    "execution": {
     "iopub.execute_input": "2023-07-09T07:36:09.323831Z",
     "iopub.status.busy": "2023-07-09T07:36:09.323101Z",
     "iopub.status.idle": "2023-07-09T07:36:09.345931Z",
     "shell.execute_reply": "2023-07-09T07:36:09.344857Z"
    },
    "papermill": {
     "duration": 0.052732,
     "end_time": "2023-07-09T07:36:09.348232",
     "exception": false,
     "start_time": "2023-07-09T07:36:09.295500",
     "status": "completed"
    },
    "tags": []
   },
   "outputs": [
    {
     "data": {
      "text/html": [
       "<style type=\"text/css\">\n",
       "#T_589ba_row0_col2, #T_589ba_row0_col3, #T_589ba_row0_col4, #T_589ba_row0_col7, #T_589ba_row1_col2, #T_589ba_row1_col3, #T_589ba_row1_col4, #T_589ba_row1_col7, #T_589ba_row1_col9, #T_589ba_row2_col3, #T_589ba_row3_col3, #T_589ba_row4_col3, #T_589ba_row4_col4, #T_589ba_row4_col5, #T_589ba_row4_col6, #T_589ba_row4_col7, #T_589ba_row4_col8, #T_589ba_row4_col9 {\n",
       "  background-color: #ebf3eb;\n",
       "  color: #000000;\n",
       "}\n",
       "#T_589ba_row0_col5, #T_589ba_row0_col6, #T_589ba_row0_col8, #T_589ba_row0_col9, #T_589ba_row2_col2, #T_589ba_row2_col4, #T_589ba_row2_col7, #T_589ba_row2_col9, #T_589ba_row3_col2, #T_589ba_row3_col4, #T_589ba_row3_col7, #T_589ba_row3_col9, #T_589ba_row4_col2 {\n",
       "  background-color: #008000;\n",
       "  color: #f1f1f1;\n",
       "}\n",
       "#T_589ba_row1_col5 {\n",
       "  background-color: #5eae5e;\n",
       "  color: #f1f1f1;\n",
       "}\n",
       "#T_589ba_row1_col6 {\n",
       "  background-color: #76ba76;\n",
       "  color: #f1f1f1;\n",
       "}\n",
       "#T_589ba_row1_col8 {\n",
       "  background-color: #80bf80;\n",
       "  color: #000000;\n",
       "}\n",
       "#T_589ba_row2_col5 {\n",
       "  background-color: #a5d1a5;\n",
       "  color: #000000;\n",
       "}\n",
       "#T_589ba_row2_col6, #T_589ba_row3_col6 {\n",
       "  background-color: #a9d3a9;\n",
       "  color: #000000;\n",
       "}\n",
       "#T_589ba_row2_col8 {\n",
       "  background-color: #badbba;\n",
       "  color: #000000;\n",
       "}\n",
       "#T_589ba_row3_col5 {\n",
       "  background-color: #d4e8d4;\n",
       "  color: #000000;\n",
       "}\n",
       "#T_589ba_row3_col8 {\n",
       "  background-color: #d6e9d6;\n",
       "  color: #000000;\n",
       "}\n",
       "</style>\n",
       "<table id=\"T_589ba\">\n",
       "  <thead>\n",
       "    <tr>\n",
       "      <th class=\"blank level0\" >&nbsp;</th>\n",
       "      <th id=\"T_589ba_level0_col0\" class=\"col_heading level0 col0\" >antecedents</th>\n",
       "      <th id=\"T_589ba_level0_col1\" class=\"col_heading level0 col1\" >consequents</th>\n",
       "      <th id=\"T_589ba_level0_col2\" class=\"col_heading level0 col2\" >antecedent support</th>\n",
       "      <th id=\"T_589ba_level0_col3\" class=\"col_heading level0 col3\" >consequent support</th>\n",
       "      <th id=\"T_589ba_level0_col4\" class=\"col_heading level0 col4\" >support</th>\n",
       "      <th id=\"T_589ba_level0_col5\" class=\"col_heading level0 col5\" >confidence</th>\n",
       "      <th id=\"T_589ba_level0_col6\" class=\"col_heading level0 col6\" >lift</th>\n",
       "      <th id=\"T_589ba_level0_col7\" class=\"col_heading level0 col7\" >leverage</th>\n",
       "      <th id=\"T_589ba_level0_col8\" class=\"col_heading level0 col8\" >conviction</th>\n",
       "      <th id=\"T_589ba_level0_col9\" class=\"col_heading level0 col9\" >zhangs_metric</th>\n",
       "    </tr>\n",
       "  </thead>\n",
       "  <tbody>\n",
       "    <tr>\n",
       "      <th id=\"T_589ba_level0_row0\" class=\"row_heading level0 row0\" >4</th>\n",
       "      <td id=\"T_589ba_row0_col0\" class=\"data row0 col0\" >frozenset({'PINK REGENCY TEACUP AND SAUCER'})</td>\n",
       "      <td id=\"T_589ba_row0_col1\" class=\"data row0 col1\" >frozenset({'GREEN REGENCY TEACUP AND SAUCER'})</td>\n",
       "      <td id=\"T_589ba_row0_col2\" class=\"data row0 col2\" >0.04</td>\n",
       "      <td id=\"T_589ba_row0_col3\" class=\"data row0 col3\" >0.05</td>\n",
       "      <td id=\"T_589ba_row0_col4\" class=\"data row0 col4\" >0.03</td>\n",
       "      <td id=\"T_589ba_row0_col5\" class=\"data row0 col5\" >0.82</td>\n",
       "      <td id=\"T_589ba_row0_col6\" class=\"data row0 col6\" >15.50</td>\n",
       "      <td id=\"T_589ba_row0_col7\" class=\"data row0 col7\" >0.03</td>\n",
       "      <td id=\"T_589ba_row0_col8\" class=\"data row0 col8\" >5.25</td>\n",
       "      <td id=\"T_589ba_row0_col9\" class=\"data row0 col9\" >0.98</td>\n",
       "    </tr>\n",
       "    <tr>\n",
       "      <th id=\"T_589ba_level0_row1\" class=\"row_heading level0 row1\" >30</th>\n",
       "      <td id=\"T_589ba_row1_col0\" class=\"data row1 col0\" >frozenset({'PINK REGENCY TEACUP AND SAUCER'})</td>\n",
       "      <td id=\"T_589ba_row1_col1\" class=\"data row1 col1\" >frozenset({'ROSES REGENCY TEACUP AND SAUCER'})</td>\n",
       "      <td id=\"T_589ba_row1_col2\" class=\"data row1 col2\" >0.04</td>\n",
       "      <td id=\"T_589ba_row1_col3\" class=\"data row1 col3\" >0.05</td>\n",
       "      <td id=\"T_589ba_row1_col4\" class=\"data row1 col4\" >0.03</td>\n",
       "      <td id=\"T_589ba_row1_col5\" class=\"data row1 col5\" >0.78</td>\n",
       "      <td id=\"T_589ba_row1_col6\" class=\"data row1 col6\" >14.36</td>\n",
       "      <td id=\"T_589ba_row1_col7\" class=\"data row1 col7\" >0.03</td>\n",
       "      <td id=\"T_589ba_row1_col8\" class=\"data row1 col8\" >4.24</td>\n",
       "      <td id=\"T_589ba_row1_col9\" class=\"data row1 col9\" >0.97</td>\n",
       "    </tr>\n",
       "    <tr>\n",
       "      <th id=\"T_589ba_level0_row2\" class=\"row_heading level0 row2\" >6</th>\n",
       "      <td id=\"T_589ba_row2_col0\" class=\"data row2 col0\" >frozenset({'GREEN REGENCY TEACUP AND SAUCER'})</td>\n",
       "      <td id=\"T_589ba_row2_col1\" class=\"data row2 col1\" >frozenset({'ROSES REGENCY TEACUP AND SAUCER'})</td>\n",
       "      <td id=\"T_589ba_row2_col2\" class=\"data row2 col2\" >0.05</td>\n",
       "      <td id=\"T_589ba_row2_col3\" class=\"data row2 col3\" >0.05</td>\n",
       "      <td id=\"T_589ba_row2_col4\" class=\"data row2 col4\" >0.04</td>\n",
       "      <td id=\"T_589ba_row2_col5\" class=\"data row2 col5\" >0.75</td>\n",
       "      <td id=\"T_589ba_row2_col6\" class=\"data row2 col6\" >13.86</td>\n",
       "      <td id=\"T_589ba_row2_col7\" class=\"data row2 col7\" >0.04</td>\n",
       "      <td id=\"T_589ba_row2_col8\" class=\"data row2 col8\" >3.78</td>\n",
       "      <td id=\"T_589ba_row2_col9\" class=\"data row2 col9\" >0.98</td>\n",
       "    </tr>\n",
       "    <tr>\n",
       "      <th id=\"T_589ba_level0_row3\" class=\"row_heading level0 row3\" >7</th>\n",
       "      <td id=\"T_589ba_row3_col0\" class=\"data row3 col0\" >frozenset({'ROSES REGENCY TEACUP AND SAUCER'})</td>\n",
       "      <td id=\"T_589ba_row3_col1\" class=\"data row3 col1\" >frozenset({'GREEN REGENCY TEACUP AND SAUCER'})</td>\n",
       "      <td id=\"T_589ba_row3_col2\" class=\"data row3 col2\" >0.05</td>\n",
       "      <td id=\"T_589ba_row3_col3\" class=\"data row3 col3\" >0.05</td>\n",
       "      <td id=\"T_589ba_row3_col4\" class=\"data row3 col4\" >0.04</td>\n",
       "      <td id=\"T_589ba_row3_col5\" class=\"data row3 col5\" >0.73</td>\n",
       "      <td id=\"T_589ba_row3_col6\" class=\"data row3 col6\" >13.86</td>\n",
       "      <td id=\"T_589ba_row3_col7\" class=\"data row3 col7\" >0.04</td>\n",
       "      <td id=\"T_589ba_row3_col8\" class=\"data row3 col8\" >3.55</td>\n",
       "      <td id=\"T_589ba_row3_col9\" class=\"data row3 col9\" >0.98</td>\n",
       "    </tr>\n",
       "    <tr>\n",
       "      <th id=\"T_589ba_level0_row4\" class=\"row_heading level0 row4\" >3</th>\n",
       "      <td id=\"T_589ba_row4_col0\" class=\"data row4 col0\" >frozenset({'GARDENERS KNEELING PAD CUP OF TEA'})</td>\n",
       "      <td id=\"T_589ba_row4_col1\" class=\"data row4 col1\" >frozenset({'GARDENERS KNEELING PAD KEEP CALM'})</td>\n",
       "      <td id=\"T_589ba_row4_col2\" class=\"data row4 col2\" >0.05</td>\n",
       "      <td id=\"T_589ba_row4_col3\" class=\"data row4 col3\" >0.05</td>\n",
       "      <td id=\"T_589ba_row4_col4\" class=\"data row4 col4\" >0.03</td>\n",
       "      <td id=\"T_589ba_row4_col5\" class=\"data row4 col5\" >0.72</td>\n",
       "      <td id=\"T_589ba_row4_col6\" class=\"data row4 col6\" >13.23</td>\n",
       "      <td id=\"T_589ba_row4_col7\" class=\"data row4 col7\" >0.03</td>\n",
       "      <td id=\"T_589ba_row4_col8\" class=\"data row4 col8\" >3.39</td>\n",
       "      <td id=\"T_589ba_row4_col9\" class=\"data row4 col9\" >0.97</td>\n",
       "    </tr>\n",
       "  </tbody>\n",
       "</table>\n"
      ],
      "text/plain": [
       "<pandas.io.formats.style.Styler at 0x7abaa169bf40>"
      ]
     },
     "execution_count": 35,
     "metadata": {},
     "output_type": "execute_result"
    }
   ],
   "source": [
    "rules[(rules['lift']>=13)&(rules['confidence']>=0.7)].sort_values('lift',ascending=False).style.background_gradient(cmap=cm).set_precision(2)"
   ]
  },
  {
   "cell_type": "markdown",
   "id": "79c47fb8",
   "metadata": {
    "papermill": {
     "duration": 0.026645,
     "end_time": "2023-07-09T07:36:09.401676",
     "exception": false,
     "start_time": "2023-07-09T07:36:09.375031",
     "status": "completed"
    },
    "tags": []
   },
   "source": [
    "As you can see above, \"REGENCY TEACUP AND SAUCER\" have the best combination of the same items with different colors."
   ]
  },
  {
   "cell_type": "markdown",
   "id": "da3c1be0",
   "metadata": {
    "papermill": {
     "duration": 0.028905,
     "end_time": "2023-07-09T07:36:09.457495",
     "exception": false,
     "start_time": "2023-07-09T07:36:09.428590",
     "status": "completed"
    },
    "tags": []
   },
   "source": [
    "<a id=\"section-four\"></a>\n",
    "## <b><span style='color:#f0bc22'> 4. |</span> Conclusion"
   ]
  },
  {
   "cell_type": "markdown",
   "id": "f5e57f91",
   "metadata": {
    "papermill": {
     "duration": 0.026665,
     "end_time": "2023-07-09T07:36:09.511312",
     "exception": false,
     "start_time": "2023-07-09T07:36:09.484647",
     "status": "completed"
    },
    "tags": []
   },
   "source": [
    "Here's what we learned from this analysis:\n",
    "- The most purchased item is **`PAPER CRAFT, LITTLE BIRDIE`**.\n",
    "- The most frequently purchased item is **`WHITE HANGING HEART T-LIGHT HOLDER`**.\n",
    "- The best combination items are **`PINK REGENCY TEACUP AND SAUCER`** and **`GREEN REGENCY TEACUP AND SAUCER`**."
   ]
  },
  {
   "cell_type": "markdown",
   "id": "b9f7703e",
   "metadata": {
    "papermill": {
     "duration": 0.026768,
     "end_time": "2023-07-09T07:36:09.565603",
     "exception": false,
     "start_time": "2023-07-09T07:36:09.538835",
     "status": "completed"
    },
    "tags": []
   },
   "source": [
    "Hence, if you want to let customers purchase more, you can put an advertisement in `REGENCY TEACUP AND SAUCER` or put those items on the top of the page."
   ]
  },
  {
   "cell_type": "markdown",
   "id": "62d89e0b",
   "metadata": {
    "execution": {
     "iopub.execute_input": "2023-06-15T11:47:44.288384Z",
     "iopub.status.busy": "2023-06-15T11:47:44.287933Z",
     "iopub.status.idle": "2023-06-15T11:47:44.293615Z",
     "shell.execute_reply": "2023-06-15T11:47:44.292492Z",
     "shell.execute_reply.started": "2023-06-15T11:47:44.288353Z"
    },
    "papermill": {
     "duration": 0.026825,
     "end_time": "2023-07-09T07:36:09.619522",
     "exception": false,
     "start_time": "2023-07-09T07:36:09.592697",
     "status": "completed"
    },
    "tags": []
   },
   "source": [
    "### <center> 📑Thanks for checking my notebook📒 </center>"
   ]
  }
 ],
 "metadata": {
  "kernelspec": {
   "display_name": "Python 3",
   "language": "python",
   "name": "python3"
  },
  "language_info": {
   "codemirror_mode": {
    "name": "ipython",
    "version": 3
   },
   "file_extension": ".py",
   "mimetype": "text/x-python",
   "name": "python",
   "nbconvert_exporter": "python",
   "pygments_lexer": "ipython3",
   "version": "3.10.10"
  },
  "papermill": {
   "default_parameters": {},
   "duration": 94.218277,
   "end_time": "2023-07-09T07:36:10.969097",
   "environment_variables": {},
   "exception": null,
   "input_path": "__notebook__.ipynb",
   "output_path": "__notebook__.ipynb",
   "parameters": {},
   "start_time": "2023-07-09T07:34:36.750820",
   "version": "2.4.0"
  }
 },
 "nbformat": 4,
 "nbformat_minor": 5
}
