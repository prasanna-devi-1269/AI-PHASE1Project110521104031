{
 "cells": [
  {
   "cell_type": "markdown",
   "metadata": {},
   "source": [
    "#                                            Market Basket Insights\n",
    "# Phase 4 Development Phase 2 - Performing Different Activities Like Featuer Engineering ,Model training,Evaluation etc.,"
   ]
  },
  {
   "cell_type": "markdown",
   "id": "de971e88",
   "metadata": {},
   "source": [
    "# Introduction:"
   ]
  },
  {
   "cell_type": "markdown",
   "id": "e6f850ab",
   "metadata": {
    "papermill": {
     "duration": 0.017894,
     "end_time": "2023-06-05T14:16:57.889113",
     "exception": false,
     "start_time": "2023-06-05T14:16:57.871219",
     "status": "completed"
    },
    "tags": []
   },
   "source": [
    "Welcome to this notebook where we will explore the fascinating world of Market Basket Analysis using a real-world dataset. Market Basket Analysis is a powerful technique that allows us to uncover patterns and associations between items that customers tend to purchase together. By analyzing these patterns, we can gain valuable insights that can drive business decisions and strategies.\n",
    "\n",
    "In this notebook, we will work with a Market Basket dataset that captures customer transactions in a retail or e-commerce setting. The dataset provides a wealth of information about customer purchases, allowing us to dive deep into their buying behavior. By leveraging data mining techniques and association rule mining algorithms, we will unravel the relationships between items and discover interesting patterns.\n",
    "\n",
    "Through this analysis, we can derive actionable insights to improve various aspects of business operations. We can identify frequently co-purchased items, enabling us to make targeted product recommendations and enhance cross-selling and upselling opportunities. By optimizing product placement and store layout based on association patterns, we can create more enticing shopping experiences. Furthermore, we can design effective promotional campaigns by leveraging the discovered item associations, resulting in higher customer engagement and increased sales.\n",
    "\n",
    "In this notebook, we will take you through the entire process of Market Basket Analysis, from data preprocessing to association rule mining and visualization. By following along with the provided code and explanations, you will gain a solid understanding of how to extract valuable insights from Market Basket datasets and apply them to real-world scenarios.\n",
    "\n",
    "So let's dive in and unlock the secrets hidden within the Market Basket dataset to gain a deeper understanding of customer behavior and optimize business strategies!"
   ]
  },
  {
   "cell_type": "markdown",
   "id": "9d2d0d48",
   "metadata": {
    "papermill": {
     "duration": 0.017739,
     "end_time": "2023-06-05T14:16:57.924918",
     "exception": false,
     "start_time": "2023-06-05T14:16:57.907179",
     "status": "completed"
    },
    "tags": []
   },
   "source": [
    "## Overview of the Market Basket Analysis dataset"
   ]
  },
  {
   "cell_type": "markdown",
   "id": "7f373720",
   "metadata": {
    "papermill": {
     "duration": 0.017727,
     "end_time": "2023-06-05T14:16:57.960771",
     "exception": false,
     "start_time": "2023-06-05T14:16:57.943044",
     "status": "completed"
    },
    "tags": []
   },
   "source": [
    "This dataset contains 522,065 rows and 7 attributes that provide valuable information about customer transactions and product details. Here is a breakdown of the attributes:\n",
    "\n",
    "    BillNo: This attribute represents a 6-digit number assigned to each transaction. It serves as a unique identifier for identifying individual purchases.\n",
    "\n",
    "    Itemname: This attribute stores the name of the product purchased in each transaction. It provides nominal data representing different products.\n",
    "\n",
    "    Quantity: This attribute captures the quantity of each product purchased in a transaction. It is a numeric value that indicates the number of units of a specific item.\n",
    "\n",
    "    Date: The Date attribute records the day and time when each transaction occurred. It provides valuable information about the timing of purchases.\n",
    "\n",
    "    Price: This attribute represents the price of each product. It is a numeric value that indicates the cost of a single unit of the item.\n",
    "\n",
    "    CustomerID: Each customer is assigned a 5-digit number as their unique identifier. This attribute helps track customer-specific information and analyze individual buying patterns.\n",
    "\n",
    "    Country: The Country attribute denotes the name of the country where each customer resides. It provides nominal data representing different geographic regions.\n",
    "\n",
    "By analyzing this dataset, we can gain insights into customer purchasing behavior, identify popular products, examine sales trends over time, and explore the impact of factors such as price and geography on customer preferences. These insights can be used to optimize marketing strategies, improve inventory management, and enhance customer satisfaction."
   ]
  },
  {
   "cell_type": "markdown",
   "id": "9980fea1",
   "metadata": {
    "papermill": {
     "duration": 0.017836,
     "end_time": "2023-06-05T14:16:57.997394",
     "exception": false,
     "start_time": "2023-06-05T14:16:57.979558",
     "status": "completed"
    },
    "tags": []
   },
   "source": [
    "# Data Preprocessing"
   ]
  },
  {
   "cell_type": "markdown",
   "id": "a10bcf89",
   "metadata": {
    "papermill": {
     "duration": 0.017988,
     "end_time": "2023-06-05T14:16:58.034455",
     "exception": false,
     "start_time": "2023-06-05T14:16:58.016467",
     "status": "completed"
    },
    "tags": []
   },
   "source": [
    "## Importing Required Libraries"
   ]
  },
  {
   "cell_type": "code",
   "execution_count": 1,
   "id": "50d07869",
   "metadata": {
    "_cell_guid": "b1076dfc-b9ad-4769-8c92-a6c4dae69d19",
    "_uuid": "8f2839f25d086af736a60e9eeb907d3b93b6e0e5",
    "execution": {
     "iopub.execute_input": "2023-06-05T14:16:58.073718Z",
     "iopub.status.busy": "2023-06-05T14:16:58.073046Z",
     "iopub.status.idle": "2023-06-05T14:16:58.083798Z",
     "shell.execute_reply": "2023-06-05T14:16:58.083010Z"
    },
    "papermill": {
     "duration": 0.033027,
     "end_time": "2023-06-05T14:16:58.086225",
     "exception": false,
     "start_time": "2023-06-05T14:16:58.053198",
     "status": "completed"
    },
    "tags": []
   },
   "outputs": [],
   "source": [
    "import numpy as np  # Import numpy library for efficient array operations\n",
    "import pandas as pd  # Import pandas library for data processing\n",
    "import matplotlib.pyplot as plt  # Import matplotlib.pyplot for data visualization"
   ]
  },
  {
   "cell_type": "markdown",
   "id": "3578277a",
   "metadata": {
    "papermill": {
     "duration": 0.018057,
     "end_time": "2023-06-05T14:16:58.123583",
     "exception": false,
     "start_time": "2023-06-05T14:16:58.105526",
     "status": "completed"
    },
    "tags": []
   },
   "source": [
    "## Data Loading\n",
    "Retrieving and Loading the Dataset"
   ]
  },
  {
   "cell_type": "code",
   "execution_count": 2,
   "id": "ef1c1094",
   "metadata": {
    "execution": {
     "iopub.execute_input": "2023-06-05T14:16:58.162067Z",
     "iopub.status.busy": "2023-06-05T14:16:58.161625Z",
     "iopub.status.idle": "2023-06-05T14:17:01.950857Z",
     "shell.execute_reply": "2023-06-05T14:17:01.949527Z"
    },
    "papermill": {
     "duration": 3.811805,
     "end_time": "2023-06-05T14:17:01.953672",
     "exception": false,
     "start_time": "2023-06-05T14:16:58.141867",
     "status": "completed"
    },
    "tags": []
   },
   "outputs": [
    {
     "name": "stderr",
     "output_type": "stream",
     "text": [
      "/tmp/ipykernel_20/3267796271.py:1: DtypeWarning: Columns (0) have mixed types. Specify dtype option on import or set low_memory=False.\n",
      "  df = pd.read_csv('../input/market-basket-analysis/Assignment-1_Data.csv', sep=';',parse_dates=['Date'])\n"
     ]
    },
    {
     "data": {
      "text/html": [
       "<div>\n",
       "<style scoped>\n",
       "    .dataframe tbody tr th:only-of-type {\n",
       "        vertical-align: middle;\n",
       "    }\n",
       "\n",
       "    .dataframe tbody tr th {\n",
       "        vertical-align: top;\n",
       "    }\n",
       "\n",
       "    .dataframe thead th {\n",
       "        text-align: right;\n",
       "    }\n",
       "</style>\n",
       "<table border=\"1\" class=\"dataframe\">\n",
       "  <thead>\n",
       "    <tr style=\"text-align: right;\">\n",
       "      <th></th>\n",
       "      <th>BillNo</th>\n",
       "      <th>Itemname</th>\n",
       "      <th>Quantity</th>\n",
       "      <th>Date</th>\n",
       "      <th>Price</th>\n",
       "      <th>CustomerID</th>\n",
       "      <th>Country</th>\n",
       "    </tr>\n",
       "  </thead>\n",
       "  <tbody>\n",
       "    <tr>\n",
       "      <th>0</th>\n",
       "      <td>536365</td>\n",
       "      <td>WHITE HANGING HEART T-LIGHT HOLDER</td>\n",
       "      <td>6</td>\n",
       "      <td>2010-01-12 08:26:00</td>\n",
       "      <td>2,55</td>\n",
       "      <td>17850.0</td>\n",
       "      <td>United Kingdom</td>\n",
       "    </tr>\n",
       "    <tr>\n",
       "      <th>1</th>\n",
       "      <td>536365</td>\n",
       "      <td>WHITE METAL LANTERN</td>\n",
       "      <td>6</td>\n",
       "      <td>2010-01-12 08:26:00</td>\n",
       "      <td>3,39</td>\n",
       "      <td>17850.0</td>\n",
       "      <td>United Kingdom</td>\n",
       "    </tr>\n",
       "    <tr>\n",
       "      <th>2</th>\n",
       "      <td>536365</td>\n",
       "      <td>CREAM CUPID HEARTS COAT HANGER</td>\n",
       "      <td>8</td>\n",
       "      <td>2010-01-12 08:26:00</td>\n",
       "      <td>2,75</td>\n",
       "      <td>17850.0</td>\n",
       "      <td>United Kingdom</td>\n",
       "    </tr>\n",
       "    <tr>\n",
       "      <th>3</th>\n",
       "      <td>536365</td>\n",
       "      <td>KNITTED UNION FLAG HOT WATER BOTTLE</td>\n",
       "      <td>6</td>\n",
       "      <td>2010-01-12 08:26:00</td>\n",
       "      <td>3,39</td>\n",
       "      <td>17850.0</td>\n",
       "      <td>United Kingdom</td>\n",
       "    </tr>\n",
       "    <tr>\n",
       "      <th>4</th>\n",
       "      <td>536365</td>\n",
       "      <td>RED WOOLLY HOTTIE WHITE HEART.</td>\n",
       "      <td>6</td>\n",
       "      <td>2010-01-12 08:26:00</td>\n",
       "      <td>3,39</td>\n",
       "      <td>17850.0</td>\n",
       "      <td>United Kingdom</td>\n",
       "    </tr>\n",
       "  </tbody>\n",
       "</table>\n",
       "</div>"
      ],
      "text/plain": [
       "   BillNo                             Itemname  Quantity                Date  \\\n",
       "0  536365   WHITE HANGING HEART T-LIGHT HOLDER         6 2010-01-12 08:26:00   \n",
       "1  536365                  WHITE METAL LANTERN         6 2010-01-12 08:26:00   \n",
       "2  536365       CREAM CUPID HEARTS COAT HANGER         8 2010-01-12 08:26:00   \n",
       "3  536365  KNITTED UNION FLAG HOT WATER BOTTLE         6 2010-01-12 08:26:00   \n",
       "4  536365       RED WOOLLY HOTTIE WHITE HEART.         6 2010-01-12 08:26:00   \n",
       "\n",
       "  Price  CustomerID         Country  \n",
       "0  2,55     17850.0  United Kingdom  \n",
       "1  3,39     17850.0  United Kingdom  \n",
       "2  2,75     17850.0  United Kingdom  \n",
       "3  3,39     17850.0  United Kingdom  \n",
       "4  3,39     17850.0  United Kingdom  "
      ]
     },
     "execution_count": 2,
     "metadata": {},
     "output_type": "execute_result"
    }
   ],
   "source": [
    "df = pd.read_csv('../input/market-basket-analysis/Assignment-1_Data.csv', sep=';',parse_dates=['Date'])\n",
    "df.head()"
   ]
  },
  {
   "cell_type": "code",
   "execution_count": 3,
   "id": "d1970138",
   "metadata": {
    "execution": {
     "iopub.execute_input": "2023-06-05T14:17:01.993316Z",
     "iopub.status.busy": "2023-06-05T14:17:01.992875Z",
     "iopub.status.idle": "2023-06-05T14:17:02.455693Z",
     "shell.execute_reply": "2023-06-05T14:17:02.454519Z"
    },
    "papermill": {
     "duration": 0.485973,
     "end_time": "2023-06-05T14:17:02.458491",
     "exception": false,
     "start_time": "2023-06-05T14:17:01.972518",
     "status": "completed"
    },
    "tags": []
   },
   "outputs": [],
   "source": [
    "# Convert the 'Price' column to float64 data type after replacing commas with dots\n",
    "df['Price'] = df['Price'].str.replace(',', '.').astype('float64')"
   ]
  },
  {
   "cell_type": "code",
   "execution_count": 4,
   "id": "4281d597",
   "metadata": {
    "execution": {
     "iopub.execute_input": "2023-06-05T14:17:02.497281Z",
     "iopub.status.busy": "2023-06-05T14:17:02.496862Z",
     "iopub.status.idle": "2023-06-05T14:17:03.021275Z",
     "shell.execute_reply": "2023-06-05T14:17:03.019762Z"
    },
    "papermill": {
     "duration": 0.54737,
     "end_time": "2023-06-05T14:17:03.024317",
     "exception": false,
     "start_time": "2023-06-05T14:17:02.476947",
     "status": "completed"
    },
    "tags": []
   },
   "outputs": [
    {
     "name": "stdout",
     "output_type": "stream",
     "text": [
      "<class 'pandas.core.frame.DataFrame'>\n",
      "RangeIndex: 522064 entries, 0 to 522063\n",
      "Data columns (total 7 columns):\n",
      " #   Column      Non-Null Count   Dtype         \n",
      "---  ------      --------------   -----         \n",
      " 0   BillNo      522064 non-null  object        \n",
      " 1   Itemname    520609 non-null  object        \n",
      " 2   Quantity    522064 non-null  int64         \n",
      " 3   Date        522064 non-null  datetime64[ns]\n",
      " 4   Price       522064 non-null  float64       \n",
      " 5   CustomerID  388023 non-null  float64       \n",
      " 6   Country     522064 non-null  object        \n",
      "dtypes: datetime64[ns](1), float64(2), int64(1), object(3)\n",
      "memory usage: 27.9+ MB\n"
     ]
    }
   ],
   "source": [
    "# Display the information about the DataFrame which is to provide an overview of the DataFrame's structure and column data types.\n",
    "df.info()"
   ]
  },
  {
   "cell_type": "code",
   "execution_count": 5,
   "id": "2b54c285",
   "metadata": {
    "execution": {
     "iopub.execute_input": "2023-06-05T14:17:03.073283Z",
     "iopub.status.busy": "2023-06-05T14:17:03.072855Z",
     "iopub.status.idle": "2023-06-05T14:17:03.592364Z",
     "shell.execute_reply": "2023-06-05T14:17:03.591144Z"
    },
    "papermill": {
     "duration": 0.546802,
     "end_time": "2023-06-05T14:17:03.594957",
     "exception": false,
     "start_time": "2023-06-05T14:17:03.048155",
     "status": "completed"
    },
    "tags": []
   },
   "outputs": [
    {
     "data": {
      "text/plain": [
       "CustomerID    134041\n",
       "Itemname        1455\n",
       "BillNo             0\n",
       "Quantity           0\n",
       "Date               0\n",
       "Price              0\n",
       "Country            0\n",
       "dtype: int64"
      ]
     },
     "execution_count": 5,
     "metadata": {},
     "output_type": "execute_result"
    }
   ],
   "source": [
    "# Calculate the number of missing values for each column and sort them in descending order\n",
    "df.isna().sum().sort_values(ascending=False)"
   ]
  },
  {
   "cell_type": "code",
   "execution_count": 6,
   "id": "71c902b6",
   "metadata": {
    "execution": {
     "iopub.execute_input": "2023-06-05T14:17:03.635733Z",
     "iopub.status.busy": "2023-06-05T14:17:03.634865Z",
     "iopub.status.idle": "2023-06-05T14:17:03.643515Z",
     "shell.execute_reply": "2023-06-05T14:17:03.642638Z"
    },
    "papermill": {
     "duration": 0.031396,
     "end_time": "2023-06-05T14:17:03.645944",
     "exception": false,
     "start_time": "2023-06-05T14:17:03.614548",
     "status": "completed"
    },
    "tags": []
   },
   "outputs": [],
   "source": [
    "# Calculate the total price by multiplying the quantity and price columns\n",
    "df['Total_Price'] = df.Quantity * df.Price"
   ]
  },
  {
   "cell_type": "code",
   "execution_count": 7,
   "id": "83069cb8",
   "metadata": {
    "execution": {
     "iopub.execute_input": "2023-06-05T14:17:03.685682Z",
     "iopub.status.busy": "2023-06-05T14:17:03.685033Z",
     "iopub.status.idle": "2023-06-05T14:17:04.259889Z",
     "shell.execute_reply": "2023-06-05T14:17:04.258620Z"
    },
    "papermill": {
     "duration": 0.597924,
     "end_time": "2023-06-05T14:17:04.262461",
     "exception": false,
     "start_time": "2023-06-05T14:17:03.664537",
     "status": "completed"
    },
    "tags": []
   },
   "outputs": [
    {
     "name": "stderr",
     "output_type": "stream",
     "text": [
      "/tmp/ipykernel_20/2884002236.py:1: FutureWarning: Treating datetime data as categorical rather than numeric in `.describe` is deprecated and will be removed in a future version of pandas. Specify `datetime_is_numeric=True` to silence this warning and adopt the future behavior now.\n",
      "  df.describe(include='all')\n"
     ]
    },
    {
     "data": {
      "text/html": [
       "<div>\n",
       "<style scoped>\n",
       "    .dataframe tbody tr th:only-of-type {\n",
       "        vertical-align: middle;\n",
       "    }\n",
       "\n",
       "    .dataframe tbody tr th {\n",
       "        vertical-align: top;\n",
       "    }\n",
       "\n",
       "    .dataframe thead th {\n",
       "        text-align: right;\n",
       "    }\n",
       "</style>\n",
       "<table border=\"1\" class=\"dataframe\">\n",
       "  <thead>\n",
       "    <tr style=\"text-align: right;\">\n",
       "      <th></th>\n",
       "      <th>BillNo</th>\n",
       "      <th>Itemname</th>\n",
       "      <th>Quantity</th>\n",
       "      <th>Date</th>\n",
       "      <th>Price</th>\n",
       "      <th>CustomerID</th>\n",
       "      <th>Country</th>\n",
       "      <th>Total_Price</th>\n",
       "    </tr>\n",
       "  </thead>\n",
       "  <tbody>\n",
       "    <tr>\n",
       "      <th>count</th>\n",
       "      <td>522064.0</td>\n",
       "      <td>520609</td>\n",
       "      <td>522064.000000</td>\n",
       "      <td>522064</td>\n",
       "      <td>522064.000000</td>\n",
       "      <td>388023.000000</td>\n",
       "      <td>522064</td>\n",
       "      <td>522064.000000</td>\n",
       "    </tr>\n",
       "    <tr>\n",
       "      <th>unique</th>\n",
       "      <td>21665.0</td>\n",
       "      <td>4185</td>\n",
       "      <td>NaN</td>\n",
       "      <td>19641</td>\n",
       "      <td>NaN</td>\n",
       "      <td>NaN</td>\n",
       "      <td>30</td>\n",
       "      <td>NaN</td>\n",
       "    </tr>\n",
       "    <tr>\n",
       "      <th>top</th>\n",
       "      <td>573585.0</td>\n",
       "      <td>WHITE HANGING HEART T-LIGHT HOLDER</td>\n",
       "      <td>NaN</td>\n",
       "      <td>2011-10-31 14:41:00</td>\n",
       "      <td>NaN</td>\n",
       "      <td>NaN</td>\n",
       "      <td>United Kingdom</td>\n",
       "      <td>NaN</td>\n",
       "    </tr>\n",
       "    <tr>\n",
       "      <th>freq</th>\n",
       "      <td>1114.0</td>\n",
       "      <td>2269</td>\n",
       "      <td>NaN</td>\n",
       "      <td>1114</td>\n",
       "      <td>NaN</td>\n",
       "      <td>NaN</td>\n",
       "      <td>487622</td>\n",
       "      <td>NaN</td>\n",
       "    </tr>\n",
       "    <tr>\n",
       "      <th>first</th>\n",
       "      <td>NaN</td>\n",
       "      <td>NaN</td>\n",
       "      <td>NaN</td>\n",
       "      <td>2010-01-12 08:26:00</td>\n",
       "      <td>NaN</td>\n",
       "      <td>NaN</td>\n",
       "      <td>NaN</td>\n",
       "      <td>NaN</td>\n",
       "    </tr>\n",
       "    <tr>\n",
       "      <th>last</th>\n",
       "      <td>NaN</td>\n",
       "      <td>NaN</td>\n",
       "      <td>NaN</td>\n",
       "      <td>2011-12-10 17:19:00</td>\n",
       "      <td>NaN</td>\n",
       "      <td>NaN</td>\n",
       "      <td>NaN</td>\n",
       "      <td>NaN</td>\n",
       "    </tr>\n",
       "    <tr>\n",
       "      <th>mean</th>\n",
       "      <td>NaN</td>\n",
       "      <td>NaN</td>\n",
       "      <td>10.090435</td>\n",
       "      <td>NaN</td>\n",
       "      <td>3.826801</td>\n",
       "      <td>15316.931710</td>\n",
       "      <td>NaN</td>\n",
       "      <td>19.690633</td>\n",
       "    </tr>\n",
       "    <tr>\n",
       "      <th>std</th>\n",
       "      <td>NaN</td>\n",
       "      <td>NaN</td>\n",
       "      <td>161.110525</td>\n",
       "      <td>NaN</td>\n",
       "      <td>41.900599</td>\n",
       "      <td>1721.846964</td>\n",
       "      <td>NaN</td>\n",
       "      <td>273.068938</td>\n",
       "    </tr>\n",
       "    <tr>\n",
       "      <th>min</th>\n",
       "      <td>NaN</td>\n",
       "      <td>NaN</td>\n",
       "      <td>-9600.000000</td>\n",
       "      <td>NaN</td>\n",
       "      <td>-11062.060000</td>\n",
       "      <td>12346.000000</td>\n",
       "      <td>NaN</td>\n",
       "      <td>-11062.060000</td>\n",
       "    </tr>\n",
       "    <tr>\n",
       "      <th>25%</th>\n",
       "      <td>NaN</td>\n",
       "      <td>NaN</td>\n",
       "      <td>1.000000</td>\n",
       "      <td>NaN</td>\n",
       "      <td>1.250000</td>\n",
       "      <td>13950.000000</td>\n",
       "      <td>NaN</td>\n",
       "      <td>3.750000</td>\n",
       "    </tr>\n",
       "    <tr>\n",
       "      <th>50%</th>\n",
       "      <td>NaN</td>\n",
       "      <td>NaN</td>\n",
       "      <td>3.000000</td>\n",
       "      <td>NaN</td>\n",
       "      <td>2.080000</td>\n",
       "      <td>15265.000000</td>\n",
       "      <td>NaN</td>\n",
       "      <td>9.780000</td>\n",
       "    </tr>\n",
       "    <tr>\n",
       "      <th>75%</th>\n",
       "      <td>NaN</td>\n",
       "      <td>NaN</td>\n",
       "      <td>10.000000</td>\n",
       "      <td>NaN</td>\n",
       "      <td>4.130000</td>\n",
       "      <td>16837.000000</td>\n",
       "      <td>NaN</td>\n",
       "      <td>17.400000</td>\n",
       "    </tr>\n",
       "    <tr>\n",
       "      <th>max</th>\n",
       "      <td>NaN</td>\n",
       "      <td>NaN</td>\n",
       "      <td>80995.000000</td>\n",
       "      <td>NaN</td>\n",
       "      <td>13541.330000</td>\n",
       "      <td>18287.000000</td>\n",
       "      <td>NaN</td>\n",
       "      <td>168469.600000</td>\n",
       "    </tr>\n",
       "  </tbody>\n",
       "</table>\n",
       "</div>"
      ],
      "text/plain": [
       "          BillNo                            Itemname       Quantity  \\\n",
       "count   522064.0                              520609  522064.000000   \n",
       "unique   21665.0                                4185            NaN   \n",
       "top     573585.0  WHITE HANGING HEART T-LIGHT HOLDER            NaN   \n",
       "freq      1114.0                                2269            NaN   \n",
       "first        NaN                                 NaN            NaN   \n",
       "last         NaN                                 NaN            NaN   \n",
       "mean         NaN                                 NaN      10.090435   \n",
       "std          NaN                                 NaN     161.110525   \n",
       "min          NaN                                 NaN   -9600.000000   \n",
       "25%          NaN                                 NaN       1.000000   \n",
       "50%          NaN                                 NaN       3.000000   \n",
       "75%          NaN                                 NaN      10.000000   \n",
       "max          NaN                                 NaN   80995.000000   \n",
       "\n",
       "                       Date          Price     CustomerID         Country  \\\n",
       "count                522064  522064.000000  388023.000000          522064   \n",
       "unique                19641            NaN            NaN              30   \n",
       "top     2011-10-31 14:41:00            NaN            NaN  United Kingdom   \n",
       "freq                   1114            NaN            NaN          487622   \n",
       "first   2010-01-12 08:26:00            NaN            NaN             NaN   \n",
       "last    2011-12-10 17:19:00            NaN            NaN             NaN   \n",
       "mean                    NaN       3.826801   15316.931710             NaN   \n",
       "std                     NaN      41.900599    1721.846964             NaN   \n",
       "min                     NaN  -11062.060000   12346.000000             NaN   \n",
       "25%                     NaN       1.250000   13950.000000             NaN   \n",
       "50%                     NaN       2.080000   15265.000000             NaN   \n",
       "75%                     NaN       4.130000   16837.000000             NaN   \n",
       "max                     NaN   13541.330000   18287.000000             NaN   \n",
       "\n",
       "          Total_Price  \n",
       "count   522064.000000  \n",
       "unique            NaN  \n",
       "top               NaN  \n",
       "freq              NaN  \n",
       "first             NaN  \n",
       "last              NaN  \n",
       "mean        19.690633  \n",
       "std        273.068938  \n",
       "min     -11062.060000  \n",
       "25%          3.750000  \n",
       "50%          9.780000  \n",
       "75%         17.400000  \n",
       "max     168469.600000  "
      ]
     },
     "execution_count": 7,
     "metadata": {},
     "output_type": "execute_result"
    }
   ],
   "source": [
    "df.describe(include='all')"
   ]
  },
  {
   "cell_type": "code",
   "execution_count": 8,
   "id": "ca1900a0",
   "metadata": {
    "execution": {
     "iopub.execute_input": "2023-06-05T14:17:04.302808Z",
     "iopub.status.busy": "2023-06-05T14:17:04.302375Z",
     "iopub.status.idle": "2023-06-05T14:17:04.440743Z",
     "shell.execute_reply": "2023-06-05T14:17:04.439340Z"
    },
    "papermill": {
     "duration": 0.161852,
     "end_time": "2023-06-05T14:17:04.443536",
     "exception": false,
     "start_time": "2023-06-05T14:17:04.281684",
     "status": "completed"
    },
    "tags": []
   },
   "outputs": [
    {
     "name": "stdout",
     "output_type": "stream",
     "text": [
      "Number of unique countries: 30\n",
      "United Kingdom    0.934027\n",
      "Germany           0.017320\n",
      "France            0.016105\n",
      "Spain             0.004760\n",
      "Netherlands       0.004526\n",
      "Name: Country, dtype: float64\n"
     ]
    }
   ],
   "source": [
    "# Print the number of unique countries in the 'Country' column\n",
    "print(\"Number of unique countries:\", df['Country'].nunique())\n",
    "\n",
    "# Calculate and print the normalized value counts of the top 5 countries in the 'Country' column\n",
    "print(df['Country'].value_counts(normalize=True)[:5])"
   ]
  },
  {
   "cell_type": "markdown",
   "id": "43c28009",
   "metadata": {
    "papermill": {
     "duration": 0.019605,
     "end_time": "2023-06-05T14:17:04.482705",
     "exception": false,
     "start_time": "2023-06-05T14:17:04.463100",
     "status": "completed"
    },
    "tags": []
   },
   "source": [
    "Considering that the majority of transactions (approximately 93%) in the dataset originate from the UK, the 'Country' column may not contribute significant diversity or variability to the analysis. Therefore, we can choose to remove the 'Country' column from the DataFrame df. we indicate that we want to drop a column, This step allows us to focus on other attributes that may provide more valuable insights for our analysis."
   ]
  },
  {
   "cell_type": "code",
   "execution_count": 9,
   "id": "edf10739",
   "metadata": {
    "execution": {
     "iopub.execute_input": "2023-06-05T14:17:04.524109Z",
     "iopub.status.busy": "2023-06-05T14:17:04.523626Z",
     "iopub.status.idle": "2023-06-05T14:17:04.554748Z",
     "shell.execute_reply": "2023-06-05T14:17:04.553423Z"
    },
    "papermill": {
     "duration": 0.055223,
     "end_time": "2023-06-05T14:17:04.557723",
     "exception": false,
     "start_time": "2023-06-05T14:17:04.502500",
     "status": "completed"
    },
    "tags": []
   },
   "outputs": [],
   "source": [
    "# Delete the 'Country' column from the DataFrame\n",
    "df.drop('Country', axis=1, inplace=True)"
   ]
  },
  {
   "cell_type": "code",
   "execution_count": 10,
   "id": "da727519",
   "metadata": {
    "execution": {
     "iopub.execute_input": "2023-06-05T14:17:04.599593Z",
     "iopub.status.busy": "2023-06-05T14:17:04.598867Z",
     "iopub.status.idle": "2023-06-05T14:17:05.369591Z",
     "shell.execute_reply": "2023-06-05T14:17:05.368719Z"
    },
    "papermill": {
     "duration": 0.793976,
     "end_time": "2023-06-05T14:17:05.371969",
     "exception": false,
     "start_time": "2023-06-05T14:17:04.577993",
     "status": "completed"
    },
    "tags": []
   },
   "outputs": [
    {
     "data": {
      "text/html": [
       "<div>\n",
       "<style scoped>\n",
       "    .dataframe tbody tr th:only-of-type {\n",
       "        vertical-align: middle;\n",
       "    }\n",
       "\n",
       "    .dataframe tbody tr th {\n",
       "        vertical-align: top;\n",
       "    }\n",
       "\n",
       "    .dataframe thead th {\n",
       "        text-align: right;\n",
       "    }\n",
       "</style>\n",
       "<table border=\"1\" class=\"dataframe\">\n",
       "  <thead>\n",
       "    <tr style=\"text-align: right;\">\n",
       "      <th></th>\n",
       "      <th>BillNo</th>\n",
       "      <th>Itemname</th>\n",
       "      <th>Quantity</th>\n",
       "      <th>Date</th>\n",
       "      <th>Price</th>\n",
       "      <th>CustomerID</th>\n",
       "      <th>Total_Price</th>\n",
       "    </tr>\n",
       "  </thead>\n",
       "  <tbody>\n",
       "    <tr>\n",
       "      <th>288772</th>\n",
       "      <td>A563185</td>\n",
       "      <td>Adjust bad debt</td>\n",
       "      <td>1</td>\n",
       "      <td>2011-12-08 14:50:00</td>\n",
       "      <td>11062.06</td>\n",
       "      <td>NaN</td>\n",
       "      <td>11062.06</td>\n",
       "    </tr>\n",
       "    <tr>\n",
       "      <th>288773</th>\n",
       "      <td>A563186</td>\n",
       "      <td>Adjust bad debt</td>\n",
       "      <td>1</td>\n",
       "      <td>2011-12-08 14:51:00</td>\n",
       "      <td>-11062.06</td>\n",
       "      <td>NaN</td>\n",
       "      <td>-11062.06</td>\n",
       "    </tr>\n",
       "    <tr>\n",
       "      <th>288774</th>\n",
       "      <td>A563187</td>\n",
       "      <td>Adjust bad debt</td>\n",
       "      <td>1</td>\n",
       "      <td>2011-12-08 14:52:00</td>\n",
       "      <td>-11062.06</td>\n",
       "      <td>NaN</td>\n",
       "      <td>-11062.06</td>\n",
       "    </tr>\n",
       "  </tbody>\n",
       "</table>\n",
       "</div>"
      ],
      "text/plain": [
       "         BillNo         Itemname  Quantity                Date     Price  \\\n",
       "288772  A563185  Adjust bad debt         1 2011-12-08 14:50:00  11062.06   \n",
       "288773  A563186  Adjust bad debt         1 2011-12-08 14:51:00 -11062.06   \n",
       "288774  A563187  Adjust bad debt         1 2011-12-08 14:52:00 -11062.06   \n",
       "\n",
       "        CustomerID  Total_Price  \n",
       "288772         NaN     11062.06  \n",
       "288773         NaN    -11062.06  \n",
       "288774         NaN    -11062.06  "
      ]
     },
     "execution_count": 10,
     "metadata": {},
     "output_type": "execute_result"
    }
   ],
   "source": [
    "# Filter the DataFrame to display rows where 'BillNo' column contains non-digit values\n",
    "df[df['BillNo'].str.isdigit() == False]"
   ]
  },
  {
   "cell_type": "markdown",
   "id": "4a003ad0",
   "metadata": {
    "papermill": {
     "duration": 0.019475,
     "end_time": "2023-06-05T14:17:05.411377",
     "exception": false,
     "start_time": "2023-06-05T14:17:05.391902",
     "status": "completed"
    },
    "tags": []
   },
   "source": [
    "Since the item name \"Adjust bad debt\" was filled accidentally and does not provide any useful information for our analysis, we can choose to remove the corresponding rows from the DataFrame. The code snippet above filters the DataFrame df to retain only the rows where the 'Itemname' column does not contain the value \"Adjust bad debt\". This operation effectively eliminates the rows associated with the accidental data entry, ensuring the dataset is free from this irrelevant item name."
   ]
  },
  {
   "cell_type": "code",
   "execution_count": 11,
   "id": "9f19a018",
   "metadata": {
    "execution": {
     "iopub.execute_input": "2023-06-05T14:17:05.453032Z",
     "iopub.status.busy": "2023-06-05T14:17:05.452383Z",
     "iopub.status.idle": "2023-06-05T14:17:05.573580Z",
     "shell.execute_reply": "2023-06-05T14:17:05.572597Z"
    },
    "papermill": {
     "duration": 0.145119,
     "end_time": "2023-06-05T14:17:05.576162",
     "exception": false,
     "start_time": "2023-06-05T14:17:05.431043",
     "status": "completed"
    },
    "tags": []
   },
   "outputs": [],
   "source": [
    "# Remove rows where the 'Itemname' column contains \"Adjust bad debt\"\n",
    "df = df[df['Itemname'] != \"Adjust bad debt\"]"
   ]
  },
  {
   "cell_type": "code",
   "execution_count": 12,
   "id": "4044b81e",
   "metadata": {
    "execution": {
     "iopub.execute_input": "2023-06-05T14:17:05.617810Z",
     "iopub.status.busy": "2023-06-05T14:17:05.617199Z",
     "iopub.status.idle": "2023-06-05T14:17:05.672691Z",
     "shell.execute_reply": "2023-06-05T14:17:05.671586Z"
    },
    "papermill": {
     "duration": 0.079158,
     "end_time": "2023-06-05T14:17:05.675003",
     "exception": false,
     "start_time": "2023-06-05T14:17:05.595845",
     "status": "completed"
    },
    "tags": []
   },
   "outputs": [
    {
     "data": {
      "text/plain": [
       "0         536365\n",
       "1         536365\n",
       "2         536365\n",
       "3         536365\n",
       "4         536365\n",
       "           ...  \n",
       "522059    581587\n",
       "522060    581587\n",
       "522061    581587\n",
       "522062    581587\n",
       "522063    581587\n",
       "Name: BillNo, Length: 522061, dtype: int64"
      ]
     },
     "execution_count": 12,
     "metadata": {},
     "output_type": "execute_result"
    }
   ],
   "source": [
    "# Here to check if all BillNo doesn't inculde letters \n",
    "df['BillNo'].astype(\"int64\")"
   ]
  },
  {
   "cell_type": "code",
   "execution_count": 13,
   "id": "2a1fdd8e",
   "metadata": {
    "execution": {
     "iopub.execute_input": "2023-06-05T14:17:05.716775Z",
     "iopub.status.busy": "2023-06-05T14:17:05.716130Z",
     "iopub.status.idle": "2023-06-05T14:17:05.779539Z",
     "shell.execute_reply": "2023-06-05T14:17:05.778320Z"
    },
    "papermill": {
     "duration": 0.087686,
     "end_time": "2023-06-05T14:17:05.782193",
     "exception": false,
     "start_time": "2023-06-05T14:17:05.694507",
     "status": "completed"
    },
    "tags": []
   },
   "outputs": [
    {
     "data": {
      "text/plain": [
       "0.0"
      ]
     },
     "execution_count": 13,
     "metadata": {},
     "output_type": "execute_result"
    }
   ],
   "source": [
    "# Calculate the sum of 'Price' for rows where 'Itemname' is missing\n",
    "df[df['Itemname'].isna()] ['Price'].sum()"
   ]
  },
  {
   "cell_type": "markdown",
   "id": "5382f275",
   "metadata": {
    "papermill": {
     "duration": 0.019841,
     "end_time": "2023-06-05T14:17:05.822131",
     "exception": false,
     "start_time": "2023-06-05T14:17:05.802290",
     "status": "completed"
    },
    "tags": []
   },
   "source": [
    "Exploring Rows with Missing Item Names:\n",
    "\n",
    "To investigate the data where the 'Itemname' column has missing values, we can filter the dataset to display only those rows. This subset of the data will provide insights into the records where the item names are not available."
   ]
  },
  {
   "cell_type": "code",
   "execution_count": 14,
   "id": "4b8afe42",
   "metadata": {
    "execution": {
     "iopub.execute_input": "2023-06-05T14:17:05.863901Z",
     "iopub.status.busy": "2023-06-05T14:17:05.863463Z",
     "iopub.status.idle": "2023-06-05T14:17:05.938767Z",
     "shell.execute_reply": "2023-06-05T14:17:05.937708Z"
    },
    "papermill": {
     "duration": 0.099117,
     "end_time": "2023-06-05T14:17:05.941243",
     "exception": false,
     "start_time": "2023-06-05T14:17:05.842126",
     "status": "completed"
    },
    "tags": []
   },
   "outputs": [
    {
     "data": {
      "text/html": [
       "<div>\n",
       "<style scoped>\n",
       "    .dataframe tbody tr th:only-of-type {\n",
       "        vertical-align: middle;\n",
       "    }\n",
       "\n",
       "    .dataframe tbody tr th {\n",
       "        vertical-align: top;\n",
       "    }\n",
       "\n",
       "    .dataframe thead th {\n",
       "        text-align: right;\n",
       "    }\n",
       "</style>\n",
       "<table border=\"1\" class=\"dataframe\">\n",
       "  <thead>\n",
       "    <tr style=\"text-align: right;\">\n",
       "      <th></th>\n",
       "      <th>BillNo</th>\n",
       "      <th>Itemname</th>\n",
       "      <th>Quantity</th>\n",
       "      <th>Date</th>\n",
       "      <th>Price</th>\n",
       "      <th>CustomerID</th>\n",
       "      <th>Total_Price</th>\n",
       "    </tr>\n",
       "  </thead>\n",
       "  <tbody>\n",
       "    <tr>\n",
       "      <th>613</th>\n",
       "      <td>536414</td>\n",
       "      <td>NaN</td>\n",
       "      <td>56</td>\n",
       "      <td>2010-01-12 11:52:00</td>\n",
       "      <td>0.0</td>\n",
       "      <td>NaN</td>\n",
       "      <td>0.0</td>\n",
       "    </tr>\n",
       "    <tr>\n",
       "      <th>1937</th>\n",
       "      <td>536545</td>\n",
       "      <td>NaN</td>\n",
       "      <td>1</td>\n",
       "      <td>2010-01-12 14:32:00</td>\n",
       "      <td>0.0</td>\n",
       "      <td>NaN</td>\n",
       "      <td>0.0</td>\n",
       "    </tr>\n",
       "    <tr>\n",
       "      <th>1938</th>\n",
       "      <td>536546</td>\n",
       "      <td>NaN</td>\n",
       "      <td>1</td>\n",
       "      <td>2010-01-12 14:33:00</td>\n",
       "      <td>0.0</td>\n",
       "      <td>NaN</td>\n",
       "      <td>0.0</td>\n",
       "    </tr>\n",
       "    <tr>\n",
       "      <th>1939</th>\n",
       "      <td>536547</td>\n",
       "      <td>NaN</td>\n",
       "      <td>1</td>\n",
       "      <td>2010-01-12 14:33:00</td>\n",
       "      <td>0.0</td>\n",
       "      <td>NaN</td>\n",
       "      <td>0.0</td>\n",
       "    </tr>\n",
       "    <tr>\n",
       "      <th>1940</th>\n",
       "      <td>536549</td>\n",
       "      <td>NaN</td>\n",
       "      <td>1</td>\n",
       "      <td>2010-01-12 14:34:00</td>\n",
       "      <td>0.0</td>\n",
       "      <td>NaN</td>\n",
       "      <td>0.0</td>\n",
       "    </tr>\n",
       "    <tr>\n",
       "      <th>...</th>\n",
       "      <td>...</td>\n",
       "      <td>...</td>\n",
       "      <td>...</td>\n",
       "      <td>...</td>\n",
       "      <td>...</td>\n",
       "      <td>...</td>\n",
       "      <td>...</td>\n",
       "    </tr>\n",
       "    <tr>\n",
       "      <th>515623</th>\n",
       "      <td>581199</td>\n",
       "      <td>NaN</td>\n",
       "      <td>-2</td>\n",
       "      <td>2011-07-12 18:26:00</td>\n",
       "      <td>0.0</td>\n",
       "      <td>NaN</td>\n",
       "      <td>-0.0</td>\n",
       "    </tr>\n",
       "    <tr>\n",
       "      <th>515627</th>\n",
       "      <td>581203</td>\n",
       "      <td>NaN</td>\n",
       "      <td>15</td>\n",
       "      <td>2011-07-12 18:31:00</td>\n",
       "      <td>0.0</td>\n",
       "      <td>NaN</td>\n",
       "      <td>0.0</td>\n",
       "    </tr>\n",
       "    <tr>\n",
       "      <th>515633</th>\n",
       "      <td>581209</td>\n",
       "      <td>NaN</td>\n",
       "      <td>6</td>\n",
       "      <td>2011-07-12 18:35:00</td>\n",
       "      <td>0.0</td>\n",
       "      <td>NaN</td>\n",
       "      <td>0.0</td>\n",
       "    </tr>\n",
       "    <tr>\n",
       "      <th>517266</th>\n",
       "      <td>581234</td>\n",
       "      <td>NaN</td>\n",
       "      <td>27</td>\n",
       "      <td>2011-08-12 10:33:00</td>\n",
       "      <td>0.0</td>\n",
       "      <td>NaN</td>\n",
       "      <td>0.0</td>\n",
       "    </tr>\n",
       "    <tr>\n",
       "      <th>518820</th>\n",
       "      <td>581408</td>\n",
       "      <td>NaN</td>\n",
       "      <td>20</td>\n",
       "      <td>2011-08-12 14:06:00</td>\n",
       "      <td>0.0</td>\n",
       "      <td>NaN</td>\n",
       "      <td>0.0</td>\n",
       "    </tr>\n",
       "  </tbody>\n",
       "</table>\n",
       "<p>1455 rows × 7 columns</p>\n",
       "</div>"
      ],
      "text/plain": [
       "        BillNo Itemname  Quantity                Date  Price  CustomerID  \\\n",
       "613     536414      NaN        56 2010-01-12 11:52:00    0.0         NaN   \n",
       "1937    536545      NaN         1 2010-01-12 14:32:00    0.0         NaN   \n",
       "1938    536546      NaN         1 2010-01-12 14:33:00    0.0         NaN   \n",
       "1939    536547      NaN         1 2010-01-12 14:33:00    0.0         NaN   \n",
       "1940    536549      NaN         1 2010-01-12 14:34:00    0.0         NaN   \n",
       "...        ...      ...       ...                 ...    ...         ...   \n",
       "515623  581199      NaN        -2 2011-07-12 18:26:00    0.0         NaN   \n",
       "515627  581203      NaN        15 2011-07-12 18:31:00    0.0         NaN   \n",
       "515633  581209      NaN         6 2011-07-12 18:35:00    0.0         NaN   \n",
       "517266  581234      NaN        27 2011-08-12 10:33:00    0.0         NaN   \n",
       "518820  581408      NaN        20 2011-08-12 14:06:00    0.0         NaN   \n",
       "\n",
       "        Total_Price  \n",
       "613             0.0  \n",
       "1937            0.0  \n",
       "1938            0.0  \n",
       "1939            0.0  \n",
       "1940            0.0  \n",
       "...             ...  \n",
       "515623         -0.0  \n",
       "515627          0.0  \n",
       "515633          0.0  \n",
       "517266          0.0  \n",
       "518820          0.0  \n",
       "\n",
       "[1455 rows x 7 columns]"
      ]
     },
     "execution_count": 14,
     "metadata": {},
     "output_type": "execute_result"
    }
   ],
   "source": [
    "# Filter the DataFrame to display rows where 'Itemname' is missing\n",
    "df[df['Itemname'].isna()]"
   ]
  },
  {
   "cell_type": "markdown",
   "id": "c69d9c07",
   "metadata": {
    "papermill": {
     "duration": 0.019919,
     "end_time": "2023-06-05T14:17:05.981455",
     "exception": false,
     "start_time": "2023-06-05T14:17:05.961536",
     "status": "completed"
    },
    "tags": []
   },
   "source": [
    "Upon examining the data where the 'Itemname' column has missing values, it becomes evident that these missing entries do not contribute any meaningful information. Given that the item names are not available for these records, it suggests that these instances may not be crucial for our analysis. As a result, we can consider these missing values as non-significant and proceed with our analysis without incorporating them."
   ]
  },
  {
   "cell_type": "code",
   "execution_count": 15,
   "id": "d497185a",
   "metadata": {
    "execution": {
     "iopub.execute_input": "2023-06-05T14:17:06.024892Z",
     "iopub.status.busy": "2023-06-05T14:17:06.023856Z",
     "iopub.status.idle": "2023-06-05T14:17:06.277103Z",
     "shell.execute_reply": "2023-06-05T14:17:06.275800Z"
    },
    "papermill": {
     "duration": 0.277576,
     "end_time": "2023-06-05T14:17:06.279882",
     "exception": false,
     "start_time": "2023-06-05T14:17:06.002306",
     "status": "completed"
    },
    "tags": []
   },
   "outputs": [
    {
     "name": "stdout",
     "output_type": "stream",
     "text": [
      "Number of unique items: 4184\n",
      "WHITE HANGING HEART T-LIGHT HOLDER    0.004358\n",
      "JUMBO BAG RED RETROSPOT               0.004009\n",
      "REGENCY CAKESTAND 3 TIER              0.003707\n",
      "PARTY BUNTING                         0.003221\n",
      "LUNCH BAG RED RETROSPOT               0.003016\n",
      "Name: Itemname, dtype: float64\n"
     ]
    }
   ],
   "source": [
    "# Filter the DataFrame to exclude rows where 'Itemname' is missing (not NaN)\n",
    "df = df[df['Itemname'].notna()]\n",
    "\n",
    "# Print the number of unique items in the 'Itemname' column\n",
    "print(\"Number of unique items:\", df['Itemname'].nunique())\n",
    "\n",
    "# Calculate and print the normalized value counts of the top 5 items in the 'Itemname' column\n",
    "print(df['Itemname'].value_counts(normalize=True)[:5])"
   ]
  },
  {
   "cell_type": "markdown",
   "id": "c2668bcd",
   "metadata": {
    "papermill": {
     "duration": 0.01988,
     "end_time": "2023-06-05T14:17:06.320251",
     "exception": false,
     "start_time": "2023-06-05T14:17:06.300371",
     "status": "completed"
    },
    "tags": []
   },
   "source": [
    "A curious observation has caught our attention—the presence of a negative quantity in the 515,623rd row. "
   ]
  },
  {
   "cell_type": "markdown",
   "id": "cbd11a45",
   "metadata": {
    "papermill": {
     "duration": 0.020043,
     "end_time": "2023-06-05T14:17:06.360385",
     "exception": false,
     "start_time": "2023-06-05T14:17:06.340342",
     "status": "completed"
    },
    "tags": []
   },
   "source": [
    "we are intrigued by the existence of negative quantities within the dataset. To gain a deeper understanding of this phenomenon, we focus our attention on these specific instances and aim to uncover the underlying reasons behind their occurrence. Through this exploration, we expect to gain valuable insights into the nature of these negative quantities and their potential impact on our analysis. Our investigation aims to reveal the intriguing stories that lie within this aspect of the data."
   ]
  },
  {
   "cell_type": "code",
   "execution_count": 16,
   "id": "f0ce066e",
   "metadata": {
    "execution": {
     "iopub.execute_input": "2023-06-05T14:17:06.403638Z",
     "iopub.status.busy": "2023-06-05T14:17:06.402904Z",
     "iopub.status.idle": "2023-06-05T14:17:06.423494Z",
     "shell.execute_reply": "2023-06-05T14:17:06.422399Z"
    },
    "papermill": {
     "duration": 0.044854,
     "end_time": "2023-06-05T14:17:06.426021",
     "exception": false,
     "start_time": "2023-06-05T14:17:06.381167",
     "status": "completed"
    },
    "tags": []
   },
   "outputs": [
    {
     "data": {
      "text/html": [
       "<div>\n",
       "<style scoped>\n",
       "    .dataframe tbody tr th:only-of-type {\n",
       "        vertical-align: middle;\n",
       "    }\n",
       "\n",
       "    .dataframe tbody tr th {\n",
       "        vertical-align: top;\n",
       "    }\n",
       "\n",
       "    .dataframe thead th {\n",
       "        text-align: right;\n",
       "    }\n",
       "</style>\n",
       "<table border=\"1\" class=\"dataframe\">\n",
       "  <thead>\n",
       "    <tr style=\"text-align: right;\">\n",
       "      <th></th>\n",
       "      <th>BillNo</th>\n",
       "      <th>Itemname</th>\n",
       "      <th>Quantity</th>\n",
       "      <th>Date</th>\n",
       "      <th>Price</th>\n",
       "      <th>CustomerID</th>\n",
       "      <th>Total_Price</th>\n",
       "    </tr>\n",
       "  </thead>\n",
       "  <tbody>\n",
       "    <tr>\n",
       "      <th>7122</th>\n",
       "      <td>537032</td>\n",
       "      <td>?</td>\n",
       "      <td>-30</td>\n",
       "      <td>2010-03-12 16:50:00</td>\n",
       "      <td>0.0</td>\n",
       "      <td>NaN</td>\n",
       "      <td>-0.0</td>\n",
       "    </tr>\n",
       "    <tr>\n",
       "      <th>12926</th>\n",
       "      <td>537425</td>\n",
       "      <td>check</td>\n",
       "      <td>-20</td>\n",
       "      <td>2010-06-12 15:35:00</td>\n",
       "      <td>0.0</td>\n",
       "      <td>NaN</td>\n",
       "      <td>-0.0</td>\n",
       "    </tr>\n",
       "    <tr>\n",
       "      <th>12927</th>\n",
       "      <td>537426</td>\n",
       "      <td>check</td>\n",
       "      <td>-35</td>\n",
       "      <td>2010-06-12 15:36:00</td>\n",
       "      <td>0.0</td>\n",
       "      <td>NaN</td>\n",
       "      <td>-0.0</td>\n",
       "    </tr>\n",
       "    <tr>\n",
       "      <th>12973</th>\n",
       "      <td>537432</td>\n",
       "      <td>damages</td>\n",
       "      <td>-43</td>\n",
       "      <td>2010-06-12 16:10:00</td>\n",
       "      <td>0.0</td>\n",
       "      <td>NaN</td>\n",
       "      <td>-0.0</td>\n",
       "    </tr>\n",
       "    <tr>\n",
       "      <th>20844</th>\n",
       "      <td>538072</td>\n",
       "      <td>faulty</td>\n",
       "      <td>-13</td>\n",
       "      <td>2010-09-12 14:10:00</td>\n",
       "      <td>0.0</td>\n",
       "      <td>NaN</td>\n",
       "      <td>-0.0</td>\n",
       "    </tr>\n",
       "    <tr>\n",
       "      <th>...</th>\n",
       "      <td>...</td>\n",
       "      <td>...</td>\n",
       "      <td>...</td>\n",
       "      <td>...</td>\n",
       "      <td>...</td>\n",
       "      <td>...</td>\n",
       "      <td>...</td>\n",
       "    </tr>\n",
       "    <tr>\n",
       "      <th>515634</th>\n",
       "      <td>581210</td>\n",
       "      <td>check</td>\n",
       "      <td>-26</td>\n",
       "      <td>2011-07-12 18:36:00</td>\n",
       "      <td>0.0</td>\n",
       "      <td>NaN</td>\n",
       "      <td>-0.0</td>\n",
       "    </tr>\n",
       "    <tr>\n",
       "      <th>515636</th>\n",
       "      <td>581212</td>\n",
       "      <td>lost</td>\n",
       "      <td>-1050</td>\n",
       "      <td>2011-07-12 18:38:00</td>\n",
       "      <td>0.0</td>\n",
       "      <td>NaN</td>\n",
       "      <td>-0.0</td>\n",
       "    </tr>\n",
       "    <tr>\n",
       "      <th>515637</th>\n",
       "      <td>581213</td>\n",
       "      <td>check</td>\n",
       "      <td>-30</td>\n",
       "      <td>2011-07-12 18:38:00</td>\n",
       "      <td>0.0</td>\n",
       "      <td>NaN</td>\n",
       "      <td>-0.0</td>\n",
       "    </tr>\n",
       "    <tr>\n",
       "      <th>517209</th>\n",
       "      <td>581226</td>\n",
       "      <td>missing</td>\n",
       "      <td>-338</td>\n",
       "      <td>2011-08-12 09:56:00</td>\n",
       "      <td>0.0</td>\n",
       "      <td>NaN</td>\n",
       "      <td>-0.0</td>\n",
       "    </tr>\n",
       "    <tr>\n",
       "      <th>519172</th>\n",
       "      <td>581422</td>\n",
       "      <td>smashed</td>\n",
       "      <td>-235</td>\n",
       "      <td>2011-08-12 15:24:00</td>\n",
       "      <td>0.0</td>\n",
       "      <td>NaN</td>\n",
       "      <td>-0.0</td>\n",
       "    </tr>\n",
       "  </tbody>\n",
       "</table>\n",
       "<p>473 rows × 7 columns</p>\n",
       "</div>"
      ],
      "text/plain": [
       "        BillNo Itemname  Quantity                Date  Price  CustomerID  \\\n",
       "7122    537032        ?       -30 2010-03-12 16:50:00    0.0         NaN   \n",
       "12926   537425    check       -20 2010-06-12 15:35:00    0.0         NaN   \n",
       "12927   537426    check       -35 2010-06-12 15:36:00    0.0         NaN   \n",
       "12973   537432  damages       -43 2010-06-12 16:10:00    0.0         NaN   \n",
       "20844   538072   faulty       -13 2010-09-12 14:10:00    0.0         NaN   \n",
       "...        ...      ...       ...                 ...    ...         ...   \n",
       "515634  581210    check       -26 2011-07-12 18:36:00    0.0         NaN   \n",
       "515636  581212     lost     -1050 2011-07-12 18:38:00    0.0         NaN   \n",
       "515637  581213    check       -30 2011-07-12 18:38:00    0.0         NaN   \n",
       "517209  581226  missing      -338 2011-08-12 09:56:00    0.0         NaN   \n",
       "519172  581422  smashed      -235 2011-08-12 15:24:00    0.0         NaN   \n",
       "\n",
       "        Total_Price  \n",
       "7122           -0.0  \n",
       "12926          -0.0  \n",
       "12927          -0.0  \n",
       "12973          -0.0  \n",
       "20844          -0.0  \n",
       "...             ...  \n",
       "515634         -0.0  \n",
       "515636         -0.0  \n",
       "515637         -0.0  \n",
       "517209         -0.0  \n",
       "519172         -0.0  \n",
       "\n",
       "[473 rows x 7 columns]"
      ]
     },
     "execution_count": 16,
     "metadata": {},
     "output_type": "execute_result"
    }
   ],
   "source": [
    "# Filter the DataFrame to display rows where 'Quantity' is less than 1\n",
    "df[df['Quantity'] < 1]"
   ]
  },
  {
   "cell_type": "markdown",
   "id": "ed5288bd",
   "metadata": {
    "papermill": {
     "duration": 0.020678,
     "end_time": "2023-06-05T14:17:06.467295",
     "exception": false,
     "start_time": "2023-06-05T14:17:06.446617",
     "status": "completed"
    },
    "tags": []
   },
   "source": [
    "Given the observation that negative quantities might be filled with system issues or irrelevant information for our analysis, it is reasonable to proceed with removing these rows from the dataset. By doing so, we can ensure the accuracy and reliability of our data, as well as eliminate potential biases or misleading information stemming from negative quantities."
   ]
  },
  {
   "cell_type": "code",
   "execution_count": 17,
   "id": "751c0772",
   "metadata": {
    "execution": {
     "iopub.execute_input": "2023-06-05T14:17:06.510847Z",
     "iopub.status.busy": "2023-06-05T14:17:06.510423Z",
     "iopub.status.idle": "2023-06-05T14:17:06.548568Z",
     "shell.execute_reply": "2023-06-05T14:17:06.546977Z"
    },
    "papermill": {
     "duration": 0.063766,
     "end_time": "2023-06-05T14:17:06.551915",
     "exception": false,
     "start_time": "2023-06-05T14:17:06.488149",
     "status": "completed"
    },
    "tags": []
   },
   "outputs": [],
   "source": [
    "# Remove rows where 'Quantity' is less than 1\n",
    "df = df[df['Quantity'] >= 1]"
   ]
  },
  {
   "cell_type": "markdown",
   "id": "f9594bb7",
   "metadata": {
    "papermill": {
     "duration": 0.020677,
     "end_time": "2023-06-05T14:17:06.593468",
     "exception": false,
     "start_time": "2023-06-05T14:17:06.572791",
     "status": "completed"
    },
    "tags": []
   },
   "source": [
    "Next, we turn our attention to the presence of missing values in the 'CustomerID' column. By investigating these missing values, we aim to identify any potential issues or data quality concerns associated with them. Analyzing the impact of missing 'CustomerID' values will help us assess the completeness and reliability of the dataset, enabling us to make informed decisions on handling or imputing these missing values. Let's dive deeper into this aspect and gain a comprehensive understanding of any issues related to missing 'CustomerID' values."
   ]
  },
  {
   "cell_type": "code",
   "execution_count": 18,
   "id": "50875636",
   "metadata": {
    "execution": {
     "iopub.execute_input": "2023-06-05T14:17:06.636945Z",
     "iopub.status.busy": "2023-06-05T14:17:06.636451Z",
     "iopub.status.idle": "2023-06-05T14:17:06.675136Z",
     "shell.execute_reply": "2023-06-05T14:17:06.673700Z"
    },
    "papermill": {
     "duration": 0.063537,
     "end_time": "2023-06-05T14:17:06.677833",
     "exception": false,
     "start_time": "2023-06-05T14:17:06.614296",
     "status": "completed"
    },
    "tags": []
   },
   "outputs": [
    {
     "data": {
      "text/html": [
       "<div>\n",
       "<style scoped>\n",
       "    .dataframe tbody tr th:only-of-type {\n",
       "        vertical-align: middle;\n",
       "    }\n",
       "\n",
       "    .dataframe tbody tr th {\n",
       "        vertical-align: top;\n",
       "    }\n",
       "\n",
       "    .dataframe thead th {\n",
       "        text-align: right;\n",
       "    }\n",
       "</style>\n",
       "<table border=\"1\" class=\"dataframe\">\n",
       "  <thead>\n",
       "    <tr style=\"text-align: right;\">\n",
       "      <th></th>\n",
       "      <th>BillNo</th>\n",
       "      <th>Itemname</th>\n",
       "      <th>Quantity</th>\n",
       "      <th>Date</th>\n",
       "      <th>Price</th>\n",
       "      <th>CustomerID</th>\n",
       "      <th>Total_Price</th>\n",
       "    </tr>\n",
       "  </thead>\n",
       "  <tbody>\n",
       "    <tr>\n",
       "      <th>214695</th>\n",
       "      <td>556428</td>\n",
       "      <td>JUMBO BAG PINK VINTAGE PAISLEY</td>\n",
       "      <td>5</td>\n",
       "      <td>2011-10-06 13:23:00</td>\n",
       "      <td>4.13</td>\n",
       "      <td>NaN</td>\n",
       "      <td>20.65</td>\n",
       "    </tr>\n",
       "    <tr>\n",
       "      <th>107468</th>\n",
       "      <td>545714</td>\n",
       "      <td>SET/20 RED RETROSPOT PAPER NAPKINS</td>\n",
       "      <td>2</td>\n",
       "      <td>2011-07-03 10:12:00</td>\n",
       "      <td>2.46</td>\n",
       "      <td>NaN</td>\n",
       "      <td>4.92</td>\n",
       "    </tr>\n",
       "    <tr>\n",
       "      <th>502141</th>\n",
       "      <td>580367</td>\n",
       "      <td>TROPICAL PASSPORT COVER</td>\n",
       "      <td>1</td>\n",
       "      <td>2011-02-12 16:39:00</td>\n",
       "      <td>4.13</td>\n",
       "      <td>NaN</td>\n",
       "      <td>4.13</td>\n",
       "    </tr>\n",
       "    <tr>\n",
       "      <th>483171</th>\n",
       "      <td>578833</td>\n",
       "      <td>NATURAL SLATE HEART CHALKBOARD</td>\n",
       "      <td>2</td>\n",
       "      <td>2011-11-25 15:23:00</td>\n",
       "      <td>5.79</td>\n",
       "      <td>NaN</td>\n",
       "      <td>11.58</td>\n",
       "    </tr>\n",
       "    <tr>\n",
       "      <th>141679</th>\n",
       "      <td>549023</td>\n",
       "      <td>JAM MAKING SET PRINTED</td>\n",
       "      <td>2</td>\n",
       "      <td>2011-05-04 16:27:00</td>\n",
       "      <td>3.29</td>\n",
       "      <td>NaN</td>\n",
       "      <td>6.58</td>\n",
       "    </tr>\n",
       "    <tr>\n",
       "      <th>418976</th>\n",
       "      <td>574076</td>\n",
       "      <td>SPACEBOY CHILDRENS BOWL</td>\n",
       "      <td>1</td>\n",
       "      <td>2011-02-11 15:38:00</td>\n",
       "      <td>2.46</td>\n",
       "      <td>NaN</td>\n",
       "      <td>2.46</td>\n",
       "    </tr>\n",
       "    <tr>\n",
       "      <th>286153</th>\n",
       "      <td>562934</td>\n",
       "      <td>SET/3 RED GINGHAM ROSE STORAGE BOX</td>\n",
       "      <td>1</td>\n",
       "      <td>2011-10-08 16:56:00</td>\n",
       "      <td>7.46</td>\n",
       "      <td>NaN</td>\n",
       "      <td>7.46</td>\n",
       "    </tr>\n",
       "    <tr>\n",
       "      <th>65382</th>\n",
       "      <td>541827</td>\n",
       "      <td>AIRLINE BAG VINTAGE WORLD CHAMPION</td>\n",
       "      <td>2</td>\n",
       "      <td>2011-01-21 17:05:00</td>\n",
       "      <td>4.13</td>\n",
       "      <td>NaN</td>\n",
       "      <td>8.26</td>\n",
       "    </tr>\n",
       "    <tr>\n",
       "      <th>363110</th>\n",
       "      <td>569545</td>\n",
       "      <td>ANGEL DECORATION PAINTED ZINC</td>\n",
       "      <td>5</td>\n",
       "      <td>2011-04-10 16:37:00</td>\n",
       "      <td>0.63</td>\n",
       "      <td>NaN</td>\n",
       "      <td>3.15</td>\n",
       "    </tr>\n",
       "    <tr>\n",
       "      <th>442144</th>\n",
       "      <td>575875</td>\n",
       "      <td>SET OF 3 WOODEN TREE DECORATIONS</td>\n",
       "      <td>2</td>\n",
       "      <td>2011-11-11 13:06:00</td>\n",
       "      <td>2.46</td>\n",
       "      <td>NaN</td>\n",
       "      <td>4.92</td>\n",
       "    </tr>\n",
       "    <tr>\n",
       "      <th>495432</th>\n",
       "      <td>579694</td>\n",
       "      <td>CERAMIC HEART FAIRY CAKE MONEY BANK</td>\n",
       "      <td>4</td>\n",
       "      <td>2011-11-30 14:11:00</td>\n",
       "      <td>4.13</td>\n",
       "      <td>NaN</td>\n",
       "      <td>16.52</td>\n",
       "    </tr>\n",
       "    <tr>\n",
       "      <th>118295</th>\n",
       "      <td>546884</td>\n",
       "      <td>SMALL RED RETROSPOT MUG IN BOX</td>\n",
       "      <td>1</td>\n",
       "      <td>2011-03-17 18:08:00</td>\n",
       "      <td>7.46</td>\n",
       "      <td>NaN</td>\n",
       "      <td>7.46</td>\n",
       "    </tr>\n",
       "    <tr>\n",
       "      <th>15346</th>\n",
       "      <td>537640</td>\n",
       "      <td>FAWN BLUE HOT WATER BOTTLE</td>\n",
       "      <td>33</td>\n",
       "      <td>2010-07-12 15:31:00</td>\n",
       "      <td>6.77</td>\n",
       "      <td>NaN</td>\n",
       "      <td>223.41</td>\n",
       "    </tr>\n",
       "    <tr>\n",
       "      <th>23891</th>\n",
       "      <td>538349</td>\n",
       "      <td>CAKE STAND VICTORIAN FILIGREE SMALL</td>\n",
       "      <td>1</td>\n",
       "      <td>2010-10-12 14:59:00</td>\n",
       "      <td>4.21</td>\n",
       "      <td>NaN</td>\n",
       "      <td>4.21</td>\n",
       "    </tr>\n",
       "    <tr>\n",
       "      <th>414698</th>\n",
       "      <td>573585</td>\n",
       "      <td>BLACK 3 BEAD DROP EARRINGS</td>\n",
       "      <td>1</td>\n",
       "      <td>2011-10-31 14:41:00</td>\n",
       "      <td>2.90</td>\n",
       "      <td>NaN</td>\n",
       "      <td>2.90</td>\n",
       "    </tr>\n",
       "    <tr>\n",
       "      <th>64071</th>\n",
       "      <td>541696</td>\n",
       "      <td>CARROT CHARLIE+LOLA COASTER SET</td>\n",
       "      <td>1</td>\n",
       "      <td>2011-01-20 18:08:00</td>\n",
       "      <td>3.29</td>\n",
       "      <td>NaN</td>\n",
       "      <td>3.29</td>\n",
       "    </tr>\n",
       "    <tr>\n",
       "      <th>483891</th>\n",
       "      <td>578844</td>\n",
       "      <td>CHARLIE+LOLA PINK HOT WATER BOTTLE</td>\n",
       "      <td>2</td>\n",
       "      <td>2011-11-25 16:14:00</td>\n",
       "      <td>3.29</td>\n",
       "      <td>NaN</td>\n",
       "      <td>6.58</td>\n",
       "    </tr>\n",
       "    <tr>\n",
       "      <th>442218</th>\n",
       "      <td>575875</td>\n",
       "      <td>LUNCH BAG RED VINTAGE DOILY</td>\n",
       "      <td>1</td>\n",
       "      <td>2011-11-11 13:06:00</td>\n",
       "      <td>4.13</td>\n",
       "      <td>NaN</td>\n",
       "      <td>4.13</td>\n",
       "    </tr>\n",
       "    <tr>\n",
       "      <th>60605</th>\n",
       "      <td>541497</td>\n",
       "      <td>RED FLORAL FELTCRAFT SHOULDER BAG</td>\n",
       "      <td>1</td>\n",
       "      <td>2011-01-18 15:19:00</td>\n",
       "      <td>7.46</td>\n",
       "      <td>NaN</td>\n",
       "      <td>7.46</td>\n",
       "    </tr>\n",
       "    <tr>\n",
       "      <th>67706</th>\n",
       "      <td>541971</td>\n",
       "      <td>BIRD DECORATION RED RETROSPOT</td>\n",
       "      <td>1</td>\n",
       "      <td>2011-01-24 13:48:00</td>\n",
       "      <td>1.63</td>\n",
       "      <td>NaN</td>\n",
       "      <td>1.63</td>\n",
       "    </tr>\n",
       "    <tr>\n",
       "      <th>37046</th>\n",
       "      <td>539492</td>\n",
       "      <td>CERAMIC LOVE HEART MONEY BANK</td>\n",
       "      <td>1</td>\n",
       "      <td>2010-12-20 10:14:00</td>\n",
       "      <td>3.36</td>\n",
       "      <td>NaN</td>\n",
       "      <td>3.36</td>\n",
       "    </tr>\n",
       "    <tr>\n",
       "      <th>53991</th>\n",
       "      <td>540995</td>\n",
       "      <td>GREEN ROSE WASHBAG</td>\n",
       "      <td>2</td>\n",
       "      <td>2011-01-13 09:30:00</td>\n",
       "      <td>3.29</td>\n",
       "      <td>NaN</td>\n",
       "      <td>6.58</td>\n",
       "    </tr>\n",
       "    <tr>\n",
       "      <th>151970</th>\n",
       "      <td>550208</td>\n",
       "      <td>SEWING SUSAN 21 NEEDLE SET</td>\n",
       "      <td>1</td>\n",
       "      <td>2011-04-15 10:39:00</td>\n",
       "      <td>1.63</td>\n",
       "      <td>NaN</td>\n",
       "      <td>1.63</td>\n",
       "    </tr>\n",
       "    <tr>\n",
       "      <th>95503</th>\n",
       "      <td>544684</td>\n",
       "      <td>SET OF 4 ENGLISH ROSE COASTERS</td>\n",
       "      <td>2</td>\n",
       "      <td>2011-02-22 16:32:00</td>\n",
       "      <td>2.46</td>\n",
       "      <td>NaN</td>\n",
       "      <td>4.92</td>\n",
       "    </tr>\n",
       "    <tr>\n",
       "      <th>418793</th>\n",
       "      <td>574076</td>\n",
       "      <td>FELT EGG COSY CHICKEN</td>\n",
       "      <td>1</td>\n",
       "      <td>2011-02-11 15:38:00</td>\n",
       "      <td>1.63</td>\n",
       "      <td>NaN</td>\n",
       "      <td>1.63</td>\n",
       "    </tr>\n",
       "    <tr>\n",
       "      <th>477333</th>\n",
       "      <td>578344</td>\n",
       "      <td>ASSORTED TUTTI FRUTTI BRACELET</td>\n",
       "      <td>10</td>\n",
       "      <td>2011-11-24 09:21:00</td>\n",
       "      <td>0.83</td>\n",
       "      <td>NaN</td>\n",
       "      <td>8.30</td>\n",
       "    </tr>\n",
       "    <tr>\n",
       "      <th>317687</th>\n",
       "      <td>565917</td>\n",
       "      <td>SET 12 KIDS COLOUR  CHALK STICKS</td>\n",
       "      <td>1</td>\n",
       "      <td>2011-07-09 16:15:00</td>\n",
       "      <td>0.83</td>\n",
       "      <td>NaN</td>\n",
       "      <td>0.83</td>\n",
       "    </tr>\n",
       "    <tr>\n",
       "      <th>520696</th>\n",
       "      <td>581492</td>\n",
       "      <td>FEATHER PEN,LIGHT PINK</td>\n",
       "      <td>1</td>\n",
       "      <td>2011-09-12 10:03:00</td>\n",
       "      <td>0.83</td>\n",
       "      <td>NaN</td>\n",
       "      <td>0.83</td>\n",
       "    </tr>\n",
       "    <tr>\n",
       "      <th>286563</th>\n",
       "      <td>562955</td>\n",
       "      <td>TRAVEL CARD WALLET SUKI</td>\n",
       "      <td>3</td>\n",
       "      <td>2011-11-08 10:14:00</td>\n",
       "      <td>0.83</td>\n",
       "      <td>NaN</td>\n",
       "      <td>2.49</td>\n",
       "    </tr>\n",
       "    <tr>\n",
       "      <th>239479</th>\n",
       "      <td>558837</td>\n",
       "      <td>TOY TIDY PINK POLKADOT</td>\n",
       "      <td>1</td>\n",
       "      <td>2011-04-07 11:58:00</td>\n",
       "      <td>4.96</td>\n",
       "      <td>NaN</td>\n",
       "      <td>4.96</td>\n",
       "    </tr>\n",
       "  </tbody>\n",
       "</table>\n",
       "</div>"
      ],
      "text/plain": [
       "        BillNo                             Itemname  Quantity  \\\n",
       "214695  556428       JUMBO BAG PINK VINTAGE PAISLEY         5   \n",
       "107468  545714   SET/20 RED RETROSPOT PAPER NAPKINS         2   \n",
       "502141  580367              TROPICAL PASSPORT COVER         1   \n",
       "483171  578833       NATURAL SLATE HEART CHALKBOARD         2   \n",
       "141679  549023               JAM MAKING SET PRINTED         2   \n",
       "418976  574076              SPACEBOY CHILDRENS BOWL         1   \n",
       "286153  562934   SET/3 RED GINGHAM ROSE STORAGE BOX         1   \n",
       "65382   541827   AIRLINE BAG VINTAGE WORLD CHAMPION         2   \n",
       "363110  569545        ANGEL DECORATION PAINTED ZINC         5   \n",
       "442144  575875     SET OF 3 WOODEN TREE DECORATIONS         2   \n",
       "495432  579694  CERAMIC HEART FAIRY CAKE MONEY BANK         4   \n",
       "118295  546884       SMALL RED RETROSPOT MUG IN BOX         1   \n",
       "15346   537640           FAWN BLUE HOT WATER BOTTLE        33   \n",
       "23891   538349  CAKE STAND VICTORIAN FILIGREE SMALL         1   \n",
       "414698  573585           BLACK 3 BEAD DROP EARRINGS         1   \n",
       "64071   541696      CARROT CHARLIE+LOLA COASTER SET         1   \n",
       "483891  578844   CHARLIE+LOLA PINK HOT WATER BOTTLE         2   \n",
       "442218  575875          LUNCH BAG RED VINTAGE DOILY         1   \n",
       "60605   541497    RED FLORAL FELTCRAFT SHOULDER BAG         1   \n",
       "67706   541971        BIRD DECORATION RED RETROSPOT         1   \n",
       "37046   539492        CERAMIC LOVE HEART MONEY BANK         1   \n",
       "53991   540995                   GREEN ROSE WASHBAG         2   \n",
       "151970  550208           SEWING SUSAN 21 NEEDLE SET         1   \n",
       "95503   544684       SET OF 4 ENGLISH ROSE COASTERS         2   \n",
       "418793  574076                FELT EGG COSY CHICKEN         1   \n",
       "477333  578344       ASSORTED TUTTI FRUTTI BRACELET        10   \n",
       "317687  565917     SET 12 KIDS COLOUR  CHALK STICKS         1   \n",
       "520696  581492               FEATHER PEN,LIGHT PINK         1   \n",
       "286563  562955              TRAVEL CARD WALLET SUKI         3   \n",
       "239479  558837               TOY TIDY PINK POLKADOT         1   \n",
       "\n",
       "                      Date  Price  CustomerID  Total_Price  \n",
       "214695 2011-10-06 13:23:00   4.13         NaN        20.65  \n",
       "107468 2011-07-03 10:12:00   2.46         NaN         4.92  \n",
       "502141 2011-02-12 16:39:00   4.13         NaN         4.13  \n",
       "483171 2011-11-25 15:23:00   5.79         NaN        11.58  \n",
       "141679 2011-05-04 16:27:00   3.29         NaN         6.58  \n",
       "418976 2011-02-11 15:38:00   2.46         NaN         2.46  \n",
       "286153 2011-10-08 16:56:00   7.46         NaN         7.46  \n",
       "65382  2011-01-21 17:05:00   4.13         NaN         8.26  \n",
       "363110 2011-04-10 16:37:00   0.63         NaN         3.15  \n",
       "442144 2011-11-11 13:06:00   2.46         NaN         4.92  \n",
       "495432 2011-11-30 14:11:00   4.13         NaN        16.52  \n",
       "118295 2011-03-17 18:08:00   7.46         NaN         7.46  \n",
       "15346  2010-07-12 15:31:00   6.77         NaN       223.41  \n",
       "23891  2010-10-12 14:59:00   4.21         NaN         4.21  \n",
       "414698 2011-10-31 14:41:00   2.90         NaN         2.90  \n",
       "64071  2011-01-20 18:08:00   3.29         NaN         3.29  \n",
       "483891 2011-11-25 16:14:00   3.29         NaN         6.58  \n",
       "442218 2011-11-11 13:06:00   4.13         NaN         4.13  \n",
       "60605  2011-01-18 15:19:00   7.46         NaN         7.46  \n",
       "67706  2011-01-24 13:48:00   1.63         NaN         1.63  \n",
       "37046  2010-12-20 10:14:00   3.36         NaN         3.36  \n",
       "53991  2011-01-13 09:30:00   3.29         NaN         6.58  \n",
       "151970 2011-04-15 10:39:00   1.63         NaN         1.63  \n",
       "95503  2011-02-22 16:32:00   2.46         NaN         4.92  \n",
       "418793 2011-02-11 15:38:00   1.63         NaN         1.63  \n",
       "477333 2011-11-24 09:21:00   0.83         NaN         8.30  \n",
       "317687 2011-07-09 16:15:00   0.83         NaN         0.83  \n",
       "520696 2011-09-12 10:03:00   0.83         NaN         0.83  \n",
       "286563 2011-11-08 10:14:00   0.83         NaN         2.49  \n",
       "239479 2011-04-07 11:58:00   4.96         NaN         4.96  "
      ]
     },
     "execution_count": 18,
     "metadata": {},
     "output_type": "execute_result"
    }
   ],
   "source": [
    "# Select a random sample of 30 rows where 'CustomerID' is missing\n",
    "df[df['CustomerID'].isna()].sample(30)"
   ]
  },
  {
   "cell_type": "markdown",
   "id": "88250c98",
   "metadata": {
    "papermill": {
     "duration": 0.021429,
     "end_time": "2023-06-05T14:17:06.721132",
     "exception": false,
     "start_time": "2023-06-05T14:17:06.699703",
     "status": "completed"
    },
    "tags": []
   },
   "source": [
    "This sample can provide us with a glimpse into the specific instances where 'CustomerID' is missing, aiding us in further analysis or decision-making related to handling these missing values."
   ]
  },
  {
   "cell_type": "markdown",
   "id": "e5188cee",
   "metadata": {
    "papermill": {
     "duration": 0.021079,
     "end_time": "2023-06-05T14:17:06.763758",
     "exception": false,
     "start_time": "2023-06-05T14:17:06.742679",
     "status": "completed"
    },
    "tags": []
   },
   "source": [
    "Upon analyzing a sample of rows where the 'CustomerID' is missing, it appears that there is no discernible pattern or specific reason behind the absence of these values. This observation suggests that the missing 'CustomerID' entries were not filled accidentally or due to a systematic issue. Instead, it is possible that these missing values occur naturally in the dataset, without any particular significance or underlying cause."
   ]
  },
  {
   "cell_type": "markdown",
   "id": "954c2256",
   "metadata": {
    "papermill": {
     "duration": 0.021176,
     "end_time": "2023-06-05T14:17:06.806354",
     "exception": false,
     "start_time": "2023-06-05T14:17:06.785178",
     "status": "completed"
    },
    "tags": []
   },
   "source": [
    "#### Identifying Issues in the Price Column: Ensuring Data Quality\n",
    "In our analysis, we shift our focus to the 'Price' column and investigate it for any potential issues or anomalies. By thoroughly examining the data within this column, we aim to identify any irregularities, inconsistencies, or outliers that may affect the overall quality and integrity of the dataset. Analyzing the 'Price' column is crucial in ensuring accurate and reliable pricing information for our analysis. Let's dive deeper into the 'Price' column and uncover any issues that may require attention."
   ]
  },
  {
   "cell_type": "code",
   "execution_count": 19,
   "id": "b6cdb81e",
   "metadata": {
    "execution": {
     "iopub.execute_input": "2023-06-05T14:17:06.852001Z",
     "iopub.status.busy": "2023-06-05T14:17:06.851548Z",
     "iopub.status.idle": "2023-06-05T14:17:06.862446Z",
     "shell.execute_reply": "2023-06-05T14:17:06.861064Z"
    },
    "papermill": {
     "duration": 0.03689,
     "end_time": "2023-06-05T14:17:06.865306",
     "exception": false,
     "start_time": "2023-06-05T14:17:06.828416",
     "status": "completed"
    },
    "tags": []
   },
   "outputs": [
    {
     "name": "stdout",
     "output_type": "stream",
     "text": [
      "Number of rows where price is zero: 583\n",
      "Number of rows where price is negative: 0\n"
     ]
    }
   ],
   "source": [
    "# Counting the number of rows where the price is zero\n",
    "zero_price_count = len(df[df['Price'] == 0])\n",
    "print(\"Number of rows where price is zero:\", zero_price_count)\n",
    "\n",
    "# Counting the number of rows where the price is negative\n",
    "negative_price_count = len(df[df['Price'] < 0])\n",
    "print(\"Number of rows where price is negative:\", negative_price_count)"
   ]
  },
  {
   "cell_type": "markdown",
   "id": "881419d9",
   "metadata": {
    "papermill": {
     "duration": 0.021478,
     "end_time": "2023-06-05T14:17:06.908694",
     "exception": false,
     "start_time": "2023-06-05T14:17:06.887216",
     "status": "completed"
    },
    "tags": []
   },
   "source": [
    "our attention now turns to the presence of zero charges in the 'Price' column. It is important to explore instances where products were offered free of cost, as this information can provide valuable insights into promotional activities, giveaways, or other unique aspects of the dataset. By examining the data related to zero charges in the 'Price' column, we can gain a deeper understanding of these transactions and their potential impact on our analysis. Let's delve into the details of these zero-priced transactions and uncover any significant findings."
   ]
  },
  {
   "cell_type": "code",
   "execution_count": 20,
   "id": "97eef98a",
   "metadata": {
    "execution": {
     "iopub.execute_input": "2023-06-05T14:17:06.954437Z",
     "iopub.status.busy": "2023-06-05T14:17:06.953992Z",
     "iopub.status.idle": "2023-06-05T14:17:06.978611Z",
     "shell.execute_reply": "2023-06-05T14:17:06.977277Z"
    },
    "papermill": {
     "duration": 0.051496,
     "end_time": "2023-06-05T14:17:06.982096",
     "exception": false,
     "start_time": "2023-06-05T14:17:06.930600",
     "status": "completed"
    },
    "tags": []
   },
   "outputs": [
    {
     "data": {
      "text/html": [
       "<div>\n",
       "<style scoped>\n",
       "    .dataframe tbody tr th:only-of-type {\n",
       "        vertical-align: middle;\n",
       "    }\n",
       "\n",
       "    .dataframe tbody tr th {\n",
       "        vertical-align: top;\n",
       "    }\n",
       "\n",
       "    .dataframe thead th {\n",
       "        text-align: right;\n",
       "    }\n",
       "</style>\n",
       "<table border=\"1\" class=\"dataframe\">\n",
       "  <thead>\n",
       "    <tr style=\"text-align: right;\">\n",
       "      <th></th>\n",
       "      <th>BillNo</th>\n",
       "      <th>Itemname</th>\n",
       "      <th>Quantity</th>\n",
       "      <th>Date</th>\n",
       "      <th>Price</th>\n",
       "      <th>CustomerID</th>\n",
       "      <th>Total_Price</th>\n",
       "    </tr>\n",
       "  </thead>\n",
       "  <tbody>\n",
       "    <tr>\n",
       "      <th>407408</th>\n",
       "      <td>573169</td>\n",
       "      <td>Found by jackie</td>\n",
       "      <td>1</td>\n",
       "      <td>2011-10-28 09:56:00</td>\n",
       "      <td>0.0</td>\n",
       "      <td>NaN</td>\n",
       "      <td>0.0</td>\n",
       "    </tr>\n",
       "    <tr>\n",
       "      <th>51894</th>\n",
       "      <td>540832</td>\n",
       "      <td>RED RETROSPOT CHARLOTTE BAG</td>\n",
       "      <td>1</td>\n",
       "      <td>2011-11-01 14:42:00</td>\n",
       "      <td>0.0</td>\n",
       "      <td>NaN</td>\n",
       "      <td>0.0</td>\n",
       "    </tr>\n",
       "    <tr>\n",
       "      <th>101152</th>\n",
       "      <td>545176</td>\n",
       "      <td>RECIPE BOX BLUE SKETCHBOOK DESIGN</td>\n",
       "      <td>1</td>\n",
       "      <td>2011-02-28 14:19:00</td>\n",
       "      <td>0.0</td>\n",
       "      <td>NaN</td>\n",
       "      <td>0.0</td>\n",
       "    </tr>\n",
       "    <tr>\n",
       "      <th>416909</th>\n",
       "      <td>573991</td>\n",
       "      <td>check</td>\n",
       "      <td>36</td>\n",
       "      <td>2011-02-11 11:19:00</td>\n",
       "      <td>0.0</td>\n",
       "      <td>NaN</td>\n",
       "      <td>0.0</td>\n",
       "    </tr>\n",
       "    <tr>\n",
       "      <th>186886</th>\n",
       "      <td>553539</td>\n",
       "      <td>CERAMIC STRAWBERRY CAKE MONEY BANK</td>\n",
       "      <td>1</td>\n",
       "      <td>2011-05-17 15:27:00</td>\n",
       "      <td>0.0</td>\n",
       "      <td>NaN</td>\n",
       "      <td>0.0</td>\n",
       "    </tr>\n",
       "    <tr>\n",
       "      <th>233712</th>\n",
       "      <td>558340</td>\n",
       "      <td>RECIPE BOX PANTRY YELLOW DESIGN</td>\n",
       "      <td>1</td>\n",
       "      <td>2011-06-28 14:01:00</td>\n",
       "      <td>0.0</td>\n",
       "      <td>NaN</td>\n",
       "      <td>0.0</td>\n",
       "    </tr>\n",
       "    <tr>\n",
       "      <th>14051</th>\n",
       "      <td>537534</td>\n",
       "      <td>RED KITCHEN SCALES</td>\n",
       "      <td>1</td>\n",
       "      <td>2010-07-12 11:48:00</td>\n",
       "      <td>0.0</td>\n",
       "      <td>NaN</td>\n",
       "      <td>0.0</td>\n",
       "    </tr>\n",
       "    <tr>\n",
       "      <th>233684</th>\n",
       "      <td>558340</td>\n",
       "      <td>CHILDS GARDEN SPADE BLUE</td>\n",
       "      <td>1</td>\n",
       "      <td>2011-06-28 14:01:00</td>\n",
       "      <td>0.0</td>\n",
       "      <td>NaN</td>\n",
       "      <td>0.0</td>\n",
       "    </tr>\n",
       "    <tr>\n",
       "      <th>39894</th>\n",
       "      <td>539750</td>\n",
       "      <td>FAWN BLUE HOT WATER BOTTLE</td>\n",
       "      <td>1</td>\n",
       "      <td>2010-12-21 15:40:00</td>\n",
       "      <td>0.0</td>\n",
       "      <td>NaN</td>\n",
       "      <td>0.0</td>\n",
       "    </tr>\n",
       "    <tr>\n",
       "      <th>119506</th>\n",
       "      <td>546933</td>\n",
       "      <td>CERAMIC STRAWBERRY MONEY BOX</td>\n",
       "      <td>2</td>\n",
       "      <td>2011-03-18 11:02:00</td>\n",
       "      <td>0.0</td>\n",
       "      <td>NaN</td>\n",
       "      <td>0.0</td>\n",
       "    </tr>\n",
       "    <tr>\n",
       "      <th>461978</th>\n",
       "      <td>577263</td>\n",
       "      <td>found</td>\n",
       "      <td>66</td>\n",
       "      <td>2011-11-18 12:31:00</td>\n",
       "      <td>0.0</td>\n",
       "      <td>NaN</td>\n",
       "      <td>0.0</td>\n",
       "    </tr>\n",
       "    <tr>\n",
       "      <th>237811</th>\n",
       "      <td>558725</td>\n",
       "      <td>found</td>\n",
       "      <td>37</td>\n",
       "      <td>2011-01-07 14:31:00</td>\n",
       "      <td>0.0</td>\n",
       "      <td>NaN</td>\n",
       "      <td>0.0</td>\n",
       "    </tr>\n",
       "    <tr>\n",
       "      <th>14052</th>\n",
       "      <td>537534</td>\n",
       "      <td>IVORY KITCHEN SCALES</td>\n",
       "      <td>3</td>\n",
       "      <td>2010-07-12 11:48:00</td>\n",
       "      <td>0.0</td>\n",
       "      <td>NaN</td>\n",
       "      <td>0.0</td>\n",
       "    </tr>\n",
       "    <tr>\n",
       "      <th>518770</th>\n",
       "      <td>581406</td>\n",
       "      <td>POLYESTER FILLER PAD 45x45cm</td>\n",
       "      <td>240</td>\n",
       "      <td>2011-08-12 13:58:00</td>\n",
       "      <td>0.0</td>\n",
       "      <td>NaN</td>\n",
       "      <td>0.0</td>\n",
       "    </tr>\n",
       "    <tr>\n",
       "      <th>186876</th>\n",
       "      <td>553539</td>\n",
       "      <td>BISCUIT TIN VINTAGE GREEN</td>\n",
       "      <td>1</td>\n",
       "      <td>2011-05-17 15:27:00</td>\n",
       "      <td>0.0</td>\n",
       "      <td>NaN</td>\n",
       "      <td>0.0</td>\n",
       "    </tr>\n",
       "    <tr>\n",
       "      <th>101144</th>\n",
       "      <td>545176</td>\n",
       "      <td>DOORMAT MERRY CHRISTMAS RED</td>\n",
       "      <td>3</td>\n",
       "      <td>2011-02-28 14:19:00</td>\n",
       "      <td>0.0</td>\n",
       "      <td>NaN</td>\n",
       "      <td>0.0</td>\n",
       "    </tr>\n",
       "    <tr>\n",
       "      <th>14068</th>\n",
       "      <td>537534</td>\n",
       "      <td>AIRLINE BAG VINTAGE JET SET WHITE</td>\n",
       "      <td>1</td>\n",
       "      <td>2010-07-12 11:48:00</td>\n",
       "      <td>0.0</td>\n",
       "      <td>NaN</td>\n",
       "      <td>0.0</td>\n",
       "    </tr>\n",
       "    <tr>\n",
       "      <th>301840</th>\n",
       "      <td>564530</td>\n",
       "      <td>FRENCH BLUE METAL DOOR SIGN 8</td>\n",
       "      <td>3</td>\n",
       "      <td>2011-08-25 14:57:00</td>\n",
       "      <td>0.0</td>\n",
       "      <td>NaN</td>\n",
       "      <td>0.0</td>\n",
       "    </tr>\n",
       "    <tr>\n",
       "      <th>101148</th>\n",
       "      <td>545176</td>\n",
       "      <td>FRENCH BLUE METAL DOOR SIGN 6</td>\n",
       "      <td>3</td>\n",
       "      <td>2011-02-28 14:19:00</td>\n",
       "      <td>0.0</td>\n",
       "      <td>NaN</td>\n",
       "      <td>0.0</td>\n",
       "    </tr>\n",
       "    <tr>\n",
       "      <th>40295</th>\n",
       "      <td>539856</td>\n",
       "      <td>RED RETROSPOT TEA CUP AND SAUCER</td>\n",
       "      <td>1</td>\n",
       "      <td>2010-12-22 14:41:00</td>\n",
       "      <td>0.0</td>\n",
       "      <td>NaN</td>\n",
       "      <td>0.0</td>\n",
       "    </tr>\n",
       "  </tbody>\n",
       "</table>\n",
       "</div>"
      ],
      "text/plain": [
       "        BillNo                            Itemname  Quantity  \\\n",
       "407408  573169                     Found by jackie         1   \n",
       "51894   540832         RED RETROSPOT CHARLOTTE BAG         1   \n",
       "101152  545176   RECIPE BOX BLUE SKETCHBOOK DESIGN         1   \n",
       "416909  573991                               check        36   \n",
       "186886  553539  CERAMIC STRAWBERRY CAKE MONEY BANK         1   \n",
       "233712  558340     RECIPE BOX PANTRY YELLOW DESIGN         1   \n",
       "14051   537534                  RED KITCHEN SCALES         1   \n",
       "233684  558340            CHILDS GARDEN SPADE BLUE         1   \n",
       "39894   539750          FAWN BLUE HOT WATER BOTTLE         1   \n",
       "119506  546933        CERAMIC STRAWBERRY MONEY BOX         2   \n",
       "461978  577263                               found        66   \n",
       "237811  558725                               found        37   \n",
       "14052   537534                IVORY KITCHEN SCALES         3   \n",
       "518770  581406        POLYESTER FILLER PAD 45x45cm       240   \n",
       "186876  553539           BISCUIT TIN VINTAGE GREEN         1   \n",
       "101144  545176         DOORMAT MERRY CHRISTMAS RED         3   \n",
       "14068   537534   AIRLINE BAG VINTAGE JET SET WHITE         1   \n",
       "301840  564530       FRENCH BLUE METAL DOOR SIGN 8         3   \n",
       "101148  545176       FRENCH BLUE METAL DOOR SIGN 6         3   \n",
       "40295   539856    RED RETROSPOT TEA CUP AND SAUCER         1   \n",
       "\n",
       "                      Date  Price  CustomerID  Total_Price  \n",
       "407408 2011-10-28 09:56:00    0.0         NaN          0.0  \n",
       "51894  2011-11-01 14:42:00    0.0         NaN          0.0  \n",
       "101152 2011-02-28 14:19:00    0.0         NaN          0.0  \n",
       "416909 2011-02-11 11:19:00    0.0         NaN          0.0  \n",
       "186886 2011-05-17 15:27:00    0.0         NaN          0.0  \n",
       "233712 2011-06-28 14:01:00    0.0         NaN          0.0  \n",
       "14051  2010-07-12 11:48:00    0.0         NaN          0.0  \n",
       "233684 2011-06-28 14:01:00    0.0         NaN          0.0  \n",
       "39894  2010-12-21 15:40:00    0.0         NaN          0.0  \n",
       "119506 2011-03-18 11:02:00    0.0         NaN          0.0  \n",
       "461978 2011-11-18 12:31:00    0.0         NaN          0.0  \n",
       "237811 2011-01-07 14:31:00    0.0         NaN          0.0  \n",
       "14052  2010-07-12 11:48:00    0.0         NaN          0.0  \n",
       "518770 2011-08-12 13:58:00    0.0         NaN          0.0  \n",
       "186876 2011-05-17 15:27:00    0.0         NaN          0.0  \n",
       "101144 2011-02-28 14:19:00    0.0         NaN          0.0  \n",
       "14068  2010-07-12 11:48:00    0.0         NaN          0.0  \n",
       "301840 2011-08-25 14:57:00    0.0         NaN          0.0  \n",
       "101148 2011-02-28 14:19:00    0.0         NaN          0.0  \n",
       "40295  2010-12-22 14:41:00    0.0         NaN          0.0  "
      ]
     },
     "execution_count": 20,
     "metadata": {},
     "output_type": "execute_result"
    }
   ],
   "source": [
    "# Selecting a random sample of 20 rows where the price is zero\n",
    "df[df['Price'] == 0].sample(20)"
   ]
  },
  {
   "cell_type": "markdown",
   "id": "be9389ca",
   "metadata": {
    "papermill": {
     "duration": 0.02196,
     "end_time": "2023-06-05T14:17:07.027838",
     "exception": false,
     "start_time": "2023-06-05T14:17:07.005878",
     "status": "completed"
    },
    "tags": []
   },
   "source": [
    "#### Removing Rows with Zero Price: Eliminating Misleading Data Entries\n",
    "\n",
    "Upon reviewing the sample of rows where the price is zero, we have identified that these entries might provide misleading or inaccurate information for our analysis. Therefore, it is prudent to proceed with removing these rows from the dataset to ensure the integrity and reliability of our analysis."
   ]
  },
  {
   "cell_type": "code",
   "execution_count": 21,
   "id": "bf5f509b",
   "metadata": {
    "execution": {
     "iopub.execute_input": "2023-06-05T14:17:07.074288Z",
     "iopub.status.busy": "2023-06-05T14:17:07.073874Z",
     "iopub.status.idle": "2023-06-05T14:17:07.109112Z",
     "shell.execute_reply": "2023-06-05T14:17:07.107938Z"
    },
    "papermill": {
     "duration": 0.061743,
     "end_time": "2023-06-05T14:17:07.111886",
     "exception": false,
     "start_time": "2023-06-05T14:17:07.050143",
     "status": "completed"
    },
    "tags": []
   },
   "outputs": [],
   "source": [
    "# Remove rows where the price is zero\n",
    "df = df[df['Price'] != 0]"
   ]
  },
  {
   "cell_type": "markdown",
   "id": "3a4ae36f",
   "metadata": {
    "papermill": {
     "duration": 0.022016,
     "end_time": "2023-06-05T14:17:07.156776",
     "exception": false,
     "start_time": "2023-06-05T14:17:07.134760",
     "status": "completed"
    },
    "tags": []
   },
   "source": [
    "# Data Understanding: Exploring and Interpreting the Dataset"
   ]
  },
  {
   "cell_type": "markdown",
   "id": "976632e1",
   "metadata": {
    "papermill": {
     "duration": 0.021869,
     "end_time": "2023-06-05T14:17:07.200784",
     "exception": false,
     "start_time": "2023-06-05T14:17:07.178915",
     "status": "completed"
    },
    "tags": []
   },
   "source": [
    "In the data analysis process, data understanding plays a crucial role in gaining insights and formulating meaningful conclusions. By thoroughly examining the dataset, we aim to understand its structure, contents, and underlying patterns. This understanding empowers us to make informed decisions regarding data cleaning, feature engineering, and subsequent analysis steps.\n",
    "\n",
    "Key aspects of data understanding include:\n",
    "\n",
    "    Exploring the Dataset: We investigate the dataset's dimensions, such as the number of rows and columns, to gauge its size and complexity. Additionally, we examine the data types of each column to understand the nature of the variables.\n",
    "\n",
    "    Assessing Data Quality: We scrutinize the data for inconsistencies, outliers, or other data quality issues that may require attention. Addressing these issues ensures the reliability and accuracy of the data.\n",
    "\n",
    "    Identifying Relationships: We analyze the relationships between variables by examining correlations, associations, or dependencies. This analysis allows us to uncover meaningful connections that can drive insights and guide our analysis.\n",
    "\n",
    "    Detecting Patterns and Trends: We look for recurring patterns, trends, or distributions within the data. This step can reveal valuable information about customer behavior, market dynamics, or other relevant factors.\n",
    "\n",
    "By thoroughly understanding the dataset, we lay the foundation for meaningful data analysis and generate insights that contribute to informed decision-making and problem-solving."
   ]
  },
  {
   "cell_type": "code",
   "execution_count": 22,
   "id": "fe5b6774",
   "metadata": {
    "execution": {
     "iopub.execute_input": "2023-06-05T14:17:07.247017Z",
     "iopub.status.busy": "2023-06-05T14:17:07.246600Z",
     "iopub.status.idle": "2023-06-05T14:17:07.994308Z",
     "shell.execute_reply": "2023-06-05T14:17:07.993099Z"
    },
    "papermill": {
     "duration": 0.774023,
     "end_time": "2023-06-05T14:17:07.997117",
     "exception": false,
     "start_time": "2023-06-05T14:17:07.223094",
     "status": "completed"
    },
    "tags": []
   },
   "outputs": [
    {
     "data": {
      "text/plain": [
       "Text(0.5, 0, 'Date (Month)')"
      ]
     },
     "execution_count": 22,
     "metadata": {},
     "output_type": "execute_result"
    },
    {
     "data": {
      "image/png": "[encoded data removed]",
      "text/plain": [
       "<Figure size 640x480 with 1 Axes>"
      ]
     },
     "metadata": {},
     "output_type": "display_data"
    }
   ],
   "source": [
    "# Grouping the data by month and summing the total price for the year 2010\n",
    "df[df[\"Date\"].dt.year == 2010].groupby(df[\"Date\"].dt.month)[\"Total_Price\"].sum().plot()\n",
    "\n",
    "# Grouping the data by month and summing the total price for the year 2011\n",
    "df[df[\"Date\"].dt.year == 2011].groupby(df[\"Date\"].dt.month)[\"Total_Price\"].sum().plot()\n",
    "\n",
    "# Adding legend and plot labels\n",
    "plt.legend([\"2010\", \"2011\"])\n",
    "plt.title(\"Income over time\")\n",
    "plt.ylabel('Total Income (Million)')\n",
    "plt.xlabel(\"Date (Month)\")"
   ]
  },
  {
   "cell_type": "markdown",
   "id": "d2437f8d",
   "metadata": {
    "papermill": {
     "duration": 0.022857,
     "end_time": "2023-06-05T14:17:08.043496",
     "exception": false,
     "start_time": "2023-06-05T14:17:08.020639",
     "status": "completed"
    },
    "tags": []
   },
   "source": [
    "The code snippet above creates a line plot to visualize the income over time for the years 2010 and 2011. First, the data is filtered based on the year using the dt.year attribute of the 'Date' column. The data is then grouped by month, and the 'Total_Price' column is summed. Two line plots are created, one for each year, showing the monthly total income. The legend is added to indicate the respective years, and the plot is labeled with a title, y-axis label, and x-axis label. This visualization allows us to observe the trend and compare the income between the two years."
   ]
  },
  {
   "cell_type": "markdown",
   "id": "6e9399ab",
   "metadata": {
    "papermill": {
     "duration": 0.026098,
     "end_time": "2023-06-05T14:17:08.092738",
     "exception": false,
     "start_time": "2023-06-05T14:17:08.066640",
     "status": "completed"
    },
    "tags": []
   },
   "source": [
    "Upon observing the line plot of income over time for the years 2010 and 2011, it becomes apparent that the sales remained relatively stable and consistent until October 2010. This suggests that the business was growing steadily during this period, as the sales continued to increase.\n",
    "\n",
    "However, a significant drop in sales is observed in the last month of the dataset. This sudden decline indicates a notable deviation from the previously observed growth trend. Exploring the potential factors contributing to this drop becomes crucial in understanding the underlying reasons for the decline in sales during that specific period."
   ]
  },
  {
   "cell_type": "markdown",
   "id": "27ff93bf",
   "metadata": {
    "papermill": {
     "duration": 0.024424,
     "end_time": "2023-06-05T14:17:08.145375",
     "exception": false,
     "start_time": "2023-06-05T14:17:08.120951",
     "status": "completed"
    },
    "tags": []
   },
   "source": [
    "To verify if the data is complete for the entire last month in the dataset, we can compare the maximum date in the 'Date' column with the last day of that month. If they match, it indicates that the data is filled for the entire last month."
   ]
  },
  {
   "cell_type": "code",
   "execution_count": 23,
   "id": "49709bea",
   "metadata": {
    "execution": {
     "iopub.execute_input": "2023-06-05T14:17:08.195380Z",
     "iopub.status.busy": "2023-06-05T14:17:08.194471Z",
     "iopub.status.idle": "2023-06-05T14:17:08.205099Z",
     "shell.execute_reply": "2023-06-05T14:17:08.203725Z"
    },
    "papermill": {
     "duration": 0.039167,
     "end_time": "2023-06-05T14:17:08.207830",
     "exception": false,
     "start_time": "2023-06-05T14:17:08.168663",
     "status": "completed"
    },
    "tags": []
   },
   "outputs": [
    {
     "data": {
      "text/plain": [
       "Timestamp('2011-12-10 17:19:00')"
      ]
     },
     "execution_count": 23,
     "metadata": {},
     "output_type": "execute_result"
    }
   ],
   "source": [
    "df[\"Date\"].max()"
   ]
  },
  {
   "cell_type": "markdown",
   "id": "5d22af5f",
   "metadata": {
    "papermill": {
     "duration": 0.024945,
     "end_time": "2023-06-05T14:17:08.259240",
     "exception": false,
     "start_time": "2023-06-05T14:17:08.234295",
     "status": "completed"
    },
    "tags": []
   },
   "source": [
    "Based on the finding that the data is only available for 10 days in the last month, it becomes evident that the significant drop in sales observed during that period is likely due to the limited data rather than an actual decline in sales. The incomplete data for the last month may not provide a comprehensive representation of the sales performance during that period.\n",
    "\n",
    "To gain a more accurate understanding of the sales trend, it is advisable to consider a broader time frame with complete data. Analyzing a more extended period that encompasses multiple months or years would provide a more reliable assessment of the sales performance and allow for more meaningful insights and conclusions."
   ]
  },
  {
   "cell_type": "code",
   "execution_count": 24,
   "id": "7d9320ea",
   "metadata": {
    "execution": {
     "iopub.execute_input": "2023-06-05T14:17:08.309994Z",
     "iopub.status.busy": "2023-06-05T14:17:08.309006Z",
     "iopub.status.idle": "2023-06-05T14:17:09.108014Z",
     "shell.execute_reply": "2023-06-05T14:17:09.106742Z"
    },
    "papermill": {
     "duration": 0.828132,
     "end_time": "2023-06-05T14:17:09.110717",
     "exception": false,
     "start_time": "2023-06-05T14:17:08.282585",
     "status": "completed"
    },
    "tags": []
   },
   "outputs": [
    {
     "data": {
      "image/png": "[encoded data removed]",
      "text/plain": [
       "<Figure size 640x480 with 1 Axes>"
      ]
     },
     "metadata": {},
     "output_type": "display_data"
    },
    {
     "data": {
      "image/png": "[encoded data removed]",
      "text/plain": [
       "<Figure size 640x480 with 1 Axes>"
      ]
     },
     "metadata": {},
     "output_type": "display_data"
    }
   ],
   "source": [
    "# Plotting the top 10 most sold products by quantity\n",
    "df.groupby('Itemname')['Quantity'].sum().sort_values(ascending=False)[:10].plot(kind='barh', title='Number of Quantity Sold')\n",
    "plt.ylabel('Item Name')\n",
    "plt.xlim(20000, 82000)\n",
    "plt.show()\n",
    "\n",
    "# Plotting the top 10 most sold products by count\n",
    "df['Itemname'].value_counts(ascending=False)[:10].plot(kind='barh', title='Number of Sales')\n",
    "plt.ylabel('Item Name')\n",
    "plt.xlim(1000, 2300)\n",
    "plt.show()"
   ]
  },
  {
   "cell_type": "markdown",
   "id": "99730961",
   "metadata": {
    "papermill": {
     "duration": 0.024627,
     "end_time": "2023-06-05T14:17:09.160942",
     "exception": false,
     "start_time": "2023-06-05T14:17:09.136315",
     "status": "completed"
    },
    "tags": []
   },
   "source": [
    "The code snippet above creates two horizontal bar plots to visualize the most sold products based on quantity and count, respectively.\n",
    "\n",
    "In the first plot, the top 10 items are determined by summing the 'Quantity' column for each unique 'Itemname' and sorting them in descending order. The plot displays the number of quantities sold for each item.\n",
    "\n",
    "The second plot showcases the top 10 items based on the count of sales for each unique 'Itemname'. The value_counts function counts the occurrences of each item and sorts them in descending order. The plot represents the number of times each item has been sold."
   ]
  },
  {
   "cell_type": "markdown",
   "id": "ae3e4fb6",
   "metadata": {
    "papermill": {
     "duration": 0.024738,
     "end_time": "2023-06-05T14:17:09.210533",
     "exception": false,
     "start_time": "2023-06-05T14:17:09.185795",
     "status": "completed"
    },
    "tags": []
   },
   "source": [
    "Observing the plots, we can infer that there are products that are sold more frequently (higher count) compared to others, despite having relatively lower quantities sold per transaction. This indicates the presence of items that are commonly purchased in larger quantities at once. These products might include items that are frequently bought in bulk or items that are typically sold in larger packages or quantities.\n",
    "\n",
    "This insight highlights the importance of considering both the quantity sold and the count of sales when analyzing the popularity and demand for different products. It suggests that some items may have a higher turnover rate due to frequent purchases, while others may have a higher quantity per sale, leading to different sales patterns and customer behaviors. Understanding these dynamics can be valuable for inventory management, pricing strategies, and identifying customer preferences."
   ]
  },
  {
   "cell_type": "markdown",
   "id": "edc3b92c",
   "metadata": {
    "papermill": {
     "duration": 0.024541,
     "end_time": "2023-06-05T14:17:09.259988",
     "exception": false,
     "start_time": "2023-06-05T14:17:09.235447",
     "status": "completed"
    },
    "tags": []
   },
   "source": [
    "# Association Rules"
   ]
  },
  {
   "cell_type": "markdown",
   "id": "d91b323c",
   "metadata": {
    "papermill": {
     "duration": 0.024603,
     "end_time": "2023-06-05T14:17:09.309325",
     "exception": false,
     "start_time": "2023-06-05T14:17:09.284722",
     "status": "completed"
    },
    "tags": []
   },
   "source": [
    "Association rules are generated using the Apriori algorithm, which is a popular algorithm for discovering interesting relationships or associations among items in a dataset. Association rule mining is commonly used in market basket analysis, where the goal is to find associations between items frequently purchased together.\n",
    "\n",
    "The generated association rules provide insights into the relationships between different items or itemsets in the dataset. Each association rule consists of two parts: the antecedent (or left-hand side) and the consequent (or right-hand side). The antecedent represents the item(s) or itemset(s) that act as a condition or premise, while the consequent represents the item(s) or itemset(s) that are predicted or inferred from the antecedent.\n",
    "\n",
    "The association rules are evaluated based on different metrics, such as support, confidence, lift, leverage, and conviction. These metrics provide measures of the interestingness or strength of the rules. \n",
    "\n",
    "- Support measures the proportion of transactions in the dataset that contain both the antecedent and the consequent.\n",
    "- Confidence measures the conditional probability of the consequent given the antecedent.\n",
    "- Lift measures the ratio of observed support to expected support, indicating the strength of the association between the antecedent and the consequent.\n",
    "- Leverage measures the difference between the observed support and the expected support, indicating the significance of the association.\n",
    "- Conviction measures the ratio of the expected confidence to the observed confidence, indicating the degree of dependency between the antecedent and the consequent.\n",
    "\n",
    "By examining the association rules, you can identify interesting relationships, co-occurrences, or patterns among items, which can be used for various purposes such as product recommendation, market segmentation, or inventory management.\n",
    "\n",
    "To generate the association rules, we use the Apriori algorithm with a minimum support threshold of 0.05 (5%). This ensures that only itemsets with sufficient frequency in the dataset are considered.\n",
    "\n",
    "Let's explore the generated association rules:\n"
   ]
  },
  {
   "cell_type": "code",
   "execution_count": 25,
   "id": "a3037f1b",
   "metadata": {
    "execution": {
     "iopub.execute_input": "2023-06-05T14:17:09.361124Z",
     "iopub.status.busy": "2023-06-05T14:17:09.360631Z",
     "iopub.status.idle": "2023-06-05T14:17:09.696634Z",
     "shell.execute_reply": "2023-06-05T14:17:09.695275Z"
    },
    "papermill": {
     "duration": 0.365552,
     "end_time": "2023-06-05T14:17:09.699853",
     "exception": false,
     "start_time": "2023-06-05T14:17:09.334301",
     "status": "completed"
    },
    "tags": []
   },
   "outputs": [],
   "source": [
    "# Assign the original DataFrame to df2\n",
    "df2 = df\n",
    "\n",
    "# Filter rows based on item occurrences\n",
    "item_counts = df2['Itemname'].value_counts(ascending=False)\n",
    "filtered_items = item_counts.loc[item_counts > 1].reset_index()['index']\n",
    "df2 = df2[df2['Itemname'].isin(filtered_items)]\n",
    "\n",
    "# Filter rows based on bill number occurrences\n",
    "bill_counts = df2['BillNo'].value_counts(ascending=False)\n",
    "filtered_bills = bill_counts.loc[bill_counts > 1].reset_index()['index']\n",
    "df2 = df2[df2['BillNo'].isin(filtered_bills)]"
   ]
  },
  {
   "cell_type": "markdown",
   "id": "f933f849",
   "metadata": {
    "papermill": {
     "duration": 0.026463,
     "end_time": "2023-06-05T14:17:09.753211",
     "exception": false,
     "start_time": "2023-06-05T14:17:09.726748",
     "status": "completed"
    },
    "tags": []
   },
   "source": [
    "#### Filtering is done based on item occurrences:\n",
    "        The frequency count of each unique item name in the 'Itemname' column is calculated and stored in item_counts.\n",
    "        filtered_items is created by filtering item_counts to retain only item names that occur more than once.\n",
    "        Rows in df2 are filtered to keep only those where the item name in the 'Itemname' column is present in the filtered_items list.\n",
    "#### Filtering is done based on bill number occurrences:\n",
    "        The frequency count of each unique bill number in the 'BillNo' column is calculated and stored in bill_counts.\n",
    "        filtered_bills is created by filtering bill_counts to retain only bill numbers that occur more than once.\n",
    "        Rows in df2 are filtered to keep only those where the bill number in the 'BillNo' column is present in the filtered_bills list.\n",
    "\n",
    "After executing the code, the filtered DataFrame df2 will contain only the rows where both the item name and bill number occur more than once in the original df."
   ]
  },
  {
   "cell_type": "code",
   "execution_count": 26,
   "id": "376fec53",
   "metadata": {
    "execution": {
     "iopub.execute_input": "2023-06-05T14:17:09.805042Z",
     "iopub.status.busy": "2023-06-05T14:17:09.804617Z",
     "iopub.status.idle": "2023-06-05T14:17:53.806314Z",
     "shell.execute_reply": "2023-06-05T14:17:53.805091Z"
    },
    "papermill": {
     "duration": 44.031623,
     "end_time": "2023-06-05T14:17:53.809886",
     "exception": false,
     "start_time": "2023-06-05T14:17:09.778263",
     "status": "completed"
    },
    "tags": []
   },
   "outputs": [],
   "source": [
    "# Create a pivot table using the filtered DataFrame\n",
    "pivot_table = pd.pivot_table(df2[['BillNo','Itemname']], index='BillNo', columns='Itemname', aggfunc=lambda x: True, fill_value=False)"
   ]
  },
  {
   "cell_type": "markdown",
   "id": "97172b30",
   "metadata": {
    "papermill": {
     "duration": 0.024612,
     "end_time": "2023-06-05T14:17:53.860287",
     "exception": false,
     "start_time": "2023-06-05T14:17:53.835675",
     "status": "completed"
    },
    "tags": []
   },
   "source": [
    "The code creates a pivot table that represents the occurrence of items in bills. The pivot table provides a binary representation where each cell indicates whether a specific item appears in a particular bill. Here's how it works:\n",
    "\n",
    "    The original DataFrame df2 contains information about bills and corresponding item names.\n",
    "    By using the pd.pivot_table() function, we reshape the DataFrame to create a pivot table.\n",
    "    The pivot table has 'BillNo' as the index and 'Itemname' as the columns, grouping the data based on these two columns.\n",
    "    The goal is to determine whether a specific item appears in a particular bill.\n",
    "    Each cell in the pivot table is filled with either True or False:\n",
    "        If an item appears in a bill, the corresponding cell is marked as True.\n",
    "        If an item does not appear in a bill, the corresponding cell is marked as False.\n",
    "    This binary representation of item occurrence in bills allows us to easily analyze and identify patterns or associations between different items and bills.\n",
    "\n",
    "The resulting pivot table provides a concise summary of the occurrence of items in bills, which can be used for various purposes such as market basket analysis, recommendation systems, or identifying frequent itemsets and association rules."
   ]
  },
  {
   "cell_type": "code",
   "execution_count": 27,
   "id": "a3886802",
   "metadata": {
    "execution": {
     "iopub.execute_input": "2023-06-05T14:17:53.914236Z",
     "iopub.status.busy": "2023-06-05T14:17:53.913811Z",
     "iopub.status.idle": "2023-06-05T14:18:32.013160Z",
     "shell.execute_reply": "2023-06-05T14:18:32.011941Z"
    },
    "papermill": {
     "duration": 38.155761,
     "end_time": "2023-06-05T14:18:32.040946",
     "exception": false,
     "start_time": "2023-06-05T14:17:53.885185",
     "status": "completed"
    },
    "tags": []
   },
   "outputs": [
    {
     "name": "stdout",
     "output_type": "stream",
     "text": [
      "Frequent Itemsets:\n",
      "       support                                           itemsets\n",
      "0     0.017370                           (10 COLOUR SPACEBOY PEN)\n",
      "1     0.013751                  (12 MESSAGE CARDS WITH ENVELOPES)\n",
      "2     0.019653                    (12 PENCIL SMALL TUBE WOODLAND)\n",
      "3     0.019820              (12 PENCILS SMALL TUBE RED RETROSPOT)\n",
      "4     0.019597                      (12 PENCILS SMALL TUBE SKULL)\n",
      "...        ...                                                ...\n",
      "2467  0.010355  (LUNCH BAG RED RETROSPOT, LUNCH BAG SUKI DESIG...\n",
      "2468  0.010188  (LUNCH BAG RED RETROSPOT, LUNCH BAG SUKI DESIG...\n",
      "2469  0.010300  (LUNCH BAG RED RETROSPOT, LUNCH BAG SPACEBOY D...\n",
      "2470  0.010467  (LUNCH BAG RED RETROSPOT, LUNCH BAG PINK POLKA...\n",
      "2471  0.011302  (CHARLOTTE BAG PINK POLKADOT, STRAWBERRY CHARL...\n",
      "\n",
      "[2472 rows x 2 columns]\n",
      "\n",
      "Association Rules:\n"
     ]
    },
    {
     "data": {
      "text/html": [
       "<div>\n",
       "<style scoped>\n",
       "    .dataframe tbody tr th:only-of-type {\n",
       "        vertical-align: middle;\n",
       "    }\n",
       "\n",
       "    .dataframe tbody tr th {\n",
       "        vertical-align: top;\n",
       "    }\n",
       "\n",
       "    .dataframe thead th {\n",
       "        text-align: right;\n",
       "    }\n",
       "</style>\n",
       "<table border=\"1\" class=\"dataframe\">\n",
       "  <thead>\n",
       "    <tr style=\"text-align: right;\">\n",
       "      <th></th>\n",
       "      <th>antecedents</th>\n",
       "      <th>consequents</th>\n",
       "      <th>antecedent support</th>\n",
       "      <th>consequent support</th>\n",
       "      <th>support</th>\n",
       "      <th>confidence</th>\n",
       "      <th>lift</th>\n",
       "      <th>leverage</th>\n",
       "      <th>conviction</th>\n",
       "      <th>zhangs_metric</th>\n",
       "    </tr>\n",
       "  </thead>\n",
       "  <tbody>\n",
       "    <tr>\n",
       "      <th>0</th>\n",
       "      <td>(60 CAKE CASES DOLLY GIRL DESIGN)</td>\n",
       "      <td>(PACK OF 72 RETROSPOT CAKE CASES)</td>\n",
       "      <td>0.023160</td>\n",
       "      <td>0.071206</td>\n",
       "      <td>0.013028</td>\n",
       "      <td>0.562500</td>\n",
       "      <td>7.899629</td>\n",
       "      <td>0.011378</td>\n",
       "      <td>2.122958</td>\n",
       "      <td>0.894120</td>\n",
       "    </tr>\n",
       "    <tr>\n",
       "      <th>1</th>\n",
       "      <td>(60 TEATIME FAIRY CAKE CASES)</td>\n",
       "      <td>(PACK OF 72 RETROSPOT CAKE CASES)</td>\n",
       "      <td>0.044427</td>\n",
       "      <td>0.071206</td>\n",
       "      <td>0.024218</td>\n",
       "      <td>0.545113</td>\n",
       "      <td>7.655446</td>\n",
       "      <td>0.021054</td>\n",
       "      <td>2.041812</td>\n",
       "      <td>0.909794</td>\n",
       "    </tr>\n",
       "    <tr>\n",
       "      <th>2</th>\n",
       "      <td>(ALARM CLOCK BAKELIKE CHOCOLATE)</td>\n",
       "      <td>(ALARM CLOCK BAKELIKE GREEN)</td>\n",
       "      <td>0.023216</td>\n",
       "      <td>0.053558</td>\n",
       "      <td>0.015254</td>\n",
       "      <td>0.657074</td>\n",
       "      <td>12.268575</td>\n",
       "      <td>0.014011</td>\n",
       "      <td>2.759906</td>\n",
       "      <td>0.940321</td>\n",
       "    </tr>\n",
       "    <tr>\n",
       "      <th>3</th>\n",
       "      <td>(ALARM CLOCK BAKELIKE CHOCOLATE)</td>\n",
       "      <td>(ALARM CLOCK BAKELIKE PINK)</td>\n",
       "      <td>0.023216</td>\n",
       "      <td>0.042256</td>\n",
       "      <td>0.011691</td>\n",
       "      <td>0.503597</td>\n",
       "      <td>11.917802</td>\n",
       "      <td>0.010710</td>\n",
       "      <td>1.929369</td>\n",
       "      <td>0.937865</td>\n",
       "    </tr>\n",
       "    <tr>\n",
       "      <th>4</th>\n",
       "      <td>(ALARM CLOCK BAKELIKE CHOCOLATE)</td>\n",
       "      <td>(ALARM CLOCK BAKELIKE RED)</td>\n",
       "      <td>0.023216</td>\n",
       "      <td>0.057121</td>\n",
       "      <td>0.015811</td>\n",
       "      <td>0.681055</td>\n",
       "      <td>11.923112</td>\n",
       "      <td>0.014485</td>\n",
       "      <td>2.956246</td>\n",
       "      <td>0.937903</td>\n",
       "    </tr>\n",
       "    <tr>\n",
       "      <th>...</th>\n",
       "      <td>...</td>\n",
       "      <td>...</td>\n",
       "      <td>...</td>\n",
       "      <td>...</td>\n",
       "      <td>...</td>\n",
       "      <td>...</td>\n",
       "      <td>...</td>\n",
       "      <td>...</td>\n",
       "      <td>...</td>\n",
       "      <td>...</td>\n",
       "    </tr>\n",
       "    <tr>\n",
       "      <th>1392</th>\n",
       "      <td>(CHARLOTTE BAG SUKI DESIGN, STRAWBERRY CHARLOT...</td>\n",
       "      <td>(CHARLOTTE BAG PINK POLKADOT, WOODLAND CHARLOT...</td>\n",
       "      <td>0.018483</td>\n",
       "      <td>0.021824</td>\n",
       "      <td>0.011302</td>\n",
       "      <td>0.611446</td>\n",
       "      <td>28.017319</td>\n",
       "      <td>0.010898</td>\n",
       "      <td>2.517477</td>\n",
       "      <td>0.982467</td>\n",
       "    </tr>\n",
       "    <tr>\n",
       "      <th>1393</th>\n",
       "      <td>(CHARLOTTE BAG SUKI DESIGN, WOODLAND CHARLOTTE...</td>\n",
       "      <td>(CHARLOTTE BAG PINK POLKADOT, STRAWBERRY CHARL...</td>\n",
       "      <td>0.018595</td>\n",
       "      <td>0.020989</td>\n",
       "      <td>0.011302</td>\n",
       "      <td>0.607784</td>\n",
       "      <td>28.957623</td>\n",
       "      <td>0.010911</td>\n",
       "      <td>2.496105</td>\n",
       "      <td>0.983760</td>\n",
       "    </tr>\n",
       "    <tr>\n",
       "      <th>1394</th>\n",
       "      <td>(CHARLOTTE BAG PINK POLKADOT, STRAWBERRY CHARL...</td>\n",
       "      <td>(CHARLOTTE BAG SUKI DESIGN, WOODLAND CHARLOTTE...</td>\n",
       "      <td>0.020989</td>\n",
       "      <td>0.018595</td>\n",
       "      <td>0.011302</td>\n",
       "      <td>0.538462</td>\n",
       "      <td>28.957623</td>\n",
       "      <td>0.010911</td>\n",
       "      <td>2.126378</td>\n",
       "      <td>0.986165</td>\n",
       "    </tr>\n",
       "    <tr>\n",
       "      <th>1395</th>\n",
       "      <td>(CHARLOTTE BAG PINK POLKADOT, WOODLAND CHARLOT...</td>\n",
       "      <td>(CHARLOTTE BAG SUKI DESIGN, STRAWBERRY CHARLOT...</td>\n",
       "      <td>0.021824</td>\n",
       "      <td>0.018483</td>\n",
       "      <td>0.011302</td>\n",
       "      <td>0.517857</td>\n",
       "      <td>28.017319</td>\n",
       "      <td>0.010898</td>\n",
       "      <td>2.035738</td>\n",
       "      <td>0.985822</td>\n",
       "    </tr>\n",
       "    <tr>\n",
       "      <th>1396</th>\n",
       "      <td>(WOODLAND CHARLOTTE BAG, STRAWBERRY CHARLOTTE ...</td>\n",
       "      <td>(CHARLOTTE BAG PINK POLKADOT, CHARLOTTE BAG SU...</td>\n",
       "      <td>0.022492</td>\n",
       "      <td>0.018261</td>\n",
       "      <td>0.011302</td>\n",
       "      <td>0.502475</td>\n",
       "      <td>27.516648</td>\n",
       "      <td>0.010891</td>\n",
       "      <td>1.973247</td>\n",
       "      <td>0.985832</td>\n",
       "    </tr>\n",
       "  </tbody>\n",
       "</table>\n",
       "<p>1397 rows × 10 columns</p>\n",
       "</div>"
      ],
      "text/plain": [
       "                                            antecedents  \\\n",
       "0                     (60 CAKE CASES DOLLY GIRL DESIGN)   \n",
       "1                         (60 TEATIME FAIRY CAKE CASES)   \n",
       "2                      (ALARM CLOCK BAKELIKE CHOCOLATE)   \n",
       "3                      (ALARM CLOCK BAKELIKE CHOCOLATE)   \n",
       "4                      (ALARM CLOCK BAKELIKE CHOCOLATE)   \n",
       "...                                                 ...   \n",
       "1392  (CHARLOTTE BAG SUKI DESIGN, STRAWBERRY CHARLOT...   \n",
       "1393  (CHARLOTTE BAG SUKI DESIGN, WOODLAND CHARLOTTE...   \n",
       "1394  (CHARLOTTE BAG PINK POLKADOT, STRAWBERRY CHARL...   \n",
       "1395  (CHARLOTTE BAG PINK POLKADOT, WOODLAND CHARLOT...   \n",
       "1396  (WOODLAND CHARLOTTE BAG, STRAWBERRY CHARLOTTE ...   \n",
       "\n",
       "                                            consequents  antecedent support  \\\n",
       "0                     (PACK OF 72 RETROSPOT CAKE CASES)            0.023160   \n",
       "1                     (PACK OF 72 RETROSPOT CAKE CASES)            0.044427   \n",
       "2                          (ALARM CLOCK BAKELIKE GREEN)            0.023216   \n",
       "3                           (ALARM CLOCK BAKELIKE PINK)            0.023216   \n",
       "4                            (ALARM CLOCK BAKELIKE RED)            0.023216   \n",
       "...                                                 ...                 ...   \n",
       "1392  (CHARLOTTE BAG PINK POLKADOT, WOODLAND CHARLOT...            0.018483   \n",
       "1393  (CHARLOTTE BAG PINK POLKADOT, STRAWBERRY CHARL...            0.018595   \n",
       "1394  (CHARLOTTE BAG SUKI DESIGN, WOODLAND CHARLOTTE...            0.020989   \n",
       "1395  (CHARLOTTE BAG SUKI DESIGN, STRAWBERRY CHARLOT...            0.021824   \n",
       "1396  (CHARLOTTE BAG PINK POLKADOT, CHARLOTTE BAG SU...            0.022492   \n",
       "\n",
       "      consequent support   support  confidence       lift  leverage  \\\n",
       "0               0.071206  0.013028    0.562500   7.899629  0.011378   \n",
       "1               0.071206  0.024218    0.545113   7.655446  0.021054   \n",
       "2               0.053558  0.015254    0.657074  12.268575  0.014011   \n",
       "3               0.042256  0.011691    0.503597  11.917802  0.010710   \n",
       "4               0.057121  0.015811    0.681055  11.923112  0.014485   \n",
       "...                  ...       ...         ...        ...       ...   \n",
       "1392            0.021824  0.011302    0.611446  28.017319  0.010898   \n",
       "1393            0.020989  0.011302    0.607784  28.957623  0.010911   \n",
       "1394            0.018595  0.011302    0.538462  28.957623  0.010911   \n",
       "1395            0.018483  0.011302    0.517857  28.017319  0.010898   \n",
       "1396            0.018261  0.011302    0.502475  27.516648  0.010891   \n",
       "\n",
       "      conviction  zhangs_metric  \n",
       "0       2.122958       0.894120  \n",
       "1       2.041812       0.909794  \n",
       "2       2.759906       0.940321  \n",
       "3       1.929369       0.937865  \n",
       "4       2.956246       0.937903  \n",
       "...          ...            ...  \n",
       "1392    2.517477       0.982467  \n",
       "1393    2.496105       0.983760  \n",
       "1394    2.126378       0.986165  \n",
       "1395    2.035738       0.985822  \n",
       "1396    1.973247       0.985832  \n",
       "\n",
       "[1397 rows x 10 columns]"
      ]
     },
     "execution_count": 27,
     "metadata": {},
     "output_type": "execute_result"
    }
   ],
   "source": [
    "from mlxtend.frequent_patterns import apriori\n",
    "from mlxtend.frequent_patterns import association_rules\n",
    "\n",
    "# Generate frequent itemsets with minimum support of 0.1 (10%)\n",
    "frequent_itemsets = apriori(pivot_table, min_support=0.01,use_colnames=True)\n",
    "\n",
    "# Generate association rules\n",
    "rules = association_rules(frequent_itemsets, \"confidence\", min_threshold = 0.5)\n",
    "\n",
    "# Print frequent itemsets\n",
    "print(\"Frequent Itemsets:\")\n",
    "print(frequent_itemsets)\n",
    "\n",
    "# Print association rules\n",
    "print(\"\\nAssociation Rules:\")\n",
    "rules"
   ]
  },
  {
   "cell_type": "markdown",
   "id": "6b7908a1",
   "metadata": {
    "papermill": {
     "duration": 0.025241,
     "end_time": "2023-06-05T14:18:32.091568",
     "exception": false,
     "start_time": "2023-06-05T14:18:32.066327",
     "status": "completed"
    },
    "tags": []
   },
   "source": [
    "The code uses the apriori algorithm and association rule mining techniques to analyze the occurrence of items in bills. Here's the overall idea:\n",
    "\n",
    "    Frequent Itemsets Generation:\n",
    "        The apriori algorithm is applied to the pivot_table created earlier, which represents the occurrence of items in bills.\n",
    "        The algorithm identifies sets of items that frequently co-occur together in the bills.\n",
    "        The minimum support threshold of 0.01 (1%) is set, meaning that an itemset must occur in at least 1% of the bills to be considered frequent.\n",
    "        The resulting frequent itemsets represent combinations of items that are frequently observed together in bills.\n",
    "\n",
    "    Association Rules Generation:\n",
    "        Using the frequent itemsets, association rules are generated.\n",
    "        Association rules capture relationships and patterns between items based on their co-occurrence in bills.\n",
    "        The confidence metric is used to evaluate the strength of the rules. Confidence measures how often the consequent item(s) appear in bills when the antecedent item(s) are present.\n",
    "        A minimum confidence threshold of 0.5 (50%) is set, meaning that only rules with a confidence greater than or equal to 0.5 will be considered significant.\n",
    "\n",
    "By applying these techniques to the pivot_table, the code enables the discovery of frequent itemsets and the extraction of meaningful association rules, helping to uncover hidden patterns and relationships in the data."
   ]
  },
  {
   "cell_type": "code",
   "execution_count": 28,
   "id": "caed0c21",
   "metadata": {
    "execution": {
     "iopub.execute_input": "2023-06-05T14:18:32.144795Z",
     "iopub.status.busy": "2023-06-05T14:18:32.144036Z",
     "iopub.status.idle": "2023-06-05T14:18:32.178053Z",
     "shell.execute_reply": "2023-06-05T14:18:32.176825Z"
    },
    "papermill": {
     "duration": 0.063594,
     "end_time": "2023-06-05T14:18:32.180681",
     "exception": false,
     "start_time": "2023-06-05T14:18:32.117087",
     "status": "completed"
    },
    "tags": []
   },
   "outputs": [
    {
     "data": {
      "text/html": [
       "<div>\n",
       "<style scoped>\n",
       "    .dataframe tbody tr th:only-of-type {\n",
       "        vertical-align: middle;\n",
       "    }\n",
       "\n",
       "    .dataframe tbody tr th {\n",
       "        vertical-align: top;\n",
       "    }\n",
       "\n",
       "    .dataframe thead th {\n",
       "        text-align: right;\n",
       "    }\n",
       "</style>\n",
       "<table border=\"1\" class=\"dataframe\">\n",
       "  <thead>\n",
       "    <tr style=\"text-align: right;\">\n",
       "      <th></th>\n",
       "      <th>antecedents</th>\n",
       "      <th>consequents</th>\n",
       "      <th>antecedent support</th>\n",
       "      <th>consequent support</th>\n",
       "      <th>support</th>\n",
       "      <th>confidence</th>\n",
       "      <th>lift</th>\n",
       "      <th>leverage</th>\n",
       "      <th>conviction</th>\n",
       "      <th>zhangs_metric</th>\n",
       "    </tr>\n",
       "  </thead>\n",
       "  <tbody>\n",
       "    <tr>\n",
       "      <th>17</th>\n",
       "      <td>(BEADED CRYSTAL HEART PINK ON STICK)</td>\n",
       "      <td>(DOTCOM POSTAGE)</td>\n",
       "      <td>0.011469</td>\n",
       "      <td>0.039305</td>\n",
       "      <td>0.011190</td>\n",
       "      <td>0.975728</td>\n",
       "      <td>24.824404</td>\n",
       "      <td>0.010740</td>\n",
       "      <td>39.580626</td>\n",
       "      <td>0.970851</td>\n",
       "    </tr>\n",
       "    <tr>\n",
       "      <th>614</th>\n",
       "      <td>(HERB MARKER CHIVES, HERB MARKER THYME)</td>\n",
       "      <td>(HERB MARKER PARSLEY)</td>\n",
       "      <td>0.010411</td>\n",
       "      <td>0.012916</td>\n",
       "      <td>0.010077</td>\n",
       "      <td>0.967914</td>\n",
       "      <td>74.938272</td>\n",
       "      <td>0.009942</td>\n",
       "      <td>30.764113</td>\n",
       "      <td>0.997036</td>\n",
       "    </tr>\n",
       "    <tr>\n",
       "      <th>607</th>\n",
       "      <td>(HERB MARKER CHIVES, HERB MARKER ROSEMARY)</td>\n",
       "      <td>(HERB MARKER PARSLEY)</td>\n",
       "      <td>0.010355</td>\n",
       "      <td>0.012916</td>\n",
       "      <td>0.010021</td>\n",
       "      <td>0.967742</td>\n",
       "      <td>74.924917</td>\n",
       "      <td>0.009887</td>\n",
       "      <td>30.599599</td>\n",
       "      <td>0.996977</td>\n",
       "    </tr>\n",
       "    <tr>\n",
       "      <th>619</th>\n",
       "      <td>(HERB MARKER CHIVES, HERB MARKER ROSEMARY)</td>\n",
       "      <td>(HERB MARKER THYME)</td>\n",
       "      <td>0.010355</td>\n",
       "      <td>0.012916</td>\n",
       "      <td>0.010021</td>\n",
       "      <td>0.967742</td>\n",
       "      <td>74.924917</td>\n",
       "      <td>0.009887</td>\n",
       "      <td>30.599599</td>\n",
       "      <td>0.996977</td>\n",
       "    </tr>\n",
       "    <tr>\n",
       "      <th>1217</th>\n",
       "      <td>(HERB MARKER BASIL, HERB MARKER ROSEMARY, HERB...</td>\n",
       "      <td>(HERB MARKER THYME)</td>\n",
       "      <td>0.010578</td>\n",
       "      <td>0.012916</td>\n",
       "      <td>0.010188</td>\n",
       "      <td>0.963158</td>\n",
       "      <td>74.570009</td>\n",
       "      <td>0.010052</td>\n",
       "      <td>26.792276</td>\n",
       "      <td>0.997137</td>\n",
       "    </tr>\n",
       "    <tr>\n",
       "      <th>...</th>\n",
       "      <td>...</td>\n",
       "      <td>...</td>\n",
       "      <td>...</td>\n",
       "      <td>...</td>\n",
       "      <td>...</td>\n",
       "      <td>...</td>\n",
       "      <td>...</td>\n",
       "      <td>...</td>\n",
       "      <td>...</td>\n",
       "      <td>...</td>\n",
       "    </tr>\n",
       "    <tr>\n",
       "      <th>25</th>\n",
       "      <td>(RED RETROSPOT CUP)</td>\n",
       "      <td>(BLUE POLKADOT CUP)</td>\n",
       "      <td>0.021378</td>\n",
       "      <td>0.018038</td>\n",
       "      <td>0.010689</td>\n",
       "      <td>0.500000</td>\n",
       "      <td>27.719136</td>\n",
       "      <td>0.010304</td>\n",
       "      <td>1.963924</td>\n",
       "      <td>0.984981</td>\n",
       "    </tr>\n",
       "    <tr>\n",
       "      <th>1159</th>\n",
       "      <td>(STRAWBERRY CHARLOTTE BAG, RED RETROSPOT CHARL...</td>\n",
       "      <td>(CHARLOTTE BAG PINK POLKADOT, WOODLAND CHARLOT...</td>\n",
       "      <td>0.026834</td>\n",
       "      <td>0.021824</td>\n",
       "      <td>0.013417</td>\n",
       "      <td>0.500000</td>\n",
       "      <td>22.910714</td>\n",
       "      <td>0.012832</td>\n",
       "      <td>1.956352</td>\n",
       "      <td>0.982723</td>\n",
       "    </tr>\n",
       "    <tr>\n",
       "      <th>113</th>\n",
       "      <td>(HAND WARMER RED LOVE HEART)</td>\n",
       "      <td>(HAND WARMER SCOTTY DOG DESIGN)</td>\n",
       "      <td>0.021935</td>\n",
       "      <td>0.030286</td>\n",
       "      <td>0.010968</td>\n",
       "      <td>0.500000</td>\n",
       "      <td>16.509191</td>\n",
       "      <td>0.010303</td>\n",
       "      <td>1.939428</td>\n",
       "      <td>0.960496</td>\n",
       "    </tr>\n",
       "    <tr>\n",
       "      <th>147</th>\n",
       "      <td>(LOVE HOT WATER BOTTLE)</td>\n",
       "      <td>(HOT WATER BOTTLE KEEP CALM)</td>\n",
       "      <td>0.025832</td>\n",
       "      <td>0.042701</td>\n",
       "      <td>0.012916</td>\n",
       "      <td>0.500000</td>\n",
       "      <td>11.709257</td>\n",
       "      <td>0.011813</td>\n",
       "      <td>1.914597</td>\n",
       "      <td>0.938850</td>\n",
       "    </tr>\n",
       "    <tr>\n",
       "      <th>370</th>\n",
       "      <td>(CHARLOTTE BAG PINK POLKADOT, WOODLAND CHARLOT...</td>\n",
       "      <td>(PACK OF 72 RETROSPOT CAKE CASES)</td>\n",
       "      <td>0.021824</td>\n",
       "      <td>0.071206</td>\n",
       "      <td>0.010912</td>\n",
       "      <td>0.500000</td>\n",
       "      <td>7.021892</td>\n",
       "      <td>0.009358</td>\n",
       "      <td>1.857588</td>\n",
       "      <td>0.876722</td>\n",
       "    </tr>\n",
       "  </tbody>\n",
       "</table>\n",
       "<p>1397 rows × 10 columns</p>\n",
       "</div>"
      ],
      "text/plain": [
       "                                            antecedents  \\\n",
       "17                 (BEADED CRYSTAL HEART PINK ON STICK)   \n",
       "614             (HERB MARKER CHIVES, HERB MARKER THYME)   \n",
       "607          (HERB MARKER CHIVES, HERB MARKER ROSEMARY)   \n",
       "619          (HERB MARKER CHIVES, HERB MARKER ROSEMARY)   \n",
       "1217  (HERB MARKER BASIL, HERB MARKER ROSEMARY, HERB...   \n",
       "...                                                 ...   \n",
       "25                                  (RED RETROSPOT CUP)   \n",
       "1159  (STRAWBERRY CHARLOTTE BAG, RED RETROSPOT CHARL...   \n",
       "113                        (HAND WARMER RED LOVE HEART)   \n",
       "147                             (LOVE HOT WATER BOTTLE)   \n",
       "370   (CHARLOTTE BAG PINK POLKADOT, WOODLAND CHARLOT...   \n",
       "\n",
       "                                            consequents  antecedent support  \\\n",
       "17                                     (DOTCOM POSTAGE)            0.011469   \n",
       "614                               (HERB MARKER PARSLEY)            0.010411   \n",
       "607                               (HERB MARKER PARSLEY)            0.010355   \n",
       "619                                 (HERB MARKER THYME)            0.010355   \n",
       "1217                                (HERB MARKER THYME)            0.010578   \n",
       "...                                                 ...                 ...   \n",
       "25                                  (BLUE POLKADOT CUP)            0.021378   \n",
       "1159  (CHARLOTTE BAG PINK POLKADOT, WOODLAND CHARLOT...            0.026834   \n",
       "113                     (HAND WARMER SCOTTY DOG DESIGN)            0.021935   \n",
       "147                        (HOT WATER BOTTLE KEEP CALM)            0.025832   \n",
       "370                   (PACK OF 72 RETROSPOT CAKE CASES)            0.021824   \n",
       "\n",
       "      consequent support   support  confidence       lift  leverage  \\\n",
       "17              0.039305  0.011190    0.975728  24.824404  0.010740   \n",
       "614             0.012916  0.010077    0.967914  74.938272  0.009942   \n",
       "607             0.012916  0.010021    0.967742  74.924917  0.009887   \n",
       "619             0.012916  0.010021    0.967742  74.924917  0.009887   \n",
       "1217            0.012916  0.010188    0.963158  74.570009  0.010052   \n",
       "...                  ...       ...         ...        ...       ...   \n",
       "25              0.018038  0.010689    0.500000  27.719136  0.010304   \n",
       "1159            0.021824  0.013417    0.500000  22.910714  0.012832   \n",
       "113             0.030286  0.010968    0.500000  16.509191  0.010303   \n",
       "147             0.042701  0.012916    0.500000  11.709257  0.011813   \n",
       "370             0.071206  0.010912    0.500000   7.021892  0.009358   \n",
       "\n",
       "      conviction  zhangs_metric  \n",
       "17     39.580626       0.970851  \n",
       "614    30.764113       0.997036  \n",
       "607    30.599599       0.996977  \n",
       "619    30.599599       0.996977  \n",
       "1217   26.792276       0.997137  \n",
       "...          ...            ...  \n",
       "25      1.963924       0.984981  \n",
       "1159    1.956352       0.982723  \n",
       "113     1.939428       0.960496  \n",
       "147     1.914597       0.938850  \n",
       "370     1.857588       0.876722  \n",
       "\n",
       "[1397 rows x 10 columns]"
      ]
     },
     "execution_count": 28,
     "metadata": {},
     "output_type": "execute_result"
    }
   ],
   "source": [
    "rules = rules.sort_values(['confidence', 'lift'], ascending =[False, False]) \n",
    "\n",
    "rules"
   ]
  },
  {
   "cell_type": "code",
   "execution_count": 29,
   "id": "c2567102",
   "metadata": {
    "execution": {
     "iopub.execute_input": "2023-06-05T14:18:32.234707Z",
     "iopub.status.busy": "2023-06-05T14:18:32.234283Z",
     "iopub.status.idle": "2023-06-05T14:18:32.266570Z",
     "shell.execute_reply": "2023-06-05T14:18:32.265331Z"
    },
    "papermill": {
     "duration": 0.062373,
     "end_time": "2023-06-05T14:18:32.269207",
     "exception": false,
     "start_time": "2023-06-05T14:18:32.206834",
     "status": "completed"
    },
    "tags": []
   },
   "outputs": [
    {
     "data": {
      "text/html": [
       "<div>\n",
       "<style scoped>\n",
       "    .dataframe tbody tr th:only-of-type {\n",
       "        vertical-align: middle;\n",
       "    }\n",
       "\n",
       "    .dataframe tbody tr th {\n",
       "        vertical-align: top;\n",
       "    }\n",
       "\n",
       "    .dataframe thead th {\n",
       "        text-align: right;\n",
       "    }\n",
       "</style>\n",
       "<table border=\"1\" class=\"dataframe\">\n",
       "  <thead>\n",
       "    <tr style=\"text-align: right;\">\n",
       "      <th></th>\n",
       "      <th>antecedents</th>\n",
       "      <th>consequents</th>\n",
       "      <th>antecedent support</th>\n",
       "      <th>consequent support</th>\n",
       "      <th>support</th>\n",
       "      <th>confidence</th>\n",
       "      <th>lift</th>\n",
       "      <th>leverage</th>\n",
       "      <th>conviction</th>\n",
       "      <th>zhangs_metric</th>\n",
       "    </tr>\n",
       "  </thead>\n",
       "  <tbody>\n",
       "    <tr>\n",
       "      <th>161</th>\n",
       "      <td>(JUMBO BAG PINK POLKADOT)</td>\n",
       "      <td>(JUMBO BAG RED RETROSPOT)</td>\n",
       "      <td>0.067309</td>\n",
       "      <td>0.113963</td>\n",
       "      <td>0.045596</td>\n",
       "      <td>0.677419</td>\n",
       "      <td>5.944214</td>\n",
       "      <td>0.037926</td>\n",
       "      <td>2.746715</td>\n",
       "      <td>0.891795</td>\n",
       "    </tr>\n",
       "    <tr>\n",
       "      <th>105</th>\n",
       "      <td>(ROSES REGENCY TEACUP AND SAUCER)</td>\n",
       "      <td>(GREEN REGENCY TEACUP AND SAUCER)</td>\n",
       "      <td>0.056174</td>\n",
       "      <td>0.054170</td>\n",
       "      <td>0.040641</td>\n",
       "      <td>0.723489</td>\n",
       "      <td>13.355912</td>\n",
       "      <td>0.037598</td>\n",
       "      <td>3.420583</td>\n",
       "      <td>0.980188</td>\n",
       "    </tr>\n",
       "    <tr>\n",
       "      <th>104</th>\n",
       "      <td>(GREEN REGENCY TEACUP AND SAUCER)</td>\n",
       "      <td>(ROSES REGENCY TEACUP AND SAUCER)</td>\n",
       "      <td>0.054170</td>\n",
       "      <td>0.056174</td>\n",
       "      <td>0.040641</td>\n",
       "      <td>0.750257</td>\n",
       "      <td>13.355912</td>\n",
       "      <td>0.037598</td>\n",
       "      <td>3.779187</td>\n",
       "      <td>0.978111</td>\n",
       "    </tr>\n",
       "    <tr>\n",
       "      <th>174</th>\n",
       "      <td>(JUMBO STORAGE BAG SUKI)</td>\n",
       "      <td>(JUMBO BAG RED RETROSPOT)</td>\n",
       "      <td>0.065583</td>\n",
       "      <td>0.113963</td>\n",
       "      <td>0.040140</td>\n",
       "      <td>0.612054</td>\n",
       "      <td>5.370650</td>\n",
       "      <td>0.032666</td>\n",
       "      <td>2.283921</td>\n",
       "      <td>0.870920</td>\n",
       "    </tr>\n",
       "    <tr>\n",
       "      <th>172</th>\n",
       "      <td>(JUMBO SHOPPER VINTAGE RED PAISLEY)</td>\n",
       "      <td>(JUMBO BAG RED RETROSPOT)</td>\n",
       "      <td>0.064859</td>\n",
       "      <td>0.113963</td>\n",
       "      <td>0.037635</td>\n",
       "      <td>0.580258</td>\n",
       "      <td>5.091639</td>\n",
       "      <td>0.030243</td>\n",
       "      <td>2.110907</td>\n",
       "      <td>0.859335</td>\n",
       "    </tr>\n",
       "    <tr>\n",
       "      <th>...</th>\n",
       "      <td>...</td>\n",
       "      <td>...</td>\n",
       "      <td>...</td>\n",
       "      <td>...</td>\n",
       "      <td>...</td>\n",
       "      <td>...</td>\n",
       "      <td>...</td>\n",
       "      <td>...</td>\n",
       "      <td>...</td>\n",
       "      <td>...</td>\n",
       "    </tr>\n",
       "    <tr>\n",
       "      <th>608</th>\n",
       "      <td>(HERB MARKER ROSEMARY, HERB MARKER PARSLEY)</td>\n",
       "      <td>(HERB MARKER CHIVES)</td>\n",
       "      <td>0.011691</td>\n",
       "      <td>0.011469</td>\n",
       "      <td>0.010021</td>\n",
       "      <td>0.857143</td>\n",
       "      <td>74.737864</td>\n",
       "      <td>0.009887</td>\n",
       "      <td>6.919719</td>\n",
       "      <td>0.998291</td>\n",
       "    </tr>\n",
       "    <tr>\n",
       "      <th>623</th>\n",
       "      <td>(HERB MARKER ROSEMARY)</td>\n",
       "      <td>(HERB MARKER CHIVES, HERB MARKER THYME)</td>\n",
       "      <td>0.013028</td>\n",
       "      <td>0.010411</td>\n",
       "      <td>0.010021</td>\n",
       "      <td>0.769231</td>\n",
       "      <td>73.887289</td>\n",
       "      <td>0.009886</td>\n",
       "      <td>4.288220</td>\n",
       "      <td>0.999487</td>\n",
       "    </tr>\n",
       "    <tr>\n",
       "      <th>987</th>\n",
       "      <td>(LUNCH BAG PINK POLKADOT, LUNCH BAG APPLE DESIGN)</td>\n",
       "      <td>(LUNCH BAG SPACEBOY DESIGN)</td>\n",
       "      <td>0.019263</td>\n",
       "      <td>0.063857</td>\n",
       "      <td>0.010021</td>\n",
       "      <td>0.520231</td>\n",
       "      <td>8.146812</td>\n",
       "      <td>0.008791</td>\n",
       "      <td>1.951238</td>\n",
       "      <td>0.894483</td>\n",
       "    </tr>\n",
       "    <tr>\n",
       "      <th>673</th>\n",
       "      <td>(LUNCH BAG RED RETROSPOT, JUMBO  BAG BAROQUE B...</td>\n",
       "      <td>(JUMBO BAG RED RETROSPOT)</td>\n",
       "      <td>0.014364</td>\n",
       "      <td>0.113963</td>\n",
       "      <td>0.010021</td>\n",
       "      <td>0.697674</td>\n",
       "      <td>6.121948</td>\n",
       "      <td>0.008384</td>\n",
       "      <td>2.930738</td>\n",
       "      <td>0.848846</td>\n",
       "    </tr>\n",
       "    <tr>\n",
       "      <th>431</th>\n",
       "      <td>(LUNCH BOX I LOVE LONDON, DOLLY GIRL LUNCH BOX)</td>\n",
       "      <td>(SPACEBOY LUNCH BOX)</td>\n",
       "      <td>0.014141</td>\n",
       "      <td>0.049215</td>\n",
       "      <td>0.010021</td>\n",
       "      <td>0.708661</td>\n",
       "      <td>14.399295</td>\n",
       "      <td>0.009325</td>\n",
       "      <td>3.263505</td>\n",
       "      <td>0.943900</td>\n",
       "    </tr>\n",
       "  </tbody>\n",
       "</table>\n",
       "<p>1397 rows × 10 columns</p>\n",
       "</div>"
      ],
      "text/plain": [
       "                                           antecedents  \\\n",
       "161                          (JUMBO BAG PINK POLKADOT)   \n",
       "105                  (ROSES REGENCY TEACUP AND SAUCER)   \n",
       "104                  (GREEN REGENCY TEACUP AND SAUCER)   \n",
       "174                           (JUMBO STORAGE BAG SUKI)   \n",
       "172                (JUMBO SHOPPER VINTAGE RED PAISLEY)   \n",
       "..                                                 ...   \n",
       "608        (HERB MARKER ROSEMARY, HERB MARKER PARSLEY)   \n",
       "623                             (HERB MARKER ROSEMARY)   \n",
       "987  (LUNCH BAG PINK POLKADOT, LUNCH BAG APPLE DESIGN)   \n",
       "673  (LUNCH BAG RED RETROSPOT, JUMBO  BAG BAROQUE B...   \n",
       "431    (LUNCH BOX I LOVE LONDON, DOLLY GIRL LUNCH BOX)   \n",
       "\n",
       "                                 consequents  antecedent support  \\\n",
       "161                (JUMBO BAG RED RETROSPOT)            0.067309   \n",
       "105        (GREEN REGENCY TEACUP AND SAUCER)            0.056174   \n",
       "104        (ROSES REGENCY TEACUP AND SAUCER)            0.054170   \n",
       "174                (JUMBO BAG RED RETROSPOT)            0.065583   \n",
       "172                (JUMBO BAG RED RETROSPOT)            0.064859   \n",
       "..                                       ...                 ...   \n",
       "608                     (HERB MARKER CHIVES)            0.011691   \n",
       "623  (HERB MARKER CHIVES, HERB MARKER THYME)            0.013028   \n",
       "987              (LUNCH BAG SPACEBOY DESIGN)            0.019263   \n",
       "673                (JUMBO BAG RED RETROSPOT)            0.014364   \n",
       "431                     (SPACEBOY LUNCH BOX)            0.014141   \n",
       "\n",
       "     consequent support   support  confidence       lift  leverage  \\\n",
       "161            0.113963  0.045596    0.677419   5.944214  0.037926   \n",
       "105            0.054170  0.040641    0.723489  13.355912  0.037598   \n",
       "104            0.056174  0.040641    0.750257  13.355912  0.037598   \n",
       "174            0.113963  0.040140    0.612054   5.370650  0.032666   \n",
       "172            0.113963  0.037635    0.580258   5.091639  0.030243   \n",
       "..                  ...       ...         ...        ...       ...   \n",
       "608            0.011469  0.010021    0.857143  74.737864  0.009887   \n",
       "623            0.010411  0.010021    0.769231  73.887289  0.009886   \n",
       "987            0.063857  0.010021    0.520231   8.146812  0.008791   \n",
       "673            0.113963  0.010021    0.697674   6.121948  0.008384   \n",
       "431            0.049215  0.010021    0.708661  14.399295  0.009325   \n",
       "\n",
       "     conviction  zhangs_metric  \n",
       "161    2.746715       0.891795  \n",
       "105    3.420583       0.980188  \n",
       "104    3.779187       0.978111  \n",
       "174    2.283921       0.870920  \n",
       "172    2.110907       0.859335  \n",
       "..          ...            ...  \n",
       "608    6.919719       0.998291  \n",
       "623    4.288220       0.999487  \n",
       "987    1.951238       0.894483  \n",
       "673    2.930738       0.848846  \n",
       "431    3.263505       0.943900  \n",
       "\n",
       "[1397 rows x 10 columns]"
      ]
     },
     "execution_count": 29,
     "metadata": {},
     "output_type": "execute_result"
    }
   ],
   "source": [
    "rules.sort_values(by='support', ascending=False)"
   ]
  },
  {
   "cell_type": "code",
   "execution_count": 30,
   "id": "78bece1e",
   "metadata": {
    "execution": {
     "iopub.execute_input": "2023-06-05T14:18:32.323470Z",
     "iopub.status.busy": "2023-06-05T14:18:32.323068Z",
     "iopub.status.idle": "2023-06-05T14:18:39.913208Z",
     "shell.execute_reply": "2023-06-05T14:18:39.912057Z"
    },
    "papermill": {
     "duration": 7.620949,
     "end_time": "2023-06-05T14:18:39.916507",
     "exception": false,
     "start_time": "2023-06-05T14:18:32.295558",
     "status": "completed"
    },
    "tags": []
   },
   "outputs": [
    {
     "data": {
      "image/png": "[encoded data removed]",
      "text/plain": [
       "<Figure size 800x600 with 2 Axes>"
      ]
     },
     "metadata": {},
     "output_type": "display_data"
    },
    {
     "data": {
      "image/png": "[encoded data removed]",
      "text/plain": [
       "<Figure size 800x600 with 1 Axes>"
      ]
     },
     "metadata": {},
     "output_type": "display_data"
    }
   ],
   "source": [
    "# Sort rules by support in descending order\n",
    "sorted_rules = rules.sort_values(by='support', ascending=False)\n",
    "\n",
    "# Calculate cumulative support\n",
    "cumulative_support = np.cumsum(sorted_rules['support'] / np.sum(sorted_rules['support']) * 100)\n",
    "\n",
    "# Bar plot for Support\n",
    "fig, ax1 = plt.subplots(figsize=(8, 6))\n",
    "ax1.bar(range(len(sorted_rules)), sorted_rules['support'], align='center')\n",
    "plt.xticks(range(len(sorted_rules)), ['' for _ in range(len(sorted_rules))])  # Remove x-axis labels\n",
    "ax1.set_xlabel('Association Rule')\n",
    "ax1.set_ylabel('Support')\n",
    "ax1.set_title('Support of Association Rules')\n",
    "\n",
    "# CDF plot for cumulative support\n",
    "ax2 = ax1.twinx()\n",
    "ax2.plot(range(len(sorted_rules)), cumulative_support, color='#AA4A44', linestyle='--')\n",
    "ax2.set_ylabel('Cumulative Support (%)', c='#AA4A44')\n",
    "\n",
    "plt.tight_layout()\n",
    "plt.show()\n",
    "\n",
    "# Scatter plot for Confidence vs. Support\n",
    "plt.figure(figsize=(8, 6))\n",
    "plt.scatter(rules['support'], rules['confidence'], alpha=0.4)\n",
    "plt.xlabel('Support')\n",
    "plt.ylabel('Confidence')\n",
    "plt.title('Confidence vs. Support of Association Rules')\n",
    "plt.tight_layout()\n",
    "plt.show()"
   ]
  },
  {
   "cell_type": "markdown",
   "id": "c6700d59",
   "metadata": {
    "papermill": {
     "duration": 0.030507,
     "end_time": "2023-06-05T14:18:39.977900",
     "exception": false,
     "start_time": "2023-06-05T14:18:39.947393",
     "status": "completed"
    },
    "tags": []
   },
   "source": [
    "These two visualizations explore the association rules: a bar plot for the support of association rules and a scatter plot for the confidence vs. support of association rules.\n",
    "\n",
    "The bar plot represents the support values of the association rules. Each bar corresponds to a rule, and its height represents the support value, indicating how frequently the rule occurs in the dataset. The y-axis represents the support, while the x-axis does not display any labels, focusing solely on the visualization of support values.\n",
    "\n",
    "The cumulative distribution function (CDF) plot showcases the cumulative support of the association rules as a percentage. It helps understand the distribution of support values across the rules in a cumulative manner. The red dashed line in the CDF plot connects the cumulative support values for each rule, providing insights into the accumulation of support as the rules progress.\n",
    "\n",
    "The scatter plot displays the relationship between confidence and support for the association rules. Each point represents a rule, with the x-axis representing the support and the y-axis representing the confidence. The plot shows how the confidence varies with different levels of support, helping identify any patterns or trends between these two metrics.\n",
    "\n",
    "These visualizations offer valuable insights into the support, confidence, and their relationships within the association rules, aiding in the interpretation and analysis of the rules' strength and significance."
   ]
  },
  {
   "cell_type": "markdown",
   "id": "a7dba173",
   "metadata": {
    "papermill": {
     "duration": 0.029569,
     "end_time": "2023-06-05T14:18:40.037125",
     "exception": false,
     "start_time": "2023-06-05T14:18:40.007556",
     "status": "completed"
    },
    "tags": []
   },
   "source": [
    "## Cross-Selling and Upselling"
   ]
  },
  {
   "cell_type": "code",
   "execution_count": 31,
   "id": "6139f76e",
   "metadata": {
    "execution": {
     "iopub.execute_input": "2023-06-05T14:18:40.098762Z",
     "iopub.status.busy": "2023-06-05T14:18:40.097550Z",
     "iopub.status.idle": "2023-06-05T14:18:40.123026Z",
     "shell.execute_reply": "2023-06-05T14:18:40.121683Z"
    },
    "papermill": {
     "duration": 0.059168,
     "end_time": "2023-06-05T14:18:40.125654",
     "exception": false,
     "start_time": "2023-06-05T14:18:40.066486",
     "status": "completed"
    },
    "tags": []
   },
   "outputs": [
    {
     "name": "stdout",
     "output_type": "stream",
     "text": [
      "Cross-Selling Recommendations:\n",
      "Customers who bought 'BEADED CRYSTAL HEART PINK ON STICK' also bought 'DOTCOM POSTAGE'.\n",
      "Customers who bought 'HERB MARKER THYME' also bought 'HERB MARKER ROSEMARY'.\n",
      "Customers who bought 'HERB MARKER ROSEMARY' also bought 'HERB MARKER THYME'.\n",
      "Customers who bought 'HERB MARKER CHIVES' also bought 'HERB MARKER PARSLEY'.\n",
      "Customers who bought 'REGENCY TEA PLATE PINK' also bought 'REGENCY TEA PLATE GREEN'.\n",
      "\n",
      "Upselling Recommendations:\n",
      "For customers who bought 'HERB MARKER CHIVES', recommend the following upgrades: HERB MARKER PARSLEY, HERB MARKER THYME.\n",
      "For customers who bought 'HERB MARKER CHIVES', recommend the following upgrades: HERB MARKER PARSLEY, HERB MARKER MINT.\n",
      "For customers who bought 'HERB MARKER CHIVES', recommend the following upgrades: HERB MARKER ROSEMARY, HERB MARKER PARSLEY.\n",
      "For customers who bought 'HERB MARKER CHIVES', recommend the following upgrades: HERB MARKER ROSEMARY, HERB MARKER THYME.\n",
      "For customers who bought 'HERB MARKER THYME', recommend the following upgrades: HERB MARKER ROSEMARY, HERB MARKER PARSLEY.\n"
     ]
    }
   ],
   "source": [
    "# Filter association rules for cross-selling opportunities\n",
    "cross_selling_rules = rules[(rules['antecedents'].apply(len) == 1) & (rules['consequents'].apply(len) == 1)]\n",
    "\n",
    "# Sort rules based on confidence and support\n",
    "cross_selling_rules = cross_selling_rules.sort_values(by=['confidence', 'support'], ascending=False)\n",
    "\n",
    "# Select top cross-selling recommendations\n",
    "top_cross_selling = cross_selling_rules.head(5)\n",
    "\n",
    "# Filter association rules for upselling opportunities\n",
    "upselling_rules = rules[(rules['antecedents'].apply(len) == 1) & (rules['consequents'].apply(len) > 1)]\n",
    "\n",
    "# Sort rules based on confidence and support\n",
    "upselling_rules = upselling_rules.sort_values(by=['confidence', 'support'], ascending=False)\n",
    "\n",
    "# Select top upselling recommendations\n",
    "top_upselling = upselling_rules.head(5)\n",
    "\n",
    "# Display cross-selling recommendations\n",
    "print(\"Cross-Selling Recommendations:\")\n",
    "for idx, row in top_cross_selling.iterrows():\n",
    "    antecedent = list(row['antecedents'])[0]\n",
    "    consequent = list(row['consequents'])[0]\n",
    "    print(f\"Customers who bought '{antecedent}' also bought '{consequent}'.\")\n",
    "\n",
    "# Display upselling recommendations\n",
    "print(\"\\nUpselling Recommendations:\")\n",
    "for idx, row in top_upselling.iterrows():\n",
    "    antecedent = list(row['antecedents'])[0]\n",
    "    consequents = list(row['consequents'])\n",
    "    print(f\"For customers who bought '{antecedent}', recommend the following upgrades: {', '.join(consequents)}.\")"
   ]
  },
  {
   "cell_type": "markdown",
   "id": "808774a1",
   "metadata": {
    "papermill": {
     "duration": 0.029034,
     "end_time": "2023-06-05T14:18:40.184050",
     "exception": false,
     "start_time": "2023-06-05T14:18:40.155016",
     "status": "completed"
    },
    "tags": []
   },
   "source": [
    "### Upselling Recommendations\n",
    "\n",
    "During the analysis of upselling opportunities, it was observed that multiple product recommendations were being made for the same item. To address this issue and provide more diverse recommendations, a modification was made to recommend only one product for each top item instead of recommending based on the top confidence values.\n",
    "\n",
    "By implementing this change, we ensure that the upselling recommendations do not repeatedly suggest the same product to customers. This approach enhances the variety of product recommendations and increases the chances of cross-selling and upselling success.\n",
    "\n",
    "The updated recommendation strategy focuses on identifying the top items and selecting a single recommended product for each of them. This adjustment aims to optimize the upselling strategy by suggesting different upgrades or add-on products to customers, resulting in a more compelling and varied range of recommendations."
   ]
  },
  {
   "cell_type": "code",
   "execution_count": 32,
   "id": "b17534b8",
   "metadata": {
    "execution": {
     "iopub.execute_input": "2023-06-05T14:18:40.244215Z",
     "iopub.status.busy": "2023-06-05T14:18:40.243791Z",
     "iopub.status.idle": "2023-06-05T14:18:40.254342Z",
     "shell.execute_reply": "2023-06-05T14:18:40.253390Z"
    },
    "papermill": {
     "duration": 0.043544,
     "end_time": "2023-06-05T14:18:40.256795",
     "exception": false,
     "start_time": "2023-06-05T14:18:40.213251",
     "status": "completed"
    },
    "tags": []
   },
   "outputs": [
    {
     "name": "stdout",
     "output_type": "stream",
     "text": [
      "For customers who bought 'HERB MARKER CHIVES', recommend the following upgrades: HERB MARKER PARSLEY, HERB MARKER THYME.\n",
      "For customers who bought 'HERB MARKER THYME', recommend the following upgrades: HERB MARKER ROSEMARY, HERB MARKER PARSLEY.\n",
      "For customers who bought 'HERB MARKER PARSLEY', recommend the following upgrades: HERB MARKER ROSEMARY, HERB MARKER THYME.\n",
      "For customers who bought 'HERB MARKER ROSEMARY', recommend the following upgrades: HERB MARKER PARSLEY, HERB MARKER THYME.\n",
      "For customers who bought 'REGENCY TEA PLATE PINK', recommend the following upgrades: REGENCY TEA PLATE GREEN, REGENCY TEA PLATE ROSES.\n"
     ]
    }
   ],
   "source": [
    "top_upselling = upselling_rules.sort_values(['confidence', 'support'], ascending=False).drop_duplicates('antecedents')[:5]\n",
    "for idx, row in top_upselling.iterrows():\n",
    "    antecedent = list(row['antecedents'])[0]\n",
    "    consequents = list(row['consequents'])\n",
    "    print(f\"For customers who bought '{antecedent}', recommend the following upgrades: {', '.join(consequents)}.\")"
   ]
  },
  {
   "cell_type": "markdown",
   "id": "08928eff",
   "metadata": {
    "papermill": {
     "duration": 0.028735,
     "end_time": "2023-06-05T14:18:40.314835",
     "exception": false,
     "start_time": "2023-06-05T14:18:40.286100",
     "status": "completed"
    },
    "tags": []
   },
   "source": [
    "# Conclusion"
   ]
  },
  {
   "cell_type": "markdown",
   "id": "410702e0",
   "metadata": {
    "papermill": {
     "duration": 0.029035,
     "end_time": "2023-06-05T14:18:40.373211",
     "exception": false,
     "start_time": "2023-06-05T14:18:40.344176",
     "status": "completed"
    },
    "tags": []
   },
   "source": [
    "In this project, we explored the concept of association rules using the Apriori algorithm and the mlxtend library in Python. Association rules analysis provides valuable insights into the relationships and patterns within a dataset, enabling businesses to uncover hidden associations between items and make informed decisions for various applications.\n",
    "\n",
    "We started by preparing the data and filtering out infrequent items and irrelevant transactions. Then, we generated frequent itemsets and association rules based on predefined thresholds for support and confidence. These rules allowed us to identify significant associations between items and quantify their strength.\n",
    "\n",
    "The generated association rules provided actionable insights for different business scenarios. We explored cross-selling opportunities by identifying products frequently purchased together. By leveraging these associations, businesses can implement effective cross-selling strategies, offering relevant add-on products or upgrades to customers, thereby increasing revenue.\n",
    "\n",
    "Additionally, we examined upselling recommendations, focusing on identifying suitable product upgrades or higher-priced alternatives for customers. By considering only one product recommendation for each top item, we ensured diverse and relevant suggestions, avoiding repetitive recommendations and enhancing the upselling strategy.\n",
    "\n",
    "Furthermore, we discussed the importance of interpreting the support, confidence, lift, leverage, and conviction metrics associated with association rules. These metrics provide quantitative measures of the strength, significance, and impact of the associations, enabling businesses to prioritize and optimize their decision-making processes.\n",
    "\n",
    "Overall, association rules analysis offers valuable insights and practical applications across various domains, such as marketing, product recommendations, cross-selling strategies, and process optimization. By understanding the associations between items, businesses can make data-driven decisions, improve customer satisfaction, enhance marketing campaigns, and drive business growth.\n",
    "\n",
    "It is important to note that the analysis and insights provided in this project are specific to the dataset and parameters used. The results can be further refined and customized based on the specific requirements, domain knowledge, and business objectives.\n"
   ]
  }
 ],
 "metadata": {
  "kernelspec": {
   "display_name": "Python 3",
   "language": "python",
   "name": "python3"
  },
  "language_info": {
   "codemirror_mode": {
    "name": "ipython",
    "version": 3
   },
   "file_extension": ".py",
   "mimetype": "text/x-python",
   "name": "python",
   "nbconvert_exporter": "python",
   "pygments_lexer": "ipython3",
   "version": "3.10.10"
  },
  "papermill": {
   "default_parameters": {},
   "duration": 118.529177,
   "end_time": "2023-06-05T14:18:41.626292",
   "environment_variables": {},
   "exception": null,
   "input_path": "__notebook__.ipynb",
   "output_path": "__notebook__.ipynb",
   "parameters": {},
   "start_time": "2023-06-05T14:16:43.097115",
   "version": "2.4.0"
  }
 },
 "nbformat": 4,
 "nbformat_minor": 5
}
